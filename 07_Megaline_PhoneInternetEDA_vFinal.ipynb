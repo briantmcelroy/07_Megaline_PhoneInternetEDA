{
 "cells": [
  {
   "cell_type": "markdown",
   "metadata": {},
   "source": [
    "<div style=\"border:solid green 2px; padding: 20px\">\n",
    "    \n",
    "<b>Hello, Brian!</b> We're glad to see you in code-reviewer territory. You've done a great job on the project, but let's get to know each other and make it even better! We have our own atmosphere here and a few rules:\n",
    "\n",
    "\n",
    "1. My name is Alexander Matveevsky. I work as a code reviewer, and my main goal is not to point out your mistakes, but to share my experience and help you become a data analyst.\n",
    "2. We speak on a first-come-first-served basis.\n",
    "3. if you want to write or ask a question, don't be shy. Just choose your color for your comment.  \n",
    "4. this is a training project, you don't have to be afraid of making a mistake.  \n",
    "5. You have an unlimited number of attempts to pass the project.  \n",
    "6. Let's Go!\n",
    "\n",
    "\n",
    "---\n",
    "I'll be color-coding comments, please don't delete them:\n",
    "\n",
    "<div class=\"alert alert-block alert-danger\">✍\n",
    "    \n",
    "\n",
    "__Reviewer's comment №1__\n",
    "\n",
    "Needs fixing. The block requires some corrections. Work can't be accepted with the red comments.\n",
    "</div>\n",
    "    \n",
    "---\n",
    "\n",
    "<div class=\"alert alert-block alert-warning\">📝\n",
    "    \n",
    "\n",
    "__Reviewer's comment №1__\n",
    "\n",
    "\n",
    "Remarks. Some recommendations.\n",
    "</div>\n",
    "\n",
    "---\n",
    "\n",
    "<div class=\"alert alert-block alert-success\">✔️\n",
    "    \n",
    "\n",
    "__Reviewer's comment №1__\n",
    "\n",
    "Success. Everything is done succesfully.\n",
    "</div>\n",
    "    \n",
    "---\n",
    "    \n",
    "I suggest that we work on the project in dialogue: if you change something in the project or respond to my comments, write about it. It will be easier for me to track changes if you highlight your comments:   \n",
    "    \n",
    "<div class=\"alert alert-info\"> <b>Student сomments:</b> Student answer..</div>\n",
    "    \n",
    "All this will help to make the recheck of your project faster. If you have any questions about my comments, let me know, we'll figure it out together :)   \n",
    "    \n",
    "---"
   ]
  },
  {
   "cell_type": "markdown",
   "metadata": {},
   "source": [
    "# Which one is a better plan?\n",
    "\n",
    "You work as an analyst for the telecom operator Megaline. The company offers its clients two prepaid plans, Surf and Ultimate. The commercial department wants to know which of the plans brings in more revenue in order to adjust the advertising budget.\n",
    "\n",
    "You are going to carry out a preliminary analysis of the plans based on a relatively small client selection. You'll have the data on 500 Megaline clients: who the clients are, where they're from, which plan they use, and the number of calls they made and text messages they sent in 2018. Your job is to analyze the clients' behavior and determine which prepaid plan brings in more revenue."
   ]
  },
  {
   "cell_type": "markdown",
   "metadata": {},
   "source": [
    "--\n",
    "\n",
    "The ultimate goal is to compare prepaid plans, but first we need to clean and prepare the data, ensure all data is in the correct type, and no duplicate or missing values exist which aren't experimentally significant. I will then engineer some features to the structures that I believe will be useful later. Finally, I will analyze the user data against the plan they are on and post my conclusions on which prepaid plan brings in more revenue."
   ]
  },
  {
   "cell_type": "markdown",
   "metadata": {},
   "source": [
    "<div class=\"alert alert-block alert-success\">✔️\n",
    "    \n",
    "\n",
    "__Reviewer's comment №1__\n",
    "\n",
    "Great!"
   ]
  },
  {
   "cell_type": "markdown",
   "metadata": {},
   "source": [
    "## Initialization"
   ]
  },
  {
   "cell_type": "code",
   "execution_count": 1,
   "metadata": {},
   "outputs": [],
   "source": [
    "# Loading all the libraries\n",
    "import pandas as pd\n",
    "import numpy as np\n",
    "import math as mt\n",
    "from scipy import stats as st\n",
    "from matplotlib import pyplot as plt"
   ]
  },
  {
   "cell_type": "markdown",
   "metadata": {},
   "source": [
    "## Load data"
   ]
  },
  {
   "cell_type": "code",
   "execution_count": 2,
   "metadata": {},
   "outputs": [],
   "source": [
    "# Load the data files into different DataFrames\n",
    "calls = pd.read_csv('/datasets/megaline_calls.csv')\n",
    "internet = pd.read_csv('/datasets/megaline_internet.csv')\n",
    "messages = pd.read_csv('/datasets/megaline_messages.csv')\n",
    "users = pd.read_csv('/datasets/megaline_users.csv')\n",
    "plans = pd.read_csv('/datasets/megaline_plans.csv')"
   ]
  },
  {
   "cell_type": "markdown",
   "metadata": {},
   "source": [
    "## Summarize and prepare the data"
   ]
  },
  {
   "cell_type": "markdown",
   "metadata": {},
   "source": [
    "### The `Calls` Data"
   ]
  },
  {
   "cell_type": "code",
   "execution_count": 3,
   "metadata": {
    "scrolled": false
   },
   "outputs": [
    {
     "name": "stdout",
     "output_type": "stream",
     "text": [
      "<class 'pandas.core.frame.DataFrame'>\n",
      "RangeIndex: 137735 entries, 0 to 137734\n",
      "Data columns (total 4 columns):\n",
      " #   Column     Non-Null Count   Dtype  \n",
      "---  ------     --------------   -----  \n",
      " 0   id         137735 non-null  object \n",
      " 1   user_id    137735 non-null  int64  \n",
      " 2   call_date  137735 non-null  object \n",
      " 3   duration   137735 non-null  float64\n",
      "dtypes: float64(1), int64(1), object(2)\n",
      "memory usage: 4.2+ MB\n"
     ]
    },
    {
     "data": {
      "text/plain": [
       "None"
      ]
     },
     "metadata": {},
     "output_type": "display_data"
    },
    {
     "data": {
      "text/html": [
       "<div>\n",
       "<style scoped>\n",
       "    .dataframe tbody tr th:only-of-type {\n",
       "        vertical-align: middle;\n",
       "    }\n",
       "\n",
       "    .dataframe tbody tr th {\n",
       "        vertical-align: top;\n",
       "    }\n",
       "\n",
       "    .dataframe thead th {\n",
       "        text-align: right;\n",
       "    }\n",
       "</style>\n",
       "<table border=\"1\" class=\"dataframe\">\n",
       "  <thead>\n",
       "    <tr style=\"text-align: right;\">\n",
       "      <th></th>\n",
       "      <th>id</th>\n",
       "      <th>user_id</th>\n",
       "      <th>call_date</th>\n",
       "      <th>duration</th>\n",
       "    </tr>\n",
       "  </thead>\n",
       "  <tbody>\n",
       "    <tr>\n",
       "      <th>126327</th>\n",
       "      <td>1448_76</td>\n",
       "      <td>1448</td>\n",
       "      <td>2018-11-29</td>\n",
       "      <td>11.58</td>\n",
       "    </tr>\n",
       "    <tr>\n",
       "      <th>45718</th>\n",
       "      <td>1164_417</td>\n",
       "      <td>1164</td>\n",
       "      <td>2018-10-20</td>\n",
       "      <td>0.00</td>\n",
       "    </tr>\n",
       "    <tr>\n",
       "      <th>886</th>\n",
       "      <td>1004_422</td>\n",
       "      <td>1004</td>\n",
       "      <td>2018-09-22</td>\n",
       "      <td>15.52</td>\n",
       "    </tr>\n",
       "    <tr>\n",
       "      <th>8819</th>\n",
       "      <td>1041_254</td>\n",
       "      <td>1041</td>\n",
       "      <td>2018-11-11</td>\n",
       "      <td>0.00</td>\n",
       "    </tr>\n",
       "    <tr>\n",
       "      <th>34251</th>\n",
       "      <td>1127_26</td>\n",
       "      <td>1127</td>\n",
       "      <td>2018-10-30</td>\n",
       "      <td>0.00</td>\n",
       "    </tr>\n",
       "  </tbody>\n",
       "</table>\n",
       "</div>"
      ],
      "text/plain": [
       "              id  user_id   call_date  duration\n",
       "126327   1448_76     1448  2018-11-29     11.58\n",
       "45718   1164_417     1164  2018-10-20      0.00\n",
       "886     1004_422     1004  2018-09-22     15.52\n",
       "8819    1041_254     1041  2018-11-11      0.00\n",
       "34251    1127_26     1127  2018-10-30      0.00"
      ]
     },
     "metadata": {},
     "output_type": "display_data"
    }
   ],
   "source": [
    "#Basic info and a couple samples\n",
    "display(calls.info())\n",
    "display(calls.sample(5))"
   ]
  },
  {
   "cell_type": "markdown",
   "metadata": {},
   "source": [
    "The 'id' entry for each call looks to have been generated by taking the 'user_id,' adding an underscore, and ending with a unique number.\n",
    "\n",
    "We will want to convert the 'call_date' column to datetime below. According to the Megaline data, all calls' duration must be rounded up to the nearest minute, so we will need to round up the 'duration' column and convert to int64. Some calls are of duration 0, but we have no reason in the documentation to suggest that a value of zero is erroneous (it likely indicates a call was placed but did not go through).\n",
    "\n",
    "I will do a quick check for duplicates:"
   ]
  },
  {
   "cell_type": "code",
   "execution_count": 4,
   "metadata": {
    "scrolled": true
   },
   "outputs": [
    {
     "data": {
      "text/html": [
       "<div>\n",
       "<style scoped>\n",
       "    .dataframe tbody tr th:only-of-type {\n",
       "        vertical-align: middle;\n",
       "    }\n",
       "\n",
       "    .dataframe tbody tr th {\n",
       "        vertical-align: top;\n",
       "    }\n",
       "\n",
       "    .dataframe thead th {\n",
       "        text-align: right;\n",
       "    }\n",
       "</style>\n",
       "<table border=\"1\" class=\"dataframe\">\n",
       "  <thead>\n",
       "    <tr style=\"text-align: right;\">\n",
       "      <th></th>\n",
       "      <th>id</th>\n",
       "      <th>user_id</th>\n",
       "      <th>call_date</th>\n",
       "      <th>duration</th>\n",
       "    </tr>\n",
       "  </thead>\n",
       "  <tbody>\n",
       "  </tbody>\n",
       "</table>\n",
       "</div>"
      ],
      "text/plain": [
       "Empty DataFrame\n",
       "Columns: [id, user_id, call_date, duration]\n",
       "Index: []"
      ]
     },
     "metadata": {},
     "output_type": "display_data"
    }
   ],
   "source": [
    "#Check for duplicate ids\n",
    "display(calls[calls['id'].duplicated()])"
   ]
  },
  {
   "cell_type": "markdown",
   "metadata": {},
   "source": [
    "There do not appear to be duplicate calls."
   ]
  },
  {
   "cell_type": "markdown",
   "metadata": {},
   "source": [
    "<div class=\"alert alert-block alert-success\">✔️\n",
    "    \n",
    "\n",
    "__Reviewer's comment №1__\n",
    "\n",
    "Duplicate checking is the basis of data preprocessing"
   ]
  },
  {
   "cell_type": "markdown",
   "metadata": {},
   "source": [
    "### The `Internet` Data"
   ]
  },
  {
   "cell_type": "code",
   "execution_count": 5,
   "metadata": {
    "scrolled": false
   },
   "outputs": [
    {
     "name": "stdout",
     "output_type": "stream",
     "text": [
      "<class 'pandas.core.frame.DataFrame'>\n",
      "RangeIndex: 104825 entries, 0 to 104824\n",
      "Data columns (total 4 columns):\n",
      " #   Column        Non-Null Count   Dtype  \n",
      "---  ------        --------------   -----  \n",
      " 0   id            104825 non-null  object \n",
      " 1   user_id       104825 non-null  int64  \n",
      " 2   session_date  104825 non-null  object \n",
      " 3   mb_used       104825 non-null  float64\n",
      "dtypes: float64(1), int64(1), object(2)\n",
      "memory usage: 3.2+ MB\n"
     ]
    },
    {
     "data": {
      "text/plain": [
       "None"
      ]
     },
     "metadata": {},
     "output_type": "display_data"
    },
    {
     "data": {
      "text/html": [
       "<div>\n",
       "<style scoped>\n",
       "    .dataframe tbody tr th:only-of-type {\n",
       "        vertical-align: middle;\n",
       "    }\n",
       "\n",
       "    .dataframe tbody tr th {\n",
       "        vertical-align: top;\n",
       "    }\n",
       "\n",
       "    .dataframe thead th {\n",
       "        text-align: right;\n",
       "    }\n",
       "</style>\n",
       "<table border=\"1\" class=\"dataframe\">\n",
       "  <thead>\n",
       "    <tr style=\"text-align: right;\">\n",
       "      <th></th>\n",
       "      <th>id</th>\n",
       "      <th>user_id</th>\n",
       "      <th>session_date</th>\n",
       "      <th>mb_used</th>\n",
       "    </tr>\n",
       "  </thead>\n",
       "  <tbody>\n",
       "    <tr>\n",
       "      <th>41061</th>\n",
       "      <td>1185_98</td>\n",
       "      <td>1185</td>\n",
       "      <td>2018-05-31</td>\n",
       "      <td>60.91</td>\n",
       "    </tr>\n",
       "    <tr>\n",
       "      <th>16516</th>\n",
       "      <td>1073_464</td>\n",
       "      <td>1073</td>\n",
       "      <td>2018-07-22</td>\n",
       "      <td>543.10</td>\n",
       "    </tr>\n",
       "    <tr>\n",
       "      <th>56695</th>\n",
       "      <td>1256_438</td>\n",
       "      <td>1256</td>\n",
       "      <td>2018-11-26</td>\n",
       "      <td>572.52</td>\n",
       "    </tr>\n",
       "    <tr>\n",
       "      <th>32935</th>\n",
       "      <td>1148_47</td>\n",
       "      <td>1148</td>\n",
       "      <td>2018-12-21</td>\n",
       "      <td>656.36</td>\n",
       "    </tr>\n",
       "    <tr>\n",
       "      <th>38068</th>\n",
       "      <td>1171_439</td>\n",
       "      <td>1171</td>\n",
       "      <td>2018-02-07</td>\n",
       "      <td>570.98</td>\n",
       "    </tr>\n",
       "  </tbody>\n",
       "</table>\n",
       "</div>"
      ],
      "text/plain": [
       "             id  user_id session_date  mb_used\n",
       "41061   1185_98     1185   2018-05-31    60.91\n",
       "16516  1073_464     1073   2018-07-22   543.10\n",
       "56695  1256_438     1256   2018-11-26   572.52\n",
       "32935   1148_47     1148   2018-12-21   656.36\n",
       "38068  1171_439     1171   2018-02-07   570.98"
      ]
     },
     "metadata": {},
     "output_type": "display_data"
    }
   ],
   "source": [
    "#Basic info and a couple samples\n",
    "display(internet.info())\n",
    "display(internet.sample(5))"
   ]
  },
  {
   "cell_type": "markdown",
   "metadata": {},
   "source": [
    "The 'id' entry for each session looks to have been generated by taking the 'user_id,' adding an underscore, and ending with a unique number.\n",
    "\n",
    "We will want to convert the 'session_date' column to datetime below.\n",
    "\n",
    "I will quickly check for duplicate sessions:"
   ]
  },
  {
   "cell_type": "code",
   "execution_count": 6,
   "metadata": {
    "scrolled": true
   },
   "outputs": [
    {
     "data": {
      "text/html": [
       "<div>\n",
       "<style scoped>\n",
       "    .dataframe tbody tr th:only-of-type {\n",
       "        vertical-align: middle;\n",
       "    }\n",
       "\n",
       "    .dataframe tbody tr th {\n",
       "        vertical-align: top;\n",
       "    }\n",
       "\n",
       "    .dataframe thead th {\n",
       "        text-align: right;\n",
       "    }\n",
       "</style>\n",
       "<table border=\"1\" class=\"dataframe\">\n",
       "  <thead>\n",
       "    <tr style=\"text-align: right;\">\n",
       "      <th></th>\n",
       "      <th>id</th>\n",
       "      <th>user_id</th>\n",
       "      <th>session_date</th>\n",
       "      <th>mb_used</th>\n",
       "    </tr>\n",
       "  </thead>\n",
       "  <tbody>\n",
       "  </tbody>\n",
       "</table>\n",
       "</div>"
      ],
      "text/plain": [
       "Empty DataFrame\n",
       "Columns: [id, user_id, session_date, mb_used]\n",
       "Index: []"
      ]
     },
     "metadata": {},
     "output_type": "display_data"
    }
   ],
   "source": [
    "#Check for duplicate ids\n",
    "display(internet[internet['id'].duplicated()])"
   ]
  },
  {
   "cell_type": "markdown",
   "metadata": {},
   "source": [
    "There do not appear to be duplicate sessions."
   ]
  },
  {
   "cell_type": "markdown",
   "metadata": {},
   "source": [
    "### The `Messages` Data"
   ]
  },
  {
   "cell_type": "code",
   "execution_count": 7,
   "metadata": {
    "scrolled": false
   },
   "outputs": [
    {
     "name": "stdout",
     "output_type": "stream",
     "text": [
      "<class 'pandas.core.frame.DataFrame'>\n",
      "RangeIndex: 76051 entries, 0 to 76050\n",
      "Data columns (total 3 columns):\n",
      " #   Column        Non-Null Count  Dtype \n",
      "---  ------        --------------  ----- \n",
      " 0   id            76051 non-null  object\n",
      " 1   user_id       76051 non-null  int64 \n",
      " 2   message_date  76051 non-null  object\n",
      "dtypes: int64(1), object(2)\n",
      "memory usage: 1.7+ MB\n"
     ]
    },
    {
     "data": {
      "text/plain": [
       "None"
      ]
     },
     "metadata": {},
     "output_type": "display_data"
    },
    {
     "data": {
      "text/html": [
       "<div>\n",
       "<style scoped>\n",
       "    .dataframe tbody tr th:only-of-type {\n",
       "        vertical-align: middle;\n",
       "    }\n",
       "\n",
       "    .dataframe tbody tr th {\n",
       "        vertical-align: top;\n",
       "    }\n",
       "\n",
       "    .dataframe thead th {\n",
       "        text-align: right;\n",
       "    }\n",
       "</style>\n",
       "<table border=\"1\" class=\"dataframe\">\n",
       "  <thead>\n",
       "    <tr style=\"text-align: right;\">\n",
       "      <th></th>\n",
       "      <th>id</th>\n",
       "      <th>user_id</th>\n",
       "      <th>message_date</th>\n",
       "    </tr>\n",
       "  </thead>\n",
       "  <tbody>\n",
       "    <tr>\n",
       "      <th>49048</th>\n",
       "      <td>1328_6</td>\n",
       "      <td>1328</td>\n",
       "      <td>2018-10-02</td>\n",
       "    </tr>\n",
       "    <tr>\n",
       "      <th>26753</th>\n",
       "      <td>1164_3</td>\n",
       "      <td>1164</td>\n",
       "      <td>2018-08-15</td>\n",
       "    </tr>\n",
       "    <tr>\n",
       "      <th>35053</th>\n",
       "      <td>1223_153</td>\n",
       "      <td>1223</td>\n",
       "      <td>2018-09-26</td>\n",
       "    </tr>\n",
       "    <tr>\n",
       "      <th>18171</th>\n",
       "      <td>1119_1012</td>\n",
       "      <td>1119</td>\n",
       "      <td>2018-11-28</td>\n",
       "    </tr>\n",
       "    <tr>\n",
       "      <th>12486</th>\n",
       "      <td>1081_244</td>\n",
       "      <td>1081</td>\n",
       "      <td>2018-12-02</td>\n",
       "    </tr>\n",
       "  </tbody>\n",
       "</table>\n",
       "</div>"
      ],
      "text/plain": [
       "              id  user_id message_date\n",
       "49048     1328_6     1328   2018-10-02\n",
       "26753     1164_3     1164   2018-08-15\n",
       "35053   1223_153     1223   2018-09-26\n",
       "18171  1119_1012     1119   2018-11-28\n",
       "12486   1081_244     1081   2018-12-02"
      ]
     },
     "metadata": {},
     "output_type": "display_data"
    }
   ],
   "source": [
    "#Basic info and a couple samples\n",
    "display(messages.info())\n",
    "display(messages.sample(5))"
   ]
  },
  {
   "cell_type": "markdown",
   "metadata": {},
   "source": [
    "The 'id' entry for each session looks to have been generated by taking the 'user_id,' adding an underscore, and ending with a unique number.\n",
    "\n",
    "We will want to convert the 'message_date' column to datetime below.\n",
    "\n",
    "I will quickly check for duplicates:"
   ]
  },
  {
   "cell_type": "code",
   "execution_count": 8,
   "metadata": {
    "scrolled": true
   },
   "outputs": [
    {
     "data": {
      "text/html": [
       "<div>\n",
       "<style scoped>\n",
       "    .dataframe tbody tr th:only-of-type {\n",
       "        vertical-align: middle;\n",
       "    }\n",
       "\n",
       "    .dataframe tbody tr th {\n",
       "        vertical-align: top;\n",
       "    }\n",
       "\n",
       "    .dataframe thead th {\n",
       "        text-align: right;\n",
       "    }\n",
       "</style>\n",
       "<table border=\"1\" class=\"dataframe\">\n",
       "  <thead>\n",
       "    <tr style=\"text-align: right;\">\n",
       "      <th></th>\n",
       "      <th>id</th>\n",
       "      <th>user_id</th>\n",
       "      <th>message_date</th>\n",
       "    </tr>\n",
       "  </thead>\n",
       "  <tbody>\n",
       "  </tbody>\n",
       "</table>\n",
       "</div>"
      ],
      "text/plain": [
       "Empty DataFrame\n",
       "Columns: [id, user_id, message_date]\n",
       "Index: []"
      ]
     },
     "metadata": {},
     "output_type": "display_data"
    }
   ],
   "source": [
    "#Check for duplicate ids\n",
    "display(messages[messages['id'].duplicated()])"
   ]
  },
  {
   "cell_type": "markdown",
   "metadata": {},
   "source": [
    "There do not appear to be duplicate messages."
   ]
  },
  {
   "cell_type": "markdown",
   "metadata": {},
   "source": [
    "### The `Users` Data"
   ]
  },
  {
   "cell_type": "code",
   "execution_count": 9,
   "metadata": {
    "scrolled": false
   },
   "outputs": [
    {
     "name": "stdout",
     "output_type": "stream",
     "text": [
      "<class 'pandas.core.frame.DataFrame'>\n",
      "RangeIndex: 500 entries, 0 to 499\n",
      "Data columns (total 8 columns):\n",
      " #   Column      Non-Null Count  Dtype \n",
      "---  ------      --------------  ----- \n",
      " 0   user_id     500 non-null    int64 \n",
      " 1   first_name  500 non-null    object\n",
      " 2   last_name   500 non-null    object\n",
      " 3   age         500 non-null    int64 \n",
      " 4   city        500 non-null    object\n",
      " 5   reg_date    500 non-null    object\n",
      " 6   plan        500 non-null    object\n",
      " 7   churn_date  34 non-null     object\n",
      "dtypes: int64(2), object(6)\n",
      "memory usage: 31.4+ KB\n"
     ]
    },
    {
     "data": {
      "text/plain": [
       "None"
      ]
     },
     "metadata": {},
     "output_type": "display_data"
    },
    {
     "data": {
      "text/html": [
       "<div>\n",
       "<style scoped>\n",
       "    .dataframe tbody tr th:only-of-type {\n",
       "        vertical-align: middle;\n",
       "    }\n",
       "\n",
       "    .dataframe tbody tr th {\n",
       "        vertical-align: top;\n",
       "    }\n",
       "\n",
       "    .dataframe thead th {\n",
       "        text-align: right;\n",
       "    }\n",
       "</style>\n",
       "<table border=\"1\" class=\"dataframe\">\n",
       "  <thead>\n",
       "    <tr style=\"text-align: right;\">\n",
       "      <th></th>\n",
       "      <th>user_id</th>\n",
       "      <th>first_name</th>\n",
       "      <th>last_name</th>\n",
       "      <th>age</th>\n",
       "      <th>city</th>\n",
       "      <th>reg_date</th>\n",
       "      <th>plan</th>\n",
       "      <th>churn_date</th>\n",
       "    </tr>\n",
       "  </thead>\n",
       "  <tbody>\n",
       "    <tr>\n",
       "      <th>412</th>\n",
       "      <td>1412</td>\n",
       "      <td>Cortez</td>\n",
       "      <td>Reese</td>\n",
       "      <td>61</td>\n",
       "      <td>Detroit-Warren-Dearborn, MI MSA</td>\n",
       "      <td>2018-04-08</td>\n",
       "      <td>ultimate</td>\n",
       "      <td>NaN</td>\n",
       "    </tr>\n",
       "    <tr>\n",
       "      <th>379</th>\n",
       "      <td>1379</td>\n",
       "      <td>Jarrett</td>\n",
       "      <td>Spencer</td>\n",
       "      <td>34</td>\n",
       "      <td>Grand Rapids-Kentwood, MI MSA</td>\n",
       "      <td>2018-10-18</td>\n",
       "      <td>surf</td>\n",
       "      <td>NaN</td>\n",
       "    </tr>\n",
       "    <tr>\n",
       "      <th>269</th>\n",
       "      <td>1269</td>\n",
       "      <td>Irving</td>\n",
       "      <td>Thompson</td>\n",
       "      <td>39</td>\n",
       "      <td>Dallas-Fort Worth-Arlington, TX MSA</td>\n",
       "      <td>2018-09-13</td>\n",
       "      <td>ultimate</td>\n",
       "      <td>2018-12-15</td>\n",
       "    </tr>\n",
       "    <tr>\n",
       "      <th>59</th>\n",
       "      <td>1059</td>\n",
       "      <td>Avril</td>\n",
       "      <td>Richardson</td>\n",
       "      <td>34</td>\n",
       "      <td>Chicago-Naperville-Elgin, IL-IN-WI MSA</td>\n",
       "      <td>2018-04-22</td>\n",
       "      <td>ultimate</td>\n",
       "      <td>NaN</td>\n",
       "    </tr>\n",
       "    <tr>\n",
       "      <th>349</th>\n",
       "      <td>1349</td>\n",
       "      <td>Florentina</td>\n",
       "      <td>Diaz</td>\n",
       "      <td>69</td>\n",
       "      <td>Boston-Cambridge-Newton, MA-NH MSA</td>\n",
       "      <td>2018-10-01</td>\n",
       "      <td>surf</td>\n",
       "      <td>NaN</td>\n",
       "    </tr>\n",
       "  </tbody>\n",
       "</table>\n",
       "</div>"
      ],
      "text/plain": [
       "     user_id  first_name   last_name  age  \\\n",
       "412     1412      Cortez       Reese   61   \n",
       "379     1379     Jarrett     Spencer   34   \n",
       "269     1269      Irving    Thompson   39   \n",
       "59      1059       Avril  Richardson   34   \n",
       "349     1349  Florentina        Diaz   69   \n",
       "\n",
       "                                       city    reg_date      plan  churn_date  \n",
       "412         Detroit-Warren-Dearborn, MI MSA  2018-04-08  ultimate         NaN  \n",
       "379           Grand Rapids-Kentwood, MI MSA  2018-10-18      surf         NaN  \n",
       "269     Dallas-Fort Worth-Arlington, TX MSA  2018-09-13  ultimate  2018-12-15  \n",
       "59   Chicago-Naperville-Elgin, IL-IN-WI MSA  2018-04-22  ultimate         NaN  \n",
       "349      Boston-Cambridge-Newton, MA-NH MSA  2018-10-01      surf         NaN  "
      ]
     },
     "metadata": {},
     "output_type": "display_data"
    }
   ],
   "source": [
    "#Basic info and a couple samples\n",
    "display(users.info())\n",
    "display(users.sample(5))"
   ]
  },
  {
   "cell_type": "markdown",
   "metadata": {},
   "source": [
    "The 'id' entry for each session looks to have been generated by taking the 'user_id,' adding an underscore, and ending with a unique number.\n",
    "\n",
    "We will want to convert the 'reg_date' and 'churn_date' columns to datetime below. There are a lot of missing items in the 'churn_date' columns, but the documentation indicates that missing data here indicates the plan was still active when the database was extracted. We'll leave the NaNs.\n",
    "\n",
    "I will do a quick survey of the ids, as there could be duplicates hiding:"
   ]
  },
  {
   "cell_type": "code",
   "execution_count": 10,
   "metadata": {
    "scrolled": false
   },
   "outputs": [
    {
     "data": {
      "text/html": [
       "<div>\n",
       "<style scoped>\n",
       "    .dataframe tbody tr th:only-of-type {\n",
       "        vertical-align: middle;\n",
       "    }\n",
       "\n",
       "    .dataframe tbody tr th {\n",
       "        vertical-align: top;\n",
       "    }\n",
       "\n",
       "    .dataframe thead th {\n",
       "        text-align: right;\n",
       "    }\n",
       "</style>\n",
       "<table border=\"1\" class=\"dataframe\">\n",
       "  <thead>\n",
       "    <tr style=\"text-align: right;\">\n",
       "      <th></th>\n",
       "      <th>user_id</th>\n",
       "      <th>first_name</th>\n",
       "      <th>last_name</th>\n",
       "      <th>age</th>\n",
       "      <th>city</th>\n",
       "      <th>reg_date</th>\n",
       "      <th>plan</th>\n",
       "      <th>churn_date</th>\n",
       "    </tr>\n",
       "  </thead>\n",
       "  <tbody>\n",
       "  </tbody>\n",
       "</table>\n",
       "</div>"
      ],
      "text/plain": [
       "Empty DataFrame\n",
       "Columns: [user_id, first_name, last_name, age, city, reg_date, plan, churn_date]\n",
       "Index: []"
      ]
     },
     "metadata": {},
     "output_type": "display_data"
    }
   ],
   "source": [
    "#Check for duplicate user ids\n",
    "display(users[users['user_id'].duplicated()])"
   ]
  },
  {
   "cell_type": "markdown",
   "metadata": {},
   "source": [
    "There do not appear to be duplicate users. Finally, I will check the 'plans' column to ensure there are only two plans represented, and to count the relative number of users on each plan."
   ]
  },
  {
   "cell_type": "code",
   "execution_count": 11,
   "metadata": {
    "scrolled": true
   },
   "outputs": [
    {
     "data": {
      "text/plain": [
       "surf        339\n",
       "ultimate    161\n",
       "Name: plan, dtype: int64"
      ]
     },
     "metadata": {},
     "output_type": "display_data"
    }
   ],
   "source": [
    "#Count users on each plan\n",
    "display(users['plan'].value_counts())"
   ]
  },
  {
   "cell_type": "markdown",
   "metadata": {},
   "source": [
    "There are just over twice as many clients on the Surf plan as are on the Ultimate plan."
   ]
  },
  {
   "cell_type": "markdown",
   "metadata": {},
   "source": [
    "<div class=\"alert alert-block alert-success\">✔️\n",
    "    \n",
    "\n",
    "__Reviewer's comment №1__\n",
    "\n",
    "Correct"
   ]
  },
  {
   "cell_type": "markdown",
   "metadata": {},
   "source": [
    "### The `Plans` Data"
   ]
  },
  {
   "cell_type": "code",
   "execution_count": 12,
   "metadata": {
    "scrolled": false
   },
   "outputs": [
    {
     "name": "stdout",
     "output_type": "stream",
     "text": [
      "<class 'pandas.core.frame.DataFrame'>\n",
      "RangeIndex: 2 entries, 0 to 1\n",
      "Data columns (total 8 columns):\n",
      " #   Column                 Non-Null Count  Dtype  \n",
      "---  ------                 --------------  -----  \n",
      " 0   messages_included      2 non-null      int64  \n",
      " 1   mb_per_month_included  2 non-null      int64  \n",
      " 2   minutes_included       2 non-null      int64  \n",
      " 3   usd_monthly_pay        2 non-null      int64  \n",
      " 4   usd_per_gb             2 non-null      int64  \n",
      " 5   usd_per_message        2 non-null      float64\n",
      " 6   usd_per_minute         2 non-null      float64\n",
      " 7   plan_name              2 non-null      object \n",
      "dtypes: float64(2), int64(5), object(1)\n",
      "memory usage: 256.0+ bytes\n"
     ]
    },
    {
     "data": {
      "text/plain": [
       "None"
      ]
     },
     "metadata": {},
     "output_type": "display_data"
    },
    {
     "data": {
      "text/html": [
       "<div>\n",
       "<style scoped>\n",
       "    .dataframe tbody tr th:only-of-type {\n",
       "        vertical-align: middle;\n",
       "    }\n",
       "\n",
       "    .dataframe tbody tr th {\n",
       "        vertical-align: top;\n",
       "    }\n",
       "\n",
       "    .dataframe thead th {\n",
       "        text-align: right;\n",
       "    }\n",
       "</style>\n",
       "<table border=\"1\" class=\"dataframe\">\n",
       "  <thead>\n",
       "    <tr style=\"text-align: right;\">\n",
       "      <th></th>\n",
       "      <th>messages_included</th>\n",
       "      <th>mb_per_month_included</th>\n",
       "      <th>minutes_included</th>\n",
       "      <th>usd_monthly_pay</th>\n",
       "      <th>usd_per_gb</th>\n",
       "      <th>usd_per_message</th>\n",
       "      <th>usd_per_minute</th>\n",
       "      <th>plan_name</th>\n",
       "    </tr>\n",
       "  </thead>\n",
       "  <tbody>\n",
       "    <tr>\n",
       "      <th>0</th>\n",
       "      <td>50</td>\n",
       "      <td>15360</td>\n",
       "      <td>500</td>\n",
       "      <td>20</td>\n",
       "      <td>10</td>\n",
       "      <td>0.03</td>\n",
       "      <td>0.03</td>\n",
       "      <td>surf</td>\n",
       "    </tr>\n",
       "    <tr>\n",
       "      <th>1</th>\n",
       "      <td>1000</td>\n",
       "      <td>30720</td>\n",
       "      <td>3000</td>\n",
       "      <td>70</td>\n",
       "      <td>7</td>\n",
       "      <td>0.01</td>\n",
       "      <td>0.01</td>\n",
       "      <td>ultimate</td>\n",
       "    </tr>\n",
       "  </tbody>\n",
       "</table>\n",
       "</div>"
      ],
      "text/plain": [
       "   messages_included  mb_per_month_included  minutes_included  \\\n",
       "0                 50                  15360               500   \n",
       "1               1000                  30720              3000   \n",
       "\n",
       "   usd_monthly_pay  usd_per_gb  usd_per_message  usd_per_minute plan_name  \n",
       "0               20          10             0.03            0.03      surf  \n",
       "1               70           7             0.01            0.01  ultimate  "
      ]
     },
     "metadata": {},
     "output_type": "display_data"
    }
   ],
   "source": [
    "# Print the general/summary information about the plans' DataFrame\n",
    "display(plans.info())\n",
    "\n",
    "# Print a sample of data for plans\n",
    "display(plans)"
   ]
  },
  {
   "cell_type": "markdown",
   "metadata": {},
   "source": [
    "The above numbers are primarily of data type int64, except for those denoting fractions of USD (cents) in the 'usd_per_message' and 'usd_per_minute' columns. The Surf plan is clearly intended for clients who will use less data and traffic, and it scales three times as sharply after going over usage limits than the Ultimate plan. The Ultimate plan has similar data included compared to the Surf plan (only twice what the Surf plan offers), but it has 6 times the minutes included and 20 times the messages included. The plans clearly expect similar client usage of data per month, but a difference for some users in the amount of messages and calls they make.\n",
    "\n",
    "There is a discrepancy in units, however, as the 'mb_per_month_included' column uses megabytes (mb), while the 'usd_per_gb' column uses gigabytes (gb). I believe it is worth adding a column for gb_per_month_included to keep units straight during later calculations. "
   ]
  },
  {
   "cell_type": "markdown",
   "metadata": {},
   "source": [
    "## Fix and enrich the data"
   ]
  },
  {
   "cell_type": "markdown",
   "metadata": {},
   "source": [
    "### Calls"
   ]
  },
  {
   "cell_type": "markdown",
   "metadata": {},
   "source": [
    "#### Fix data"
   ]
  },
  {
   "cell_type": "markdown",
   "metadata": {},
   "source": [
    "Based on the summary analysis above, we determined we needed to convert the 'call_date' column to datetime and round up the 'duration' column and convert to int64. We can do this here and sample the result."
   ]
  },
  {
   "cell_type": "code",
   "execution_count": 13,
   "metadata": {},
   "outputs": [
    {
     "name": "stdout",
     "output_type": "stream",
     "text": [
      "<class 'pandas.core.frame.DataFrame'>\n",
      "RangeIndex: 137735 entries, 0 to 137734\n",
      "Data columns (total 4 columns):\n",
      " #   Column     Non-Null Count   Dtype         \n",
      "---  ------     --------------   -----         \n",
      " 0   id         137735 non-null  object        \n",
      " 1   user_id    137735 non-null  int64         \n",
      " 2   call_date  137735 non-null  datetime64[ns]\n",
      " 3   duration   137735 non-null  int64         \n",
      "dtypes: datetime64[ns](1), int64(2), object(1)\n",
      "memory usage: 4.2+ MB\n"
     ]
    },
    {
     "data": {
      "text/html": [
       "<div>\n",
       "<style scoped>\n",
       "    .dataframe tbody tr th:only-of-type {\n",
       "        vertical-align: middle;\n",
       "    }\n",
       "\n",
       "    .dataframe tbody tr th {\n",
       "        vertical-align: top;\n",
       "    }\n",
       "\n",
       "    .dataframe thead th {\n",
       "        text-align: right;\n",
       "    }\n",
       "</style>\n",
       "<table border=\"1\" class=\"dataframe\">\n",
       "  <thead>\n",
       "    <tr style=\"text-align: right;\">\n",
       "      <th></th>\n",
       "      <th>id</th>\n",
       "      <th>user_id</th>\n",
       "      <th>call_date</th>\n",
       "      <th>duration</th>\n",
       "    </tr>\n",
       "  </thead>\n",
       "  <tbody>\n",
       "    <tr>\n",
       "      <th>66226</th>\n",
       "      <td>1240_84</td>\n",
       "      <td>1240</td>\n",
       "      <td>2018-08-24</td>\n",
       "      <td>0</td>\n",
       "    </tr>\n",
       "    <tr>\n",
       "      <th>29021</th>\n",
       "      <td>1110_72</td>\n",
       "      <td>1110</td>\n",
       "      <td>2018-08-14</td>\n",
       "      <td>6</td>\n",
       "    </tr>\n",
       "    <tr>\n",
       "      <th>100687</th>\n",
       "      <td>1359_572</td>\n",
       "      <td>1359</td>\n",
       "      <td>2018-02-12</td>\n",
       "      <td>6</td>\n",
       "    </tr>\n",
       "    <tr>\n",
       "      <th>45048</th>\n",
       "      <td>1163_107</td>\n",
       "      <td>1163</td>\n",
       "      <td>2018-12-22</td>\n",
       "      <td>16</td>\n",
       "    </tr>\n",
       "    <tr>\n",
       "      <th>132694</th>\n",
       "      <td>1478_148</td>\n",
       "      <td>1478</td>\n",
       "      <td>2018-08-27</td>\n",
       "      <td>0</td>\n",
       "    </tr>\n",
       "  </tbody>\n",
       "</table>\n",
       "</div>"
      ],
      "text/plain": [
       "              id  user_id  call_date  duration\n",
       "66226    1240_84     1240 2018-08-24         0\n",
       "29021    1110_72     1110 2018-08-14         6\n",
       "100687  1359_572     1359 2018-02-12         6\n",
       "45048   1163_107     1163 2018-12-22        16\n",
       "132694  1478_148     1478 2018-08-27         0"
      ]
     },
     "metadata": {},
     "output_type": "display_data"
    }
   ],
   "source": [
    "#Convert to datetime. Sample: 2018-10-28\n",
    "calls['call_date'] = pd.to_datetime(calls['call_date'], format='%Y-%m-%d')\n",
    "\n",
    "#Round up the durations to nearest minute and convert to int64\n",
    "calls['duration'] = np.ceil(calls['duration'])\n",
    "calls['duration'] = calls['duration'].astype('int64')\n",
    "\n",
    "#Print corrected output\n",
    "calls.info()\n",
    "display(calls.sample(5))"
   ]
  },
  {
   "cell_type": "markdown",
   "metadata": {},
   "source": [
    "<div class=\"alert alert-block alert-success\">✔️\n",
    "    \n",
    "\n",
    "__Reviewer's comment №1__\n",
    "\n",
    "Good for you for using the np.ceil() method"
   ]
  },
  {
   "cell_type": "markdown",
   "metadata": {},
   "source": [
    "#### Enrich data"
   ]
  },
  {
   "cell_type": "markdown",
   "metadata": {},
   "source": [
    "We could add a column that indicates cost per call somehow, but the `calls` dataframe does not have information on pricing or plan subscription. We'd be making two columns unnecessarily unless we cross-referenced to the `plans` dataframe. Instead, to make later processing easier, I'll add a 'month' column."
   ]
  },
  {
   "cell_type": "code",
   "execution_count": 14,
   "metadata": {
    "scrolled": true
   },
   "outputs": [
    {
     "data": {
      "text/html": [
       "<div>\n",
       "<style scoped>\n",
       "    .dataframe tbody tr th:only-of-type {\n",
       "        vertical-align: middle;\n",
       "    }\n",
       "\n",
       "    .dataframe tbody tr th {\n",
       "        vertical-align: top;\n",
       "    }\n",
       "\n",
       "    .dataframe thead th {\n",
       "        text-align: right;\n",
       "    }\n",
       "</style>\n",
       "<table border=\"1\" class=\"dataframe\">\n",
       "  <thead>\n",
       "    <tr style=\"text-align: right;\">\n",
       "      <th></th>\n",
       "      <th>id</th>\n",
       "      <th>user_id</th>\n",
       "      <th>call_date</th>\n",
       "      <th>duration</th>\n",
       "      <th>month</th>\n",
       "    </tr>\n",
       "  </thead>\n",
       "  <tbody>\n",
       "    <tr>\n",
       "      <th>12258</th>\n",
       "      <td>1053_578</td>\n",
       "      <td>1053</td>\n",
       "      <td>2018-11-30</td>\n",
       "      <td>9</td>\n",
       "      <td>11</td>\n",
       "    </tr>\n",
       "    <tr>\n",
       "      <th>26811</th>\n",
       "      <td>1101_138</td>\n",
       "      <td>1101</td>\n",
       "      <td>2018-05-18</td>\n",
       "      <td>10</td>\n",
       "      <td>5</td>\n",
       "    </tr>\n",
       "    <tr>\n",
       "      <th>113536</th>\n",
       "      <td>1399_159</td>\n",
       "      <td>1399</td>\n",
       "      <td>2018-08-05</td>\n",
       "      <td>10</td>\n",
       "      <td>8</td>\n",
       "    </tr>\n",
       "    <tr>\n",
       "      <th>103283</th>\n",
       "      <td>1365_479</td>\n",
       "      <td>1365</td>\n",
       "      <td>2018-08-16</td>\n",
       "      <td>0</td>\n",
       "      <td>8</td>\n",
       "    </tr>\n",
       "    <tr>\n",
       "      <th>96076</th>\n",
       "      <td>1341_91</td>\n",
       "      <td>1341</td>\n",
       "      <td>2018-12-30</td>\n",
       "      <td>0</td>\n",
       "      <td>12</td>\n",
       "    </tr>\n",
       "  </tbody>\n",
       "</table>\n",
       "</div>"
      ],
      "text/plain": [
       "              id  user_id  call_date  duration  month\n",
       "12258   1053_578     1053 2018-11-30         9     11\n",
       "26811   1101_138     1101 2018-05-18        10      5\n",
       "113536  1399_159     1399 2018-08-05        10      8\n",
       "103283  1365_479     1365 2018-08-16         0      8\n",
       "96076    1341_91     1341 2018-12-30         0     12"
      ]
     },
     "metadata": {},
     "output_type": "display_data"
    }
   ],
   "source": [
    "#Access the .dt.month attribute of each call_date\n",
    "calls['month'] = calls['call_date'].dt.month\n",
    "display(calls.sample(5))"
   ]
  },
  {
   "cell_type": "markdown",
   "metadata": {},
   "source": [
    "### Internet"
   ]
  },
  {
   "cell_type": "markdown",
   "metadata": {},
   "source": [
    "#### Fix Data"
   ]
  },
  {
   "cell_type": "markdown",
   "metadata": {},
   "source": [
    "Based on the summary analysis above, we determined we needed to convert the 'session_date' column to datetime. We do not need to round the 'mb_used' column as the documentation shows individual web sessions are not rounded up in the plan pricing. We can do this here and sample the result."
   ]
  },
  {
   "cell_type": "code",
   "execution_count": 15,
   "metadata": {},
   "outputs": [
    {
     "name": "stdout",
     "output_type": "stream",
     "text": [
      "<class 'pandas.core.frame.DataFrame'>\n",
      "RangeIndex: 104825 entries, 0 to 104824\n",
      "Data columns (total 4 columns):\n",
      " #   Column        Non-Null Count   Dtype         \n",
      "---  ------        --------------   -----         \n",
      " 0   id            104825 non-null  object        \n",
      " 1   user_id       104825 non-null  int64         \n",
      " 2   session_date  104825 non-null  datetime64[ns]\n",
      " 3   mb_used       104825 non-null  float64       \n",
      "dtypes: datetime64[ns](1), float64(1), int64(1), object(1)\n",
      "memory usage: 3.2+ MB\n"
     ]
    },
    {
     "data": {
      "text/html": [
       "<div>\n",
       "<style scoped>\n",
       "    .dataframe tbody tr th:only-of-type {\n",
       "        vertical-align: middle;\n",
       "    }\n",
       "\n",
       "    .dataframe tbody tr th {\n",
       "        vertical-align: top;\n",
       "    }\n",
       "\n",
       "    .dataframe thead th {\n",
       "        text-align: right;\n",
       "    }\n",
       "</style>\n",
       "<table border=\"1\" class=\"dataframe\">\n",
       "  <thead>\n",
       "    <tr style=\"text-align: right;\">\n",
       "      <th></th>\n",
       "      <th>id</th>\n",
       "      <th>user_id</th>\n",
       "      <th>session_date</th>\n",
       "      <th>mb_used</th>\n",
       "    </tr>\n",
       "  </thead>\n",
       "  <tbody>\n",
       "    <tr>\n",
       "      <th>88275</th>\n",
       "      <td>1407_140</td>\n",
       "      <td>1407</td>\n",
       "      <td>2018-12-13</td>\n",
       "      <td>0.00</td>\n",
       "    </tr>\n",
       "    <tr>\n",
       "      <th>13867</th>\n",
       "      <td>1064_315</td>\n",
       "      <td>1064</td>\n",
       "      <td>2018-10-07</td>\n",
       "      <td>616.88</td>\n",
       "    </tr>\n",
       "    <tr>\n",
       "      <th>54570</th>\n",
       "      <td>1246_471</td>\n",
       "      <td>1246</td>\n",
       "      <td>2018-02-02</td>\n",
       "      <td>511.45</td>\n",
       "    </tr>\n",
       "    <tr>\n",
       "      <th>33008</th>\n",
       "      <td>1148_184</td>\n",
       "      <td>1148</td>\n",
       "      <td>2018-11-23</td>\n",
       "      <td>708.31</td>\n",
       "    </tr>\n",
       "    <tr>\n",
       "      <th>20192</th>\n",
       "      <td>1091_8</td>\n",
       "      <td>1091</td>\n",
       "      <td>2018-11-09</td>\n",
       "      <td>275.77</td>\n",
       "    </tr>\n",
       "  </tbody>\n",
       "</table>\n",
       "</div>"
      ],
      "text/plain": [
       "             id  user_id session_date  mb_used\n",
       "88275  1407_140     1407   2018-12-13     0.00\n",
       "13867  1064_315     1064   2018-10-07   616.88\n",
       "54570  1246_471     1246   2018-02-02   511.45\n",
       "33008  1148_184     1148   2018-11-23   708.31\n",
       "20192    1091_8     1091   2018-11-09   275.77"
      ]
     },
     "metadata": {},
     "output_type": "display_data"
    }
   ],
   "source": [
    "#Convert to datetime. Sample: 2018-10-28\n",
    "internet['session_date'] = pd.to_datetime(internet['session_date'], format='%Y-%m-%d')\n",
    "\n",
    "#Print corrected output\n",
    "internet.info()\n",
    "display(internet.sample(5))"
   ]
  },
  {
   "cell_type": "markdown",
   "metadata": {},
   "source": [
    "#### Enrich Data"
   ]
  },
  {
   "cell_type": "markdown",
   "metadata": {},
   "source": [
    "We could add a column that indicates cost per session somehow, but the `internet` dataframe does not have information on pricing or plan subscription. We'd be making two columns unnecessarily unless we cross-referenced to the `plans` dataframe. Instead, to make later processing easier, I'll add a 'month' column."
   ]
  },
  {
   "cell_type": "code",
   "execution_count": 16,
   "metadata": {
    "scrolled": true
   },
   "outputs": [
    {
     "data": {
      "text/html": [
       "<div>\n",
       "<style scoped>\n",
       "    .dataframe tbody tr th:only-of-type {\n",
       "        vertical-align: middle;\n",
       "    }\n",
       "\n",
       "    .dataframe tbody tr th {\n",
       "        vertical-align: top;\n",
       "    }\n",
       "\n",
       "    .dataframe thead th {\n",
       "        text-align: right;\n",
       "    }\n",
       "</style>\n",
       "<table border=\"1\" class=\"dataframe\">\n",
       "  <thead>\n",
       "    <tr style=\"text-align: right;\">\n",
       "      <th></th>\n",
       "      <th>id</th>\n",
       "      <th>user_id</th>\n",
       "      <th>session_date</th>\n",
       "      <th>mb_used</th>\n",
       "      <th>month</th>\n",
       "    </tr>\n",
       "  </thead>\n",
       "  <tbody>\n",
       "    <tr>\n",
       "      <th>60975</th>\n",
       "      <td>1277_278</td>\n",
       "      <td>1277</td>\n",
       "      <td>2018-09-24</td>\n",
       "      <td>609.67</td>\n",
       "      <td>9</td>\n",
       "    </tr>\n",
       "    <tr>\n",
       "      <th>18462</th>\n",
       "      <td>1082_169</td>\n",
       "      <td>1082</td>\n",
       "      <td>2018-12-08</td>\n",
       "      <td>705.11</td>\n",
       "      <td>12</td>\n",
       "    </tr>\n",
       "    <tr>\n",
       "      <th>33046</th>\n",
       "      <td>1149_37</td>\n",
       "      <td>1149</td>\n",
       "      <td>2018-12-30</td>\n",
       "      <td>304.52</td>\n",
       "      <td>12</td>\n",
       "    </tr>\n",
       "    <tr>\n",
       "      <th>72078</th>\n",
       "      <td>1336_87</td>\n",
       "      <td>1336</td>\n",
       "      <td>2018-11-28</td>\n",
       "      <td>465.82</td>\n",
       "      <td>11</td>\n",
       "    </tr>\n",
       "    <tr>\n",
       "      <th>42061</th>\n",
       "      <td>1187_238</td>\n",
       "      <td>1187</td>\n",
       "      <td>2018-12-09</td>\n",
       "      <td>254.82</td>\n",
       "      <td>12</td>\n",
       "    </tr>\n",
       "  </tbody>\n",
       "</table>\n",
       "</div>"
      ],
      "text/plain": [
       "             id  user_id session_date  mb_used  month\n",
       "60975  1277_278     1277   2018-09-24   609.67      9\n",
       "18462  1082_169     1082   2018-12-08   705.11     12\n",
       "33046   1149_37     1149   2018-12-30   304.52     12\n",
       "72078   1336_87     1336   2018-11-28   465.82     11\n",
       "42061  1187_238     1187   2018-12-09   254.82     12"
      ]
     },
     "metadata": {},
     "output_type": "display_data"
    }
   ],
   "source": [
    "#Access the .dt.month attribute of each session_date\n",
    "internet['month'] = internet['session_date'].dt.month\n",
    "display(internet.sample(5))"
   ]
  },
  {
   "cell_type": "markdown",
   "metadata": {},
   "source": [
    "### Messages"
   ]
  },
  {
   "cell_type": "markdown",
   "metadata": {},
   "source": [
    "#### Fix data"
   ]
  },
  {
   "cell_type": "markdown",
   "metadata": {},
   "source": [
    "Based on the summary analysis above, we determined we needed to convert the 'message_date' column to datetime. We can do this here and sample the result."
   ]
  },
  {
   "cell_type": "code",
   "execution_count": 17,
   "metadata": {
    "scrolled": true
   },
   "outputs": [
    {
     "name": "stdout",
     "output_type": "stream",
     "text": [
      "<class 'pandas.core.frame.DataFrame'>\n",
      "RangeIndex: 76051 entries, 0 to 76050\n",
      "Data columns (total 3 columns):\n",
      " #   Column        Non-Null Count  Dtype         \n",
      "---  ------        --------------  -----         \n",
      " 0   id            76051 non-null  object        \n",
      " 1   user_id       76051 non-null  int64         \n",
      " 2   message_date  76051 non-null  datetime64[ns]\n",
      "dtypes: datetime64[ns](1), int64(1), object(1)\n",
      "memory usage: 1.7+ MB\n"
     ]
    },
    {
     "data": {
      "text/html": [
       "<div>\n",
       "<style scoped>\n",
       "    .dataframe tbody tr th:only-of-type {\n",
       "        vertical-align: middle;\n",
       "    }\n",
       "\n",
       "    .dataframe tbody tr th {\n",
       "        vertical-align: top;\n",
       "    }\n",
       "\n",
       "    .dataframe thead th {\n",
       "        text-align: right;\n",
       "    }\n",
       "</style>\n",
       "<table border=\"1\" class=\"dataframe\">\n",
       "  <thead>\n",
       "    <tr style=\"text-align: right;\">\n",
       "      <th></th>\n",
       "      <th>id</th>\n",
       "      <th>user_id</th>\n",
       "      <th>message_date</th>\n",
       "    </tr>\n",
       "  </thead>\n",
       "  <tbody>\n",
       "    <tr>\n",
       "      <th>66017</th>\n",
       "      <td>1431_56</td>\n",
       "      <td>1431</td>\n",
       "      <td>2018-12-25</td>\n",
       "    </tr>\n",
       "    <tr>\n",
       "      <th>72091</th>\n",
       "      <td>1467_423</td>\n",
       "      <td>1467</td>\n",
       "      <td>2018-11-24</td>\n",
       "    </tr>\n",
       "    <tr>\n",
       "      <th>71720</th>\n",
       "      <td>1467_52</td>\n",
       "      <td>1467</td>\n",
       "      <td>2018-12-03</td>\n",
       "    </tr>\n",
       "    <tr>\n",
       "      <th>56816</th>\n",
       "      <td>1361_168</td>\n",
       "      <td>1361</td>\n",
       "      <td>2018-08-11</td>\n",
       "    </tr>\n",
       "    <tr>\n",
       "      <th>40249</th>\n",
       "      <td>1259_320</td>\n",
       "      <td>1259</td>\n",
       "      <td>2018-06-17</td>\n",
       "    </tr>\n",
       "  </tbody>\n",
       "</table>\n",
       "</div>"
      ],
      "text/plain": [
       "             id  user_id message_date\n",
       "66017   1431_56     1431   2018-12-25\n",
       "72091  1467_423     1467   2018-11-24\n",
       "71720   1467_52     1467   2018-12-03\n",
       "56816  1361_168     1361   2018-08-11\n",
       "40249  1259_320     1259   2018-06-17"
      ]
     },
     "metadata": {},
     "output_type": "display_data"
    }
   ],
   "source": [
    "#Convert to datetime. Sample: 2018-10-28\n",
    "messages['message_date'] = pd.to_datetime(messages['message_date'], format='%Y-%m-%d')\n",
    "\n",
    "#Print corrected output\n",
    "messages.info()\n",
    "display(messages.sample(5))"
   ]
  },
  {
   "cell_type": "markdown",
   "metadata": {},
   "source": [
    "#### Enrich data"
   ]
  },
  {
   "cell_type": "markdown",
   "metadata": {},
   "source": [
    "We could add a column that indicates cost per message somehow, but the `messages` dataframe does not have information on pricing or plan subscription. We'd be making two columns unnecessarily unless we cross-referenced to the `plans` dataframe. Instead, to make later processing easier, I'll add a categorical 'month' column to the dataframe:"
   ]
  },
  {
   "cell_type": "code",
   "execution_count": 18,
   "metadata": {
    "scrolled": true
   },
   "outputs": [
    {
     "data": {
      "text/html": [
       "<div>\n",
       "<style scoped>\n",
       "    .dataframe tbody tr th:only-of-type {\n",
       "        vertical-align: middle;\n",
       "    }\n",
       "\n",
       "    .dataframe tbody tr th {\n",
       "        vertical-align: top;\n",
       "    }\n",
       "\n",
       "    .dataframe thead th {\n",
       "        text-align: right;\n",
       "    }\n",
       "</style>\n",
       "<table border=\"1\" class=\"dataframe\">\n",
       "  <thead>\n",
       "    <tr style=\"text-align: right;\">\n",
       "      <th></th>\n",
       "      <th>id</th>\n",
       "      <th>user_id</th>\n",
       "      <th>message_date</th>\n",
       "      <th>month</th>\n",
       "    </tr>\n",
       "  </thead>\n",
       "  <tbody>\n",
       "    <tr>\n",
       "      <th>58188</th>\n",
       "      <td>1366_64</td>\n",
       "      <td>1366</td>\n",
       "      <td>2018-09-27</td>\n",
       "      <td>9</td>\n",
       "    </tr>\n",
       "    <tr>\n",
       "      <th>47746</th>\n",
       "      <td>1324_465</td>\n",
       "      <td>1324</td>\n",
       "      <td>2018-10-20</td>\n",
       "      <td>10</td>\n",
       "    </tr>\n",
       "    <tr>\n",
       "      <th>30656</th>\n",
       "      <td>1193_322</td>\n",
       "      <td>1193</td>\n",
       "      <td>2018-11-05</td>\n",
       "      <td>11</td>\n",
       "    </tr>\n",
       "    <tr>\n",
       "      <th>43105</th>\n",
       "      <td>1283_44</td>\n",
       "      <td>1283</td>\n",
       "      <td>2018-12-20</td>\n",
       "      <td>12</td>\n",
       "    </tr>\n",
       "    <tr>\n",
       "      <th>39074</th>\n",
       "      <td>1254_978</td>\n",
       "      <td>1254</td>\n",
       "      <td>2018-11-06</td>\n",
       "      <td>11</td>\n",
       "    </tr>\n",
       "  </tbody>\n",
       "</table>\n",
       "</div>"
      ],
      "text/plain": [
       "             id  user_id message_date  month\n",
       "58188   1366_64     1366   2018-09-27      9\n",
       "47746  1324_465     1324   2018-10-20     10\n",
       "30656  1193_322     1193   2018-11-05     11\n",
       "43105   1283_44     1283   2018-12-20     12\n",
       "39074  1254_978     1254   2018-11-06     11"
      ]
     },
     "metadata": {},
     "output_type": "display_data"
    }
   ],
   "source": [
    "#Access the .dt.month attribute of each message_date\n",
    "messages['month'] = messages['message_date'].dt.month\n",
    "display(messages.sample(5))"
   ]
  },
  {
   "cell_type": "markdown",
   "metadata": {},
   "source": [
    "### Users"
   ]
  },
  {
   "cell_type": "markdown",
   "metadata": {},
   "source": [
    "#### Fix data"
   ]
  },
  {
   "cell_type": "markdown",
   "metadata": {},
   "source": [
    "Based on the summary analysis above, we determined we needed to convert the 'reg_date' and 'churn_date' columns to datetime. We can do this here and sample the result. We are leaving NaNs (now NaTs) in as they are useful pieces of information."
   ]
  },
  {
   "cell_type": "code",
   "execution_count": 19,
   "metadata": {},
   "outputs": [
    {
     "name": "stdout",
     "output_type": "stream",
     "text": [
      "<class 'pandas.core.frame.DataFrame'>\n",
      "RangeIndex: 500 entries, 0 to 499\n",
      "Data columns (total 8 columns):\n",
      " #   Column      Non-Null Count  Dtype         \n",
      "---  ------      --------------  -----         \n",
      " 0   user_id     500 non-null    int64         \n",
      " 1   first_name  500 non-null    object        \n",
      " 2   last_name   500 non-null    object        \n",
      " 3   age         500 non-null    int64         \n",
      " 4   city        500 non-null    object        \n",
      " 5   reg_date    500 non-null    datetime64[ns]\n",
      " 6   plan        500 non-null    object        \n",
      " 7   churn_date  34 non-null     datetime64[ns]\n",
      "dtypes: datetime64[ns](2), int64(2), object(4)\n",
      "memory usage: 31.4+ KB\n"
     ]
    },
    {
     "data": {
      "text/html": [
       "<div>\n",
       "<style scoped>\n",
       "    .dataframe tbody tr th:only-of-type {\n",
       "        vertical-align: middle;\n",
       "    }\n",
       "\n",
       "    .dataframe tbody tr th {\n",
       "        vertical-align: top;\n",
       "    }\n",
       "\n",
       "    .dataframe thead th {\n",
       "        text-align: right;\n",
       "    }\n",
       "</style>\n",
       "<table border=\"1\" class=\"dataframe\">\n",
       "  <thead>\n",
       "    <tr style=\"text-align: right;\">\n",
       "      <th></th>\n",
       "      <th>user_id</th>\n",
       "      <th>first_name</th>\n",
       "      <th>last_name</th>\n",
       "      <th>age</th>\n",
       "      <th>city</th>\n",
       "      <th>reg_date</th>\n",
       "      <th>plan</th>\n",
       "      <th>churn_date</th>\n",
       "    </tr>\n",
       "  </thead>\n",
       "  <tbody>\n",
       "    <tr>\n",
       "      <th>2</th>\n",
       "      <td>1002</td>\n",
       "      <td>Carlee</td>\n",
       "      <td>Hoffman</td>\n",
       "      <td>36</td>\n",
       "      <td>Las Vegas-Henderson-Paradise, NV MSA</td>\n",
       "      <td>2018-10-21</td>\n",
       "      <td>surf</td>\n",
       "      <td>NaT</td>\n",
       "    </tr>\n",
       "    <tr>\n",
       "      <th>308</th>\n",
       "      <td>1308</td>\n",
       "      <td>Samara</td>\n",
       "      <td>Monroe</td>\n",
       "      <td>46</td>\n",
       "      <td>Virginia Beach-Norfolk-Newport News, VA-NC MSA</td>\n",
       "      <td>2018-11-22</td>\n",
       "      <td>surf</td>\n",
       "      <td>NaT</td>\n",
       "    </tr>\n",
       "    <tr>\n",
       "      <th>196</th>\n",
       "      <td>1196</td>\n",
       "      <td>Noel</td>\n",
       "      <td>Dawson</td>\n",
       "      <td>46</td>\n",
       "      <td>Los Angeles-Long Beach-Anaheim, CA MSA</td>\n",
       "      <td>2018-01-14</td>\n",
       "      <td>ultimate</td>\n",
       "      <td>NaT</td>\n",
       "    </tr>\n",
       "    <tr>\n",
       "      <th>335</th>\n",
       "      <td>1335</td>\n",
       "      <td>Gail</td>\n",
       "      <td>Coleman</td>\n",
       "      <td>61</td>\n",
       "      <td>Dallas-Fort Worth-Arlington, TX MSA</td>\n",
       "      <td>2018-06-02</td>\n",
       "      <td>surf</td>\n",
       "      <td>NaT</td>\n",
       "    </tr>\n",
       "    <tr>\n",
       "      <th>53</th>\n",
       "      <td>1053</td>\n",
       "      <td>Piper</td>\n",
       "      <td>Espinoza</td>\n",
       "      <td>27</td>\n",
       "      <td>New York-Newark-Jersey City, NY-NJ-PA MSA</td>\n",
       "      <td>2018-07-30</td>\n",
       "      <td>surf</td>\n",
       "      <td>NaT</td>\n",
       "    </tr>\n",
       "  </tbody>\n",
       "</table>\n",
       "</div>"
      ],
      "text/plain": [
       "     user_id first_name last_name  age  \\\n",
       "2       1002     Carlee   Hoffman   36   \n",
       "308     1308     Samara    Monroe   46   \n",
       "196     1196       Noel    Dawson   46   \n",
       "335     1335       Gail   Coleman   61   \n",
       "53      1053      Piper  Espinoza   27   \n",
       "\n",
       "                                               city   reg_date      plan  \\\n",
       "2              Las Vegas-Henderson-Paradise, NV MSA 2018-10-21      surf   \n",
       "308  Virginia Beach-Norfolk-Newport News, VA-NC MSA 2018-11-22      surf   \n",
       "196          Los Angeles-Long Beach-Anaheim, CA MSA 2018-01-14  ultimate   \n",
       "335             Dallas-Fort Worth-Arlington, TX MSA 2018-06-02      surf   \n",
       "53        New York-Newark-Jersey City, NY-NJ-PA MSA 2018-07-30      surf   \n",
       "\n",
       "    churn_date  \n",
       "2          NaT  \n",
       "308        NaT  \n",
       "196        NaT  \n",
       "335        NaT  \n",
       "53         NaT  "
      ]
     },
     "metadata": {},
     "output_type": "display_data"
    }
   ],
   "source": [
    "#Convert to datetime. Sample: 2018-10-28\n",
    "users['reg_date'] = pd.to_datetime(users['reg_date'], format='%Y-%m-%d')\n",
    "users['churn_date'] = pd.to_datetime(users['churn_date'], format='%Y-%m-%d')\n",
    "\n",
    "#Print corrected output\n",
    "users.info()\n",
    "display(users.sample(5))"
   ]
  },
  {
   "cell_type": "markdown",
   "metadata": {},
   "source": [
    "#### Enrich data"
   ]
  },
  {
   "cell_type": "markdown",
   "metadata": {},
   "source": [
    "No features should be engineered here. We could represent NaT values for 'churn_date' as a categorical column (i.e. an 'active_plan' column that indicates whether they have churned their plan or not). However, we can simply test for NaT in the 'churn_date' column. Since we do all calculations below in aggregate, we can leave the `users` dataframe as-is."
   ]
  },
  {
   "cell_type": "markdown",
   "metadata": {},
   "source": [
    "### Plans"
   ]
  },
  {
   "cell_type": "markdown",
   "metadata": {},
   "source": [
    "#### Fix data"
   ]
  },
  {
   "cell_type": "markdown",
   "metadata": {},
   "source": [
    "Based on the summary analysis above, we do not need to make any changes to the existing data in the `plans` dataframe."
   ]
  },
  {
   "cell_type": "markdown",
   "metadata": {},
   "source": [
    "#### Enrich data"
   ]
  },
  {
   "cell_type": "markdown",
   "metadata": {},
   "source": [
    "Due to the calculations in the documentation revolving around gigabytes, it would be useful to simply add the gigabyte data for the plans in the `plans` dataframe. It will make for slightly cleaner code later on."
   ]
  },
  {
   "cell_type": "markdown",
   "metadata": {},
   "source": [
    "<div class=\"alert alert-block alert-success\">✔️\n",
    "    \n",
    "\n",
    "__Reviewer's comment №1__\n",
    "\n",
    "Success. Everything is done succesfully."
   ]
  },
  {
   "cell_type": "code",
   "execution_count": 20,
   "metadata": {},
   "outputs": [
    {
     "data": {
      "text/html": [
       "<div>\n",
       "<style scoped>\n",
       "    .dataframe tbody tr th:only-of-type {\n",
       "        vertical-align: middle;\n",
       "    }\n",
       "\n",
       "    .dataframe tbody tr th {\n",
       "        vertical-align: top;\n",
       "    }\n",
       "\n",
       "    .dataframe thead th {\n",
       "        text-align: right;\n",
       "    }\n",
       "</style>\n",
       "<table border=\"1\" class=\"dataframe\">\n",
       "  <thead>\n",
       "    <tr style=\"text-align: right;\">\n",
       "      <th></th>\n",
       "      <th>messages_included</th>\n",
       "      <th>mb_per_month_included</th>\n",
       "      <th>minutes_included</th>\n",
       "      <th>usd_monthly_pay</th>\n",
       "      <th>usd_per_gb</th>\n",
       "      <th>usd_per_message</th>\n",
       "      <th>usd_per_minute</th>\n",
       "      <th>plan_name</th>\n",
       "      <th>gb_per_month_included</th>\n",
       "    </tr>\n",
       "  </thead>\n",
       "  <tbody>\n",
       "    <tr>\n",
       "      <th>0</th>\n",
       "      <td>50</td>\n",
       "      <td>15360</td>\n",
       "      <td>500</td>\n",
       "      <td>20</td>\n",
       "      <td>10</td>\n",
       "      <td>0.03</td>\n",
       "      <td>0.03</td>\n",
       "      <td>surf</td>\n",
       "      <td>15</td>\n",
       "    </tr>\n",
       "    <tr>\n",
       "      <th>1</th>\n",
       "      <td>1000</td>\n",
       "      <td>30720</td>\n",
       "      <td>3000</td>\n",
       "      <td>70</td>\n",
       "      <td>7</td>\n",
       "      <td>0.01</td>\n",
       "      <td>0.01</td>\n",
       "      <td>ultimate</td>\n",
       "      <td>30</td>\n",
       "    </tr>\n",
       "  </tbody>\n",
       "</table>\n",
       "</div>"
      ],
      "text/plain": [
       "   messages_included  mb_per_month_included  minutes_included  \\\n",
       "0                 50                  15360               500   \n",
       "1               1000                  30720              3000   \n",
       "\n",
       "   usd_monthly_pay  usd_per_gb  usd_per_message  usd_per_minute plan_name  \\\n",
       "0               20          10             0.03            0.03      surf   \n",
       "1               70           7             0.01            0.01  ultimate   \n",
       "\n",
       "   gb_per_month_included  \n",
       "0                     15  \n",
       "1                     30  "
      ]
     },
     "metadata": {},
     "output_type": "display_data"
    }
   ],
   "source": [
    "#Add a column for gb per month as all calculations below will be in gigabytes\n",
    "plans['gb_per_month_included'] = plans['mb_per_month_included'] / 1024\n",
    "plans['gb_per_month_included'] = plans['gb_per_month_included'].astype('int64')\n",
    "\n",
    "display(plans)"
   ]
  },
  {
   "cell_type": "markdown",
   "id": "b81d0c91",
   "metadata": {},
   "source": [
    "<div class=\"alert alert-block alert-success\">✔️\n",
    "    \n",
    "\n",
    "__Reviewer's comment №1__\n",
    "\n",
    "That's right. There are 1,024 megabytes in one gigabyte."
   ]
  },
  {
   "cell_type": "markdown",
   "metadata": {},
   "source": []
  },
  {
   "cell_type": "markdown",
   "metadata": {},
   "source": [
    "## Study plan conditions"
   ]
  },
  {
   "cell_type": "markdown",
   "metadata": {},
   "source": [
    "As we can see from the above display, the plans have different thresholds of internet data, call minutes, and messages allowed without extra charge. Once users go past those amounts, they are charged for every gigabyte, message, and minute over at a flat rate for each that differs between plans.\n",
    "\n",
    "To ensure we understand how plans are priced, I will create two test user rows and two pricing functions and pass it through that function. We will use this function later to calculate price aggregately."
   ]
  },
  {
   "cell_type": "code",
   "execution_count": 21,
   "metadata": {},
   "outputs": [
    {
     "data": {
      "text/html": [
       "<div>\n",
       "<style scoped>\n",
       "    .dataframe tbody tr th:only-of-type {\n",
       "        vertical-align: middle;\n",
       "    }\n",
       "\n",
       "    .dataframe tbody tr th {\n",
       "        vertical-align: top;\n",
       "    }\n",
       "\n",
       "    .dataframe thead th {\n",
       "        text-align: right;\n",
       "    }\n",
       "</style>\n",
       "<table border=\"1\" class=\"dataframe\">\n",
       "  <thead>\n",
       "    <tr style=\"text-align: right;\">\n",
       "      <th></th>\n",
       "      <th>user_id</th>\n",
       "      <th>month</th>\n",
       "      <th>messages</th>\n",
       "      <th>gb_used</th>\n",
       "      <th>minutes</th>\n",
       "      <th>plan</th>\n",
       "      <th>monthly_charge</th>\n",
       "    </tr>\n",
       "  </thead>\n",
       "  <tbody>\n",
       "    <tr>\n",
       "      <th>0</th>\n",
       "      <td>94</td>\n",
       "      <td>3</td>\n",
       "      <td>104</td>\n",
       "      <td>18</td>\n",
       "      <td>857</td>\n",
       "      <td>surf</td>\n",
       "      <td>62.33</td>\n",
       "    </tr>\n",
       "    <tr>\n",
       "      <th>1</th>\n",
       "      <td>95</td>\n",
       "      <td>3</td>\n",
       "      <td>1498</td>\n",
       "      <td>39</td>\n",
       "      <td>5278</td>\n",
       "      <td>ultimate</td>\n",
       "      <td>160.76</td>\n",
       "    </tr>\n",
       "  </tbody>\n",
       "</table>\n",
       "</div>"
      ],
      "text/plain": [
       "   user_id  month  messages  gb_used  minutes      plan  monthly_charge\n",
       "0       94      3       104       18      857      surf           62.33\n",
       "1       95      3      1498       39     5278  ultimate          160.76"
      ]
     },
     "metadata": {},
     "output_type": "display_data"
    }
   ],
   "source": [
    "# Create test users\n",
    "cols = ['user_id', 'month', 'messages', 'gb_used', 'minutes', 'plan']\n",
    "sample_users = pd.DataFrame(data=[\n",
    "    [\n",
    "        94,\n",
    "        3,\n",
    "        104,\n",
    "        18,\n",
    "        857,\n",
    "        'surf'\n",
    "    ],\n",
    "    [\n",
    "        95,\n",
    "        3,\n",
    "        1498,\n",
    "        39,\n",
    "        5278,\n",
    "        'ultimate'\n",
    "    ]\n",
    "], columns=cols)\n",
    "\n",
    "def overcharge_lookup(plan_name, price_type, count):\n",
    "    \"\"\"\n",
    "    This helper function searches the `plans` dataframe for the relevant information and spits out the corresponding charge\n",
    "    for one of the three kinds of prices. It only returns a value greater than 0 if the user went over their \n",
    "    monthly limit.\n",
    "    \n",
    "    If the column names ever change, this function needs to be updated.\n",
    "    \"\"\"\n",
    "    \n",
    "    if price_type == 'messages':\n",
    "        plan_threshold = plans[plans['plan_name'] == plan_name].iloc[0]['messages_included']\n",
    "        plan_rate = plans[plans['plan_name'] == plan_name].iloc[0]['usd_per_message']\n",
    "    elif price_type == 'gb_data':\n",
    "        plan_threshold = plans[plans['plan_name'] == plan_name].iloc[0]['gb_per_month_included']\n",
    "        plan_rate = plans[plans['plan_name'] == plan_name].iloc[0]['usd_per_gb']\n",
    "    elif price_type == 'call_minutes':\n",
    "        plan_threshold = plans[plans['plan_name'] == plan_name].iloc[0]['minutes_included']\n",
    "        plan_rate = plans[plans['plan_name'] == plan_name].iloc[0]['usd_per_minute']\n",
    "    else:\n",
    "        return NaN\n",
    "    \n",
    "    return plan_rate*(max(0, count - plan_threshold))\n",
    "\n",
    "def calculate_charge(row):\n",
    "    \"\"\"\n",
    "    This function returns a charge for each user's monthly activity based on their plan in USD.\n",
    "    \"\"\"\n",
    "    \n",
    "    #Initialize total_charge to the base monthly pay for the plan \n",
    "    total_charge = plans[plans['plan_name'] == row['plan']].iloc[0]['usd_monthly_pay']\n",
    "    \n",
    "    #Add on each type of overcharge\n",
    "    total_charge += overcharge_lookup(row['plan'], 'messages', row['messages'])\n",
    "    total_charge += overcharge_lookup(row['plan'], 'gb_data', np.ceil(row['gb_used'])) #Round up the gb here\n",
    "    total_charge += overcharge_lookup(row['plan'], 'call_minutes', row['minutes'])\n",
    "    return total_charge\n",
    "\n",
    "sample_users['monthly_charge'] = sample_users.apply(calculate_charge, axis=1)\n",
    "    \n",
    "display(sample_users)"
   ]
  },
  {
   "cell_type": "markdown",
   "metadata": {},
   "source": [
    "## Aggregate data per user\n",
    "\n",
    "[Now, as the data is clean, aggregate data per user per period in order to have just one record per user per period. It should ease the further analysis a lot.]"
   ]
  },
  {
   "cell_type": "code",
   "execution_count": 22,
   "metadata": {
    "scrolled": true
   },
   "outputs": [
    {
     "data": {
      "text/plain": [
       "user_id  month\n",
       "1265     12       40\n",
       "1073     6        45\n",
       "1128     10        5\n",
       "1095     7        18\n",
       "1151     9        66\n",
       "Name: calls, dtype: int64"
      ]
     },
     "metadata": {},
     "output_type": "display_data"
    }
   ],
   "source": [
    "# Calculate the number of calls made by each user per month. Save the result.\n",
    "calls_per_user_per_month = calls.groupby(['user_id', 'month'])['id'].count().rename('calls')\n",
    "display(calls_per_user_per_month.sample(5))"
   ]
  },
  {
   "cell_type": "code",
   "execution_count": 23,
   "metadata": {},
   "outputs": [
    {
     "data": {
      "text/plain": [
       "user_id  month\n",
       "1259     10        99\n",
       "1445     6        528\n",
       "1041     3         23\n",
       "1011     12       311\n",
       "1318     12       347\n",
       "Name: minutes, dtype: int64"
      ]
     },
     "metadata": {},
     "output_type": "display_data"
    }
   ],
   "source": [
    "# Calculate the amount of minutes spent by each user per month. Save the result.\n",
    "minutes_per_user_per_month = calls.groupby(['user_id', 'month'])['duration'].sum().rename('minutes')\n",
    "display(minutes_per_user_per_month.sample(5))"
   ]
  },
  {
   "cell_type": "code",
   "execution_count": 24,
   "metadata": {},
   "outputs": [
    {
     "data": {
      "text/plain": [
       "user_id  month\n",
       "1433     10       127\n",
       "1011     12        61\n",
       "1440     6         38\n",
       "1370     11        20\n",
       "1033     12        32\n",
       "Name: messages, dtype: int64"
      ]
     },
     "metadata": {},
     "output_type": "display_data"
    }
   ],
   "source": [
    "# Calculate the number of messages sent by each user per month. Save the result.\n",
    "messages_per_user_per_month = messages.groupby(['user_id', 'month'])['id'].count().rename('messages')\n",
    "display(messages_per_user_per_month.sample(5))"
   ]
  },
  {
   "cell_type": "code",
   "execution_count": 25,
   "metadata": {},
   "outputs": [
    {
     "data": {
      "text/plain": [
       "user_id  month\n",
       "1029     8         1\n",
       "1073     12       17\n",
       "1100     10       17\n",
       "1206     9        27\n",
       "1313     11       20\n",
       "Name: gb_used, dtype: int64"
      ]
     },
     "metadata": {},
     "output_type": "display_data"
    }
   ],
   "source": [
    "# Calculate the volume of internet traffic used by each user per month. Save the result.\n",
    "data_per_user_per_month = internet.groupby(['user_id', 'month'])['mb_used'].sum().rename('gb_used')\n",
    "\n",
    "\"\"\"\n",
    "The documentation indicates that data should be rounded up to the nearest gigabyte. \n",
    "Therefore, we first convert to gigabytes, and then we round up using np.ceil().\n",
    "Finally, we convert to int64.\n",
    "\"\"\"\n",
    "data_per_user_per_month = np.ceil(data_per_user_per_month / 1024).astype('int64')\n",
    "display(data_per_user_per_month.sample(5))"
   ]
  },
  {
   "cell_type": "markdown",
   "metadata": {},
   "source": [
    "We will concatenate all data series into a multi-index dataframe representing all user usage for each month."
   ]
  },
  {
   "cell_type": "code",
   "execution_count": 26,
   "metadata": {},
   "outputs": [
    {
     "data": {
      "text/html": [
       "<div>\n",
       "<style scoped>\n",
       "    .dataframe tbody tr th:only-of-type {\n",
       "        vertical-align: middle;\n",
       "    }\n",
       "\n",
       "    .dataframe tbody tr th {\n",
       "        vertical-align: top;\n",
       "    }\n",
       "\n",
       "    .dataframe thead th {\n",
       "        text-align: right;\n",
       "    }\n",
       "</style>\n",
       "<table border=\"1\" class=\"dataframe\">\n",
       "  <thead>\n",
       "    <tr style=\"text-align: right;\">\n",
       "      <th></th>\n",
       "      <th></th>\n",
       "      <th>calls</th>\n",
       "      <th>minutes</th>\n",
       "      <th>messages</th>\n",
       "      <th>gb_used</th>\n",
       "    </tr>\n",
       "    <tr>\n",
       "      <th>user_id</th>\n",
       "      <th>month</th>\n",
       "      <th></th>\n",
       "      <th></th>\n",
       "      <th></th>\n",
       "      <th></th>\n",
       "    </tr>\n",
       "  </thead>\n",
       "  <tbody>\n",
       "    <tr>\n",
       "      <th>1359</th>\n",
       "      <th>5</th>\n",
       "      <td>72.0</td>\n",
       "      <td>532.0</td>\n",
       "      <td>NaN</td>\n",
       "      <td>25.0</td>\n",
       "    </tr>\n",
       "    <tr>\n",
       "      <th>1114</th>\n",
       "      <th>12</th>\n",
       "      <td>98.0</td>\n",
       "      <td>772.0</td>\n",
       "      <td>95.0</td>\n",
       "      <td>18.0</td>\n",
       "    </tr>\n",
       "    <tr>\n",
       "      <th>1432</th>\n",
       "      <th>12</th>\n",
       "      <td>81.0</td>\n",
       "      <td>510.0</td>\n",
       "      <td>6.0</td>\n",
       "      <td>18.0</td>\n",
       "    </tr>\n",
       "    <tr>\n",
       "      <th>1324</th>\n",
       "      <th>11</th>\n",
       "      <td>171.0</td>\n",
       "      <td>1304.0</td>\n",
       "      <td>116.0</td>\n",
       "      <td>18.0</td>\n",
       "    </tr>\n",
       "    <tr>\n",
       "      <th>1498</th>\n",
       "      <th>5</th>\n",
       "      <td>35.0</td>\n",
       "      <td>288.0</td>\n",
       "      <td>NaN</td>\n",
       "      <td>22.0</td>\n",
       "    </tr>\n",
       "  </tbody>\n",
       "</table>\n",
       "</div>"
      ],
      "text/plain": [
       "               calls  minutes  messages  gb_used\n",
       "user_id month                                   \n",
       "1359    5       72.0    532.0       NaN     25.0\n",
       "1114    12      98.0    772.0      95.0     18.0\n",
       "1432    12      81.0    510.0       6.0     18.0\n",
       "1324    11     171.0   1304.0     116.0     18.0\n",
       "1498    5       35.0    288.0       NaN     22.0"
      ]
     },
     "metadata": {},
     "output_type": "display_data"
    }
   ],
   "source": [
    "# Merge the data for calls, minutes, messages, internet based on user_id and month\n",
    "usage_per_user_per_month = pd.concat([\n",
    "    calls_per_user_per_month, minutes_per_user_per_month, messages_per_user_per_month, data_per_user_per_month\n",
    "    ], axis='columns')\n",
    "\n",
    "# Print\n",
    "display(usage_per_user_per_month.sample(5))"
   ]
  },
  {
   "cell_type": "markdown",
   "metadata": {},
   "source": [
    "We have some NaN values where we did not before. This indicates instances where a user had an active subscription but didn't use one of the categories of service provided (e.g. they made calls but didn't send messages). That is why they appeared during concatenation -- missing values had to be added to fill in the dataframe. \n",
    "\n",
    "We can replace all NaNs with zeros and reset the type of data to int64. Finally, we should reset the index so that 'user_id' and 'month' are columns."
   ]
  },
  {
   "cell_type": "code",
   "execution_count": 27,
   "metadata": {},
   "outputs": [
    {
     "data": {
      "text/html": [
       "<div>\n",
       "<style scoped>\n",
       "    .dataframe tbody tr th:only-of-type {\n",
       "        vertical-align: middle;\n",
       "    }\n",
       "\n",
       "    .dataframe tbody tr th {\n",
       "        vertical-align: top;\n",
       "    }\n",
       "\n",
       "    .dataframe thead th {\n",
       "        text-align: right;\n",
       "    }\n",
       "</style>\n",
       "<table border=\"1\" class=\"dataframe\">\n",
       "  <thead>\n",
       "    <tr style=\"text-align: right;\">\n",
       "      <th></th>\n",
       "      <th>user_id</th>\n",
       "      <th>month</th>\n",
       "      <th>calls</th>\n",
       "      <th>minutes</th>\n",
       "      <th>messages</th>\n",
       "      <th>gb_used</th>\n",
       "    </tr>\n",
       "  </thead>\n",
       "  <tbody>\n",
       "    <tr>\n",
       "      <th>2242</th>\n",
       "      <td>1490</td>\n",
       "      <td>11</td>\n",
       "      <td>55</td>\n",
       "      <td>448</td>\n",
       "      <td>0</td>\n",
       "      <td>26</td>\n",
       "    </tr>\n",
       "    <tr>\n",
       "      <th>458</th>\n",
       "      <td>1098</td>\n",
       "      <td>9</td>\n",
       "      <td>79</td>\n",
       "      <td>550</td>\n",
       "      <td>99</td>\n",
       "      <td>29</td>\n",
       "    </tr>\n",
       "    <tr>\n",
       "      <th>2013</th>\n",
       "      <td>1434</td>\n",
       "      <td>4</td>\n",
       "      <td>58</td>\n",
       "      <td>386</td>\n",
       "      <td>46</td>\n",
       "      <td>12</td>\n",
       "    </tr>\n",
       "    <tr>\n",
       "      <th>1387</th>\n",
       "      <td>1299</td>\n",
       "      <td>9</td>\n",
       "      <td>53</td>\n",
       "      <td>422</td>\n",
       "      <td>6</td>\n",
       "      <td>18</td>\n",
       "    </tr>\n",
       "    <tr>\n",
       "      <th>13</th>\n",
       "      <td>1004</td>\n",
       "      <td>8</td>\n",
       "      <td>49</td>\n",
       "      <td>354</td>\n",
       "      <td>25</td>\n",
       "      <td>28</td>\n",
       "    </tr>\n",
       "  </tbody>\n",
       "</table>\n",
       "</div>"
      ],
      "text/plain": [
       "      user_id  month  calls  minutes  messages  gb_used\n",
       "2242     1490     11     55      448         0       26\n",
       "458      1098      9     79      550        99       29\n",
       "2013     1434      4     58      386        46       12\n",
       "1387     1299      9     53      422         6       18\n",
       "13       1004      8     49      354        25       28"
      ]
     },
     "metadata": {},
     "output_type": "display_data"
    }
   ],
   "source": [
    "# Replace all NaNs with zeros, then cast to int64\n",
    "usage_per_user_per_month = usage_per_user_per_month.fillna(0)\n",
    "usage_per_user_per_month = usage_per_user_per_month.astype('int64')\n",
    "\n",
    "# Reset index\n",
    "usage_per_user_per_month.reset_index(inplace=True)\n",
    "\n",
    "# Print\n",
    "display(usage_per_user_per_month.sample(5))"
   ]
  },
  {
   "cell_type": "code",
   "execution_count": 28,
   "metadata": {},
   "outputs": [
    {
     "data": {
      "text/html": [
       "<div>\n",
       "<style scoped>\n",
       "    .dataframe tbody tr th:only-of-type {\n",
       "        vertical-align: middle;\n",
       "    }\n",
       "\n",
       "    .dataframe tbody tr th {\n",
       "        vertical-align: top;\n",
       "    }\n",
       "\n",
       "    .dataframe thead th {\n",
       "        text-align: right;\n",
       "    }\n",
       "</style>\n",
       "<table border=\"1\" class=\"dataframe\">\n",
       "  <thead>\n",
       "    <tr style=\"text-align: right;\">\n",
       "      <th></th>\n",
       "      <th>user_id</th>\n",
       "      <th>month</th>\n",
       "      <th>calls</th>\n",
       "      <th>minutes</th>\n",
       "      <th>messages</th>\n",
       "      <th>gb_used</th>\n",
       "      <th>first_name</th>\n",
       "      <th>last_name</th>\n",
       "      <th>age</th>\n",
       "      <th>city</th>\n",
       "      <th>reg_date</th>\n",
       "      <th>plan</th>\n",
       "      <th>churn_date</th>\n",
       "    </tr>\n",
       "  </thead>\n",
       "  <tbody>\n",
       "    <tr>\n",
       "      <th>1307</th>\n",
       "      <td>1278</td>\n",
       "      <td>12</td>\n",
       "      <td>50</td>\n",
       "      <td>393</td>\n",
       "      <td>24</td>\n",
       "      <td>23</td>\n",
       "      <td>Masako</td>\n",
       "      <td>Montgomery</td>\n",
       "      <td>39</td>\n",
       "      <td>Dayton-Kettering, OH MSA</td>\n",
       "      <td>2018-11-03</td>\n",
       "      <td>surf</td>\n",
       "      <td>NaT</td>\n",
       "    </tr>\n",
       "    <tr>\n",
       "      <th>1786</th>\n",
       "      <td>1385</td>\n",
       "      <td>7</td>\n",
       "      <td>70</td>\n",
       "      <td>494</td>\n",
       "      <td>55</td>\n",
       "      <td>18</td>\n",
       "      <td>Nohemi</td>\n",
       "      <td>Erickson</td>\n",
       "      <td>52</td>\n",
       "      <td>New York-Newark-Jersey City, NY-NJ-PA MSA</td>\n",
       "      <td>2018-01-19</td>\n",
       "      <td>surf</td>\n",
       "      <td>NaT</td>\n",
       "    </tr>\n",
       "    <tr>\n",
       "      <th>1473</th>\n",
       "      <td>1321</td>\n",
       "      <td>10</td>\n",
       "      <td>63</td>\n",
       "      <td>416</td>\n",
       "      <td>0</td>\n",
       "      <td>23</td>\n",
       "      <td>Karlyn</td>\n",
       "      <td>Jimenez</td>\n",
       "      <td>19</td>\n",
       "      <td>North Port-Sarasota-Bradenton, FL MSA</td>\n",
       "      <td>2018-05-31</td>\n",
       "      <td>surf</td>\n",
       "      <td>NaT</td>\n",
       "    </tr>\n",
       "    <tr>\n",
       "      <th>1021</th>\n",
       "      <td>1214</td>\n",
       "      <td>3</td>\n",
       "      <td>54</td>\n",
       "      <td>414</td>\n",
       "      <td>15</td>\n",
       "      <td>22</td>\n",
       "      <td>Emil</td>\n",
       "      <td>Robles</td>\n",
       "      <td>34</td>\n",
       "      <td>San Francisco-Oakland-Berkeley, CA MSA</td>\n",
       "      <td>2018-01-01</td>\n",
       "      <td>ultimate</td>\n",
       "      <td>NaT</td>\n",
       "    </tr>\n",
       "    <tr>\n",
       "      <th>1417</th>\n",
       "      <td>1310</td>\n",
       "      <td>11</td>\n",
       "      <td>1</td>\n",
       "      <td>15</td>\n",
       "      <td>0</td>\n",
       "      <td>1</td>\n",
       "      <td>Vincent</td>\n",
       "      <td>Fry</td>\n",
       "      <td>73</td>\n",
       "      <td>Portland-Vancouver-Hillsboro, OR-WA MSA</td>\n",
       "      <td>2018-11-29</td>\n",
       "      <td>surf</td>\n",
       "      <td>NaT</td>\n",
       "    </tr>\n",
       "  </tbody>\n",
       "</table>\n",
       "</div>"
      ],
      "text/plain": [
       "      user_id  month  calls  minutes  messages  gb_used first_name  \\\n",
       "1307     1278     12     50      393        24       23     Masako   \n",
       "1786     1385      7     70      494        55       18     Nohemi   \n",
       "1473     1321     10     63      416         0       23     Karlyn   \n",
       "1021     1214      3     54      414        15       22       Emil   \n",
       "1417     1310     11      1       15         0        1    Vincent   \n",
       "\n",
       "       last_name  age                                       city   reg_date  \\\n",
       "1307  Montgomery   39                   Dayton-Kettering, OH MSA 2018-11-03   \n",
       "1786    Erickson   52  New York-Newark-Jersey City, NY-NJ-PA MSA 2018-01-19   \n",
       "1473     Jimenez   19      North Port-Sarasota-Bradenton, FL MSA 2018-05-31   \n",
       "1021      Robles   34     San Francisco-Oakland-Berkeley, CA MSA 2018-01-01   \n",
       "1417         Fry   73    Portland-Vancouver-Hillsboro, OR-WA MSA 2018-11-29   \n",
       "\n",
       "          plan churn_date  \n",
       "1307      surf        NaT  \n",
       "1786      surf        NaT  \n",
       "1473      surf        NaT  \n",
       "1021  ultimate        NaT  \n",
       "1417      surf        NaT  "
      ]
     },
     "metadata": {},
     "output_type": "display_data"
    }
   ],
   "source": [
    "# Add the plan information.\n",
    "agg_monthly_user_info = usage_per_user_per_month.merge(users, on='user_id')\n",
    "\n",
    "# Print\n",
    "display(agg_monthly_user_info.sample(5))"
   ]
  },
  {
   "cell_type": "markdown",
   "metadata": {},
   "source": [
    "There is a chance that data has entered after a user has churned their subscription, or before they have activated their plan. I will do a check to make 100% certain that this is not the case:"
   ]
  },
  {
   "cell_type": "code",
   "execution_count": 29,
   "metadata": {},
   "outputs": [
    {
     "data": {
      "text/html": [
       "<div>\n",
       "<style scoped>\n",
       "    .dataframe tbody tr th:only-of-type {\n",
       "        vertical-align: middle;\n",
       "    }\n",
       "\n",
       "    .dataframe tbody tr th {\n",
       "        vertical-align: top;\n",
       "    }\n",
       "\n",
       "    .dataframe thead th {\n",
       "        text-align: right;\n",
       "    }\n",
       "</style>\n",
       "<table border=\"1\" class=\"dataframe\">\n",
       "  <thead>\n",
       "    <tr style=\"text-align: right;\">\n",
       "      <th></th>\n",
       "      <th>user_id</th>\n",
       "      <th>month</th>\n",
       "      <th>calls</th>\n",
       "      <th>minutes</th>\n",
       "      <th>messages</th>\n",
       "      <th>gb_used</th>\n",
       "      <th>first_name</th>\n",
       "      <th>last_name</th>\n",
       "      <th>age</th>\n",
       "      <th>city</th>\n",
       "      <th>reg_date</th>\n",
       "      <th>plan</th>\n",
       "      <th>churn_date</th>\n",
       "      <th>churn_month</th>\n",
       "      <th>activated_month</th>\n",
       "    </tr>\n",
       "  </thead>\n",
       "  <tbody>\n",
       "    <tr>\n",
       "      <th>54</th>\n",
       "      <td>1012</td>\n",
       "      <td>12</td>\n",
       "      <td>16</td>\n",
       "      <td>78</td>\n",
       "      <td>0</td>\n",
       "      <td>12</td>\n",
       "      <td>Jonelle</td>\n",
       "      <td>Mcbride</td>\n",
       "      <td>59</td>\n",
       "      <td>Chicago-Naperville-Elgin, IL-IN-WI MSA</td>\n",
       "      <td>2018-06-28</td>\n",
       "      <td>surf</td>\n",
       "      <td>2018-11-16</td>\n",
       "      <td>11.0</td>\n",
       "      <td>6</td>\n",
       "    </tr>\n",
       "    <tr>\n",
       "      <th>80</th>\n",
       "      <td>1022</td>\n",
       "      <td>10</td>\n",
       "      <td>83</td>\n",
       "      <td>574</td>\n",
       "      <td>0</td>\n",
       "      <td>19</td>\n",
       "      <td>Bo</td>\n",
       "      <td>Snow</td>\n",
       "      <td>73</td>\n",
       "      <td>New York-Newark-Jersey City, NY-NJ-PA MSA</td>\n",
       "      <td>2018-04-20</td>\n",
       "      <td>surf</td>\n",
       "      <td>2018-09-07</td>\n",
       "      <td>9.0</td>\n",
       "      <td>4</td>\n",
       "    </tr>\n",
       "    <tr>\n",
       "      <th>81</th>\n",
       "      <td>1022</td>\n",
       "      <td>11</td>\n",
       "      <td>72</td>\n",
       "      <td>498</td>\n",
       "      <td>0</td>\n",
       "      <td>22</td>\n",
       "      <td>Bo</td>\n",
       "      <td>Snow</td>\n",
       "      <td>73</td>\n",
       "      <td>New York-Newark-Jersey City, NY-NJ-PA MSA</td>\n",
       "      <td>2018-04-20</td>\n",
       "      <td>surf</td>\n",
       "      <td>2018-09-07</td>\n",
       "      <td>9.0</td>\n",
       "      <td>4</td>\n",
       "    </tr>\n",
       "    <tr>\n",
       "      <th>82</th>\n",
       "      <td>1022</td>\n",
       "      <td>12</td>\n",
       "      <td>82</td>\n",
       "      <td>585</td>\n",
       "      <td>0</td>\n",
       "      <td>18</td>\n",
       "      <td>Bo</td>\n",
       "      <td>Snow</td>\n",
       "      <td>73</td>\n",
       "      <td>New York-Newark-Jersey City, NY-NJ-PA MSA</td>\n",
       "      <td>2018-04-20</td>\n",
       "      <td>surf</td>\n",
       "      <td>2018-09-07</td>\n",
       "      <td>9.0</td>\n",
       "      <td>4</td>\n",
       "    </tr>\n",
       "    <tr>\n",
       "      <th>213</th>\n",
       "      <td>1050</td>\n",
       "      <td>11</td>\n",
       "      <td>57</td>\n",
       "      <td>413</td>\n",
       "      <td>0</td>\n",
       "      <td>14</td>\n",
       "      <td>Jone</td>\n",
       "      <td>Owen</td>\n",
       "      <td>23</td>\n",
       "      <td>Miami-Fort Lauderdale-West Palm Beach, FL MSA</td>\n",
       "      <td>2018-03-20</td>\n",
       "      <td>ultimate</td>\n",
       "      <td>2018-10-07</td>\n",
       "      <td>10.0</td>\n",
       "      <td>3</td>\n",
       "    </tr>\n",
       "    <tr>\n",
       "      <th>214</th>\n",
       "      <td>1050</td>\n",
       "      <td>12</td>\n",
       "      <td>52</td>\n",
       "      <td>299</td>\n",
       "      <td>0</td>\n",
       "      <td>17</td>\n",
       "      <td>Jone</td>\n",
       "      <td>Owen</td>\n",
       "      <td>23</td>\n",
       "      <td>Miami-Fort Lauderdale-West Palm Beach, FL MSA</td>\n",
       "      <td>2018-03-20</td>\n",
       "      <td>ultimate</td>\n",
       "      <td>2018-10-07</td>\n",
       "      <td>10.0</td>\n",
       "      <td>3</td>\n",
       "    </tr>\n",
       "    <tr>\n",
       "      <th>312</th>\n",
       "      <td>1067</td>\n",
       "      <td>12</td>\n",
       "      <td>53</td>\n",
       "      <td>344</td>\n",
       "      <td>20</td>\n",
       "      <td>16</td>\n",
       "      <td>Robt</td>\n",
       "      <td>Allen</td>\n",
       "      <td>37</td>\n",
       "      <td>Grand Rapids-Kentwood, MI MSA</td>\n",
       "      <td>2018-09-24</td>\n",
       "      <td>surf</td>\n",
       "      <td>2018-11-24</td>\n",
       "      <td>11.0</td>\n",
       "      <td>9</td>\n",
       "    </tr>\n",
       "    <tr>\n",
       "      <th>409</th>\n",
       "      <td>1084</td>\n",
       "      <td>12</td>\n",
       "      <td>103</td>\n",
       "      <td>720</td>\n",
       "      <td>81</td>\n",
       "      <td>28</td>\n",
       "      <td>Wiley</td>\n",
       "      <td>Mckinney</td>\n",
       "      <td>21</td>\n",
       "      <td>Miami-Fort Lauderdale-West Palm Beach, FL MSA</td>\n",
       "      <td>2018-06-04</td>\n",
       "      <td>surf</td>\n",
       "      <td>2018-11-11</td>\n",
       "      <td>11.0</td>\n",
       "      <td>6</td>\n",
       "    </tr>\n",
       "    <tr>\n",
       "      <th>504</th>\n",
       "      <td>1106</td>\n",
       "      <td>12</td>\n",
       "      <td>67</td>\n",
       "      <td>569</td>\n",
       "      <td>0</td>\n",
       "      <td>22</td>\n",
       "      <td>Eddy</td>\n",
       "      <td>Garrison</td>\n",
       "      <td>47</td>\n",
       "      <td>New York-Newark-Jersey City, NY-NJ-PA MSA</td>\n",
       "      <td>2018-05-10</td>\n",
       "      <td>surf</td>\n",
       "      <td>2018-11-14</td>\n",
       "      <td>11.0</td>\n",
       "      <td>5</td>\n",
       "    </tr>\n",
       "    <tr>\n",
       "      <th>830</th>\n",
       "      <td>1172</td>\n",
       "      <td>12</td>\n",
       "      <td>90</td>\n",
       "      <td>711</td>\n",
       "      <td>117</td>\n",
       "      <td>24</td>\n",
       "      <td>Weldon</td>\n",
       "      <td>Robinson</td>\n",
       "      <td>72</td>\n",
       "      <td>Boston-Cambridge-Newton, MA-NH MSA</td>\n",
       "      <td>2018-03-30</td>\n",
       "      <td>surf</td>\n",
       "      <td>2018-11-29</td>\n",
       "      <td>11.0</td>\n",
       "      <td>3</td>\n",
       "    </tr>\n",
       "    <tr>\n",
       "      <th>920</th>\n",
       "      <td>1191</td>\n",
       "      <td>12</td>\n",
       "      <td>85</td>\n",
       "      <td>625</td>\n",
       "      <td>10</td>\n",
       "      <td>12</td>\n",
       "      <td>Zack</td>\n",
       "      <td>Waters</td>\n",
       "      <td>75</td>\n",
       "      <td>St. Louis, MO-IL MSA</td>\n",
       "      <td>2018-01-21</td>\n",
       "      <td>ultimate</td>\n",
       "      <td>2018-11-30</td>\n",
       "      <td>11.0</td>\n",
       "      <td>1</td>\n",
       "    </tr>\n",
       "    <tr>\n",
       "      <th>1052</th>\n",
       "      <td>1220</td>\n",
       "      <td>11</td>\n",
       "      <td>76</td>\n",
       "      <td>487</td>\n",
       "      <td>25</td>\n",
       "      <td>13</td>\n",
       "      <td>Jack</td>\n",
       "      <td>Strong</td>\n",
       "      <td>26</td>\n",
       "      <td>Cincinnati, OH-KY-IN MSA</td>\n",
       "      <td>2018-04-22</td>\n",
       "      <td>surf</td>\n",
       "      <td>2018-10-13</td>\n",
       "      <td>10.0</td>\n",
       "      <td>4</td>\n",
       "    </tr>\n",
       "    <tr>\n",
       "      <th>1053</th>\n",
       "      <td>1220</td>\n",
       "      <td>12</td>\n",
       "      <td>88</td>\n",
       "      <td>558</td>\n",
       "      <td>31</td>\n",
       "      <td>19</td>\n",
       "      <td>Jack</td>\n",
       "      <td>Strong</td>\n",
       "      <td>26</td>\n",
       "      <td>Cincinnati, OH-KY-IN MSA</td>\n",
       "      <td>2018-04-22</td>\n",
       "      <td>surf</td>\n",
       "      <td>2018-10-13</td>\n",
       "      <td>10.0</td>\n",
       "      <td>4</td>\n",
       "    </tr>\n",
       "    <tr>\n",
       "      <th>1157</th>\n",
       "      <td>1246</td>\n",
       "      <td>8</td>\n",
       "      <td>96</td>\n",
       "      <td>698</td>\n",
       "      <td>15</td>\n",
       "      <td>18</td>\n",
       "      <td>Stevie</td>\n",
       "      <td>Moran</td>\n",
       "      <td>69</td>\n",
       "      <td>Tampa-St. Petersburg-Clearwater, FL MSA</td>\n",
       "      <td>2018-01-09</td>\n",
       "      <td>ultimate</td>\n",
       "      <td>2018-07-31</td>\n",
       "      <td>7.0</td>\n",
       "      <td>1</td>\n",
       "    </tr>\n",
       "    <tr>\n",
       "      <th>1158</th>\n",
       "      <td>1246</td>\n",
       "      <td>9</td>\n",
       "      <td>40</td>\n",
       "      <td>321</td>\n",
       "      <td>8</td>\n",
       "      <td>8</td>\n",
       "      <td>Stevie</td>\n",
       "      <td>Moran</td>\n",
       "      <td>69</td>\n",
       "      <td>Tampa-St. Petersburg-Clearwater, FL MSA</td>\n",
       "      <td>2018-01-09</td>\n",
       "      <td>ultimate</td>\n",
       "      <td>2018-07-31</td>\n",
       "      <td>7.0</td>\n",
       "      <td>1</td>\n",
       "    </tr>\n",
       "    <tr>\n",
       "      <th>1323</th>\n",
       "      <td>1281</td>\n",
       "      <td>12</td>\n",
       "      <td>88</td>\n",
       "      <td>645</td>\n",
       "      <td>38</td>\n",
       "      <td>8</td>\n",
       "      <td>Zack</td>\n",
       "      <td>Hardy</td>\n",
       "      <td>39</td>\n",
       "      <td>Charlotte-Concord-Gastonia, NC-SC MSA</td>\n",
       "      <td>2018-07-23</td>\n",
       "      <td>surf</td>\n",
       "      <td>2018-11-14</td>\n",
       "      <td>11.0</td>\n",
       "      <td>7</td>\n",
       "    </tr>\n",
       "    <tr>\n",
       "      <th>1444</th>\n",
       "      <td>1315</td>\n",
       "      <td>11</td>\n",
       "      <td>33</td>\n",
       "      <td>282</td>\n",
       "      <td>21</td>\n",
       "      <td>8</td>\n",
       "      <td>Mora</td>\n",
       "      <td>Schroeder</td>\n",
       "      <td>45</td>\n",
       "      <td>Raleigh-Cary, NC MSA</td>\n",
       "      <td>2018-04-26</td>\n",
       "      <td>surf</td>\n",
       "      <td>2018-10-03</td>\n",
       "      <td>10.0</td>\n",
       "      <td>4</td>\n",
       "    </tr>\n",
       "    <tr>\n",
       "      <th>1445</th>\n",
       "      <td>1315</td>\n",
       "      <td>12</td>\n",
       "      <td>43</td>\n",
       "      <td>350</td>\n",
       "      <td>35</td>\n",
       "      <td>6</td>\n",
       "      <td>Mora</td>\n",
       "      <td>Schroeder</td>\n",
       "      <td>45</td>\n",
       "      <td>Raleigh-Cary, NC MSA</td>\n",
       "      <td>2018-04-26</td>\n",
       "      <td>surf</td>\n",
       "      <td>2018-10-03</td>\n",
       "      <td>10.0</td>\n",
       "      <td>4</td>\n",
       "    </tr>\n",
       "    <tr>\n",
       "      <th>1654</th>\n",
       "      <td>1358</td>\n",
       "      <td>11</td>\n",
       "      <td>58</td>\n",
       "      <td>445</td>\n",
       "      <td>4</td>\n",
       "      <td>17</td>\n",
       "      <td>Vaughn</td>\n",
       "      <td>Maldonado</td>\n",
       "      <td>20</td>\n",
       "      <td>New York-Newark-Jersey City, NY-NJ-PA MSA</td>\n",
       "      <td>2018-04-26</td>\n",
       "      <td>surf</td>\n",
       "      <td>2018-10-22</td>\n",
       "      <td>10.0</td>\n",
       "      <td>4</td>\n",
       "    </tr>\n",
       "    <tr>\n",
       "      <th>1655</th>\n",
       "      <td>1358</td>\n",
       "      <td>12</td>\n",
       "      <td>4</td>\n",
       "      <td>18</td>\n",
       "      <td>0</td>\n",
       "      <td>4</td>\n",
       "      <td>Vaughn</td>\n",
       "      <td>Maldonado</td>\n",
       "      <td>20</td>\n",
       "      <td>New York-Newark-Jersey City, NY-NJ-PA MSA</td>\n",
       "      <td>2018-04-26</td>\n",
       "      <td>surf</td>\n",
       "      <td>2018-10-22</td>\n",
       "      <td>10.0</td>\n",
       "      <td>4</td>\n",
       "    </tr>\n",
       "    <tr>\n",
       "      <th>1688</th>\n",
       "      <td>1363</td>\n",
       "      <td>9</td>\n",
       "      <td>36</td>\n",
       "      <td>301</td>\n",
       "      <td>27</td>\n",
       "      <td>11</td>\n",
       "      <td>Sandee</td>\n",
       "      <td>Lott</td>\n",
       "      <td>33</td>\n",
       "      <td>Seattle-Tacoma-Bellevue, WA MSA</td>\n",
       "      <td>2018-01-05</td>\n",
       "      <td>ultimate</td>\n",
       "      <td>2018-08-16</td>\n",
       "      <td>8.0</td>\n",
       "      <td>1</td>\n",
       "    </tr>\n",
       "    <tr>\n",
       "      <th>1689</th>\n",
       "      <td>1363</td>\n",
       "      <td>10</td>\n",
       "      <td>49</td>\n",
       "      <td>385</td>\n",
       "      <td>41</td>\n",
       "      <td>17</td>\n",
       "      <td>Sandee</td>\n",
       "      <td>Lott</td>\n",
       "      <td>33</td>\n",
       "      <td>Seattle-Tacoma-Bellevue, WA MSA</td>\n",
       "      <td>2018-01-05</td>\n",
       "      <td>ultimate</td>\n",
       "      <td>2018-08-16</td>\n",
       "      <td>8.0</td>\n",
       "      <td>1</td>\n",
       "    </tr>\n",
       "    <tr>\n",
       "      <th>1690</th>\n",
       "      <td>1363</td>\n",
       "      <td>11</td>\n",
       "      <td>39</td>\n",
       "      <td>258</td>\n",
       "      <td>34</td>\n",
       "      <td>17</td>\n",
       "      <td>Sandee</td>\n",
       "      <td>Lott</td>\n",
       "      <td>33</td>\n",
       "      <td>Seattle-Tacoma-Bellevue, WA MSA</td>\n",
       "      <td>2018-01-05</td>\n",
       "      <td>ultimate</td>\n",
       "      <td>2018-08-16</td>\n",
       "      <td>8.0</td>\n",
       "      <td>1</td>\n",
       "    </tr>\n",
       "    <tr>\n",
       "      <th>1691</th>\n",
       "      <td>1363</td>\n",
       "      <td>12</td>\n",
       "      <td>40</td>\n",
       "      <td>262</td>\n",
       "      <td>42</td>\n",
       "      <td>18</td>\n",
       "      <td>Sandee</td>\n",
       "      <td>Lott</td>\n",
       "      <td>33</td>\n",
       "      <td>Seattle-Tacoma-Bellevue, WA MSA</td>\n",
       "      <td>2018-01-05</td>\n",
       "      <td>ultimate</td>\n",
       "      <td>2018-08-16</td>\n",
       "      <td>8.0</td>\n",
       "      <td>1</td>\n",
       "    </tr>\n",
       "    <tr>\n",
       "      <th>1941</th>\n",
       "      <td>1414</td>\n",
       "      <td>10</td>\n",
       "      <td>67</td>\n",
       "      <td>546</td>\n",
       "      <td>70</td>\n",
       "      <td>25</td>\n",
       "      <td>Georgianne</td>\n",
       "      <td>Herring</td>\n",
       "      <td>30</td>\n",
       "      <td>Urban Honolulu, HI MSA</td>\n",
       "      <td>2018-03-03</td>\n",
       "      <td>surf</td>\n",
       "      <td>2018-09-01</td>\n",
       "      <td>9.0</td>\n",
       "      <td>3</td>\n",
       "    </tr>\n",
       "    <tr>\n",
       "      <th>1942</th>\n",
       "      <td>1414</td>\n",
       "      <td>11</td>\n",
       "      <td>57</td>\n",
       "      <td>288</td>\n",
       "      <td>38</td>\n",
       "      <td>27</td>\n",
       "      <td>Georgianne</td>\n",
       "      <td>Herring</td>\n",
       "      <td>30</td>\n",
       "      <td>Urban Honolulu, HI MSA</td>\n",
       "      <td>2018-03-03</td>\n",
       "      <td>surf</td>\n",
       "      <td>2018-09-01</td>\n",
       "      <td>9.0</td>\n",
       "      <td>3</td>\n",
       "    </tr>\n",
       "    <tr>\n",
       "      <th>1943</th>\n",
       "      <td>1414</td>\n",
       "      <td>12</td>\n",
       "      <td>65</td>\n",
       "      <td>451</td>\n",
       "      <td>54</td>\n",
       "      <td>30</td>\n",
       "      <td>Georgianne</td>\n",
       "      <td>Herring</td>\n",
       "      <td>30</td>\n",
       "      <td>Urban Honolulu, HI MSA</td>\n",
       "      <td>2018-03-03</td>\n",
       "      <td>surf</td>\n",
       "      <td>2018-09-01</td>\n",
       "      <td>9.0</td>\n",
       "      <td>3</td>\n",
       "    </tr>\n",
       "    <tr>\n",
       "      <th>1952</th>\n",
       "      <td>1416</td>\n",
       "      <td>12</td>\n",
       "      <td>49</td>\n",
       "      <td>398</td>\n",
       "      <td>49</td>\n",
       "      <td>35</td>\n",
       "      <td>Deja</td>\n",
       "      <td>Moss</td>\n",
       "      <td>25</td>\n",
       "      <td>Minneapolis-St. Paul-Bloomington, MN-WI MSA</td>\n",
       "      <td>2018-10-03</td>\n",
       "      <td>surf</td>\n",
       "      <td>2018-11-21</td>\n",
       "      <td>11.0</td>\n",
       "      <td>10</td>\n",
       "    </tr>\n",
       "    <tr>\n",
       "      <th>2053</th>\n",
       "      <td>1441</td>\n",
       "      <td>11</td>\n",
       "      <td>43</td>\n",
       "      <td>345</td>\n",
       "      <td>7</td>\n",
       "      <td>9</td>\n",
       "      <td>Piedad</td>\n",
       "      <td>Myers</td>\n",
       "      <td>23</td>\n",
       "      <td>Atlanta-Sandy Springs-Roswell, GA MSA</td>\n",
       "      <td>2018-03-08</td>\n",
       "      <td>ultimate</td>\n",
       "      <td>2018-08-19</td>\n",
       "      <td>8.0</td>\n",
       "      <td>3</td>\n",
       "    </tr>\n",
       "    <tr>\n",
       "      <th>2054</th>\n",
       "      <td>1441</td>\n",
       "      <td>12</td>\n",
       "      <td>139</td>\n",
       "      <td>987</td>\n",
       "      <td>15</td>\n",
       "      <td>29</td>\n",
       "      <td>Piedad</td>\n",
       "      <td>Myers</td>\n",
       "      <td>23</td>\n",
       "      <td>Atlanta-Sandy Springs-Roswell, GA MSA</td>\n",
       "      <td>2018-03-08</td>\n",
       "      <td>ultimate</td>\n",
       "      <td>2018-08-19</td>\n",
       "      <td>8.0</td>\n",
       "      <td>3</td>\n",
       "    </tr>\n",
       "    <tr>\n",
       "      <th>2145</th>\n",
       "      <td>1466</td>\n",
       "      <td>10</td>\n",
       "      <td>33</td>\n",
       "      <td>238</td>\n",
       "      <td>51</td>\n",
       "      <td>15</td>\n",
       "      <td>Alphonse</td>\n",
       "      <td>Harmon</td>\n",
       "      <td>56</td>\n",
       "      <td>Los Angeles-Long Beach-Anaheim, CA MSA</td>\n",
       "      <td>2018-01-26</td>\n",
       "      <td>surf</td>\n",
       "      <td>2018-09-17</td>\n",
       "      <td>9.0</td>\n",
       "      <td>1</td>\n",
       "    </tr>\n",
       "    <tr>\n",
       "      <th>2146</th>\n",
       "      <td>1466</td>\n",
       "      <td>11</td>\n",
       "      <td>28</td>\n",
       "      <td>202</td>\n",
       "      <td>38</td>\n",
       "      <td>13</td>\n",
       "      <td>Alphonse</td>\n",
       "      <td>Harmon</td>\n",
       "      <td>56</td>\n",
       "      <td>Los Angeles-Long Beach-Anaheim, CA MSA</td>\n",
       "      <td>2018-01-26</td>\n",
       "      <td>surf</td>\n",
       "      <td>2018-09-17</td>\n",
       "      <td>9.0</td>\n",
       "      <td>1</td>\n",
       "    </tr>\n",
       "    <tr>\n",
       "      <th>2147</th>\n",
       "      <td>1466</td>\n",
       "      <td>12</td>\n",
       "      <td>32</td>\n",
       "      <td>254</td>\n",
       "      <td>41</td>\n",
       "      <td>12</td>\n",
       "      <td>Alphonse</td>\n",
       "      <td>Harmon</td>\n",
       "      <td>56</td>\n",
       "      <td>Los Angeles-Long Beach-Anaheim, CA MSA</td>\n",
       "      <td>2018-01-26</td>\n",
       "      <td>surf</td>\n",
       "      <td>2018-09-17</td>\n",
       "      <td>9.0</td>\n",
       "      <td>1</td>\n",
       "    </tr>\n",
       "    <tr>\n",
       "      <th>2156</th>\n",
       "      <td>1467</td>\n",
       "      <td>12</td>\n",
       "      <td>66</td>\n",
       "      <td>483</td>\n",
       "      <td>77</td>\n",
       "      <td>18</td>\n",
       "      <td>Nickolas</td>\n",
       "      <td>Deleon</td>\n",
       "      <td>64</td>\n",
       "      <td>Atlanta-Sandy Springs-Roswell, GA MSA</td>\n",
       "      <td>2018-01-31</td>\n",
       "      <td>ultimate</td>\n",
       "      <td>2018-11-18</td>\n",
       "      <td>11.0</td>\n",
       "      <td>1</td>\n",
       "    </tr>\n",
       "    <tr>\n",
       "      <th>2250</th>\n",
       "      <td>1491</td>\n",
       "      <td>10</td>\n",
       "      <td>75</td>\n",
       "      <td>585</td>\n",
       "      <td>51</td>\n",
       "      <td>9</td>\n",
       "      <td>Terina</td>\n",
       "      <td>Jensen</td>\n",
       "      <td>22</td>\n",
       "      <td>Grand Rapids-Kentwood, MI MSA</td>\n",
       "      <td>2018-04-27</td>\n",
       "      <td>surf</td>\n",
       "      <td>2018-09-18</td>\n",
       "      <td>9.0</td>\n",
       "      <td>4</td>\n",
       "    </tr>\n",
       "    <tr>\n",
       "      <th>2251</th>\n",
       "      <td>1491</td>\n",
       "      <td>11</td>\n",
       "      <td>46</td>\n",
       "      <td>409</td>\n",
       "      <td>46</td>\n",
       "      <td>6</td>\n",
       "      <td>Terina</td>\n",
       "      <td>Jensen</td>\n",
       "      <td>22</td>\n",
       "      <td>Grand Rapids-Kentwood, MI MSA</td>\n",
       "      <td>2018-04-27</td>\n",
       "      <td>surf</td>\n",
       "      <td>2018-09-18</td>\n",
       "      <td>9.0</td>\n",
       "      <td>4</td>\n",
       "    </tr>\n",
       "    <tr>\n",
       "      <th>2252</th>\n",
       "      <td>1491</td>\n",
       "      <td>12</td>\n",
       "      <td>55</td>\n",
       "      <td>399</td>\n",
       "      <td>43</td>\n",
       "      <td>7</td>\n",
       "      <td>Terina</td>\n",
       "      <td>Jensen</td>\n",
       "      <td>22</td>\n",
       "      <td>Grand Rapids-Kentwood, MI MSA</td>\n",
       "      <td>2018-04-27</td>\n",
       "      <td>surf</td>\n",
       "      <td>2018-09-18</td>\n",
       "      <td>9.0</td>\n",
       "      <td>4</td>\n",
       "    </tr>\n",
       "  </tbody>\n",
       "</table>\n",
       "</div>"
      ],
      "text/plain": [
       "      user_id  month  calls  minutes  messages  gb_used  first_name  \\\n",
       "54       1012     12     16       78         0       12     Jonelle   \n",
       "80       1022     10     83      574         0       19          Bo   \n",
       "81       1022     11     72      498         0       22          Bo   \n",
       "82       1022     12     82      585         0       18          Bo   \n",
       "213      1050     11     57      413         0       14        Jone   \n",
       "214      1050     12     52      299         0       17        Jone   \n",
       "312      1067     12     53      344        20       16        Robt   \n",
       "409      1084     12    103      720        81       28       Wiley   \n",
       "504      1106     12     67      569         0       22        Eddy   \n",
       "830      1172     12     90      711       117       24      Weldon   \n",
       "920      1191     12     85      625        10       12        Zack   \n",
       "1052     1220     11     76      487        25       13        Jack   \n",
       "1053     1220     12     88      558        31       19        Jack   \n",
       "1157     1246      8     96      698        15       18      Stevie   \n",
       "1158     1246      9     40      321         8        8      Stevie   \n",
       "1323     1281     12     88      645        38        8        Zack   \n",
       "1444     1315     11     33      282        21        8        Mora   \n",
       "1445     1315     12     43      350        35        6        Mora   \n",
       "1654     1358     11     58      445         4       17      Vaughn   \n",
       "1655     1358     12      4       18         0        4      Vaughn   \n",
       "1688     1363      9     36      301        27       11      Sandee   \n",
       "1689     1363     10     49      385        41       17      Sandee   \n",
       "1690     1363     11     39      258        34       17      Sandee   \n",
       "1691     1363     12     40      262        42       18      Sandee   \n",
       "1941     1414     10     67      546        70       25  Georgianne   \n",
       "1942     1414     11     57      288        38       27  Georgianne   \n",
       "1943     1414     12     65      451        54       30  Georgianne   \n",
       "1952     1416     12     49      398        49       35        Deja   \n",
       "2053     1441     11     43      345         7        9      Piedad   \n",
       "2054     1441     12    139      987        15       29      Piedad   \n",
       "2145     1466     10     33      238        51       15    Alphonse   \n",
       "2146     1466     11     28      202        38       13    Alphonse   \n",
       "2147     1466     12     32      254        41       12    Alphonse   \n",
       "2156     1467     12     66      483        77       18    Nickolas   \n",
       "2250     1491     10     75      585        51        9      Terina   \n",
       "2251     1491     11     46      409        46        6      Terina   \n",
       "2252     1491     12     55      399        43        7      Terina   \n",
       "\n",
       "      last_name  age                                           city  \\\n",
       "54      Mcbride   59         Chicago-Naperville-Elgin, IL-IN-WI MSA   \n",
       "80         Snow   73      New York-Newark-Jersey City, NY-NJ-PA MSA   \n",
       "81         Snow   73      New York-Newark-Jersey City, NY-NJ-PA MSA   \n",
       "82         Snow   73      New York-Newark-Jersey City, NY-NJ-PA MSA   \n",
       "213        Owen   23  Miami-Fort Lauderdale-West Palm Beach, FL MSA   \n",
       "214        Owen   23  Miami-Fort Lauderdale-West Palm Beach, FL MSA   \n",
       "312       Allen   37                  Grand Rapids-Kentwood, MI MSA   \n",
       "409    Mckinney   21  Miami-Fort Lauderdale-West Palm Beach, FL MSA   \n",
       "504    Garrison   47      New York-Newark-Jersey City, NY-NJ-PA MSA   \n",
       "830    Robinson   72             Boston-Cambridge-Newton, MA-NH MSA   \n",
       "920      Waters   75                           St. Louis, MO-IL MSA   \n",
       "1052     Strong   26                       Cincinnati, OH-KY-IN MSA   \n",
       "1053     Strong   26                       Cincinnati, OH-KY-IN MSA   \n",
       "1157      Moran   69        Tampa-St. Petersburg-Clearwater, FL MSA   \n",
       "1158      Moran   69        Tampa-St. Petersburg-Clearwater, FL MSA   \n",
       "1323      Hardy   39          Charlotte-Concord-Gastonia, NC-SC MSA   \n",
       "1444  Schroeder   45                           Raleigh-Cary, NC MSA   \n",
       "1445  Schroeder   45                           Raleigh-Cary, NC MSA   \n",
       "1654  Maldonado   20      New York-Newark-Jersey City, NY-NJ-PA MSA   \n",
       "1655  Maldonado   20      New York-Newark-Jersey City, NY-NJ-PA MSA   \n",
       "1688       Lott   33                Seattle-Tacoma-Bellevue, WA MSA   \n",
       "1689       Lott   33                Seattle-Tacoma-Bellevue, WA MSA   \n",
       "1690       Lott   33                Seattle-Tacoma-Bellevue, WA MSA   \n",
       "1691       Lott   33                Seattle-Tacoma-Bellevue, WA MSA   \n",
       "1941    Herring   30                         Urban Honolulu, HI MSA   \n",
       "1942    Herring   30                         Urban Honolulu, HI MSA   \n",
       "1943    Herring   30                         Urban Honolulu, HI MSA   \n",
       "1952       Moss   25    Minneapolis-St. Paul-Bloomington, MN-WI MSA   \n",
       "2053      Myers   23          Atlanta-Sandy Springs-Roswell, GA MSA   \n",
       "2054      Myers   23          Atlanta-Sandy Springs-Roswell, GA MSA   \n",
       "2145     Harmon   56         Los Angeles-Long Beach-Anaheim, CA MSA   \n",
       "2146     Harmon   56         Los Angeles-Long Beach-Anaheim, CA MSA   \n",
       "2147     Harmon   56         Los Angeles-Long Beach-Anaheim, CA MSA   \n",
       "2156     Deleon   64          Atlanta-Sandy Springs-Roswell, GA MSA   \n",
       "2250     Jensen   22                  Grand Rapids-Kentwood, MI MSA   \n",
       "2251     Jensen   22                  Grand Rapids-Kentwood, MI MSA   \n",
       "2252     Jensen   22                  Grand Rapids-Kentwood, MI MSA   \n",
       "\n",
       "       reg_date      plan churn_date  churn_month  activated_month  \n",
       "54   2018-06-28      surf 2018-11-16         11.0                6  \n",
       "80   2018-04-20      surf 2018-09-07          9.0                4  \n",
       "81   2018-04-20      surf 2018-09-07          9.0                4  \n",
       "82   2018-04-20      surf 2018-09-07          9.0                4  \n",
       "213  2018-03-20  ultimate 2018-10-07         10.0                3  \n",
       "214  2018-03-20  ultimate 2018-10-07         10.0                3  \n",
       "312  2018-09-24      surf 2018-11-24         11.0                9  \n",
       "409  2018-06-04      surf 2018-11-11         11.0                6  \n",
       "504  2018-05-10      surf 2018-11-14         11.0                5  \n",
       "830  2018-03-30      surf 2018-11-29         11.0                3  \n",
       "920  2018-01-21  ultimate 2018-11-30         11.0                1  \n",
       "1052 2018-04-22      surf 2018-10-13         10.0                4  \n",
       "1053 2018-04-22      surf 2018-10-13         10.0                4  \n",
       "1157 2018-01-09  ultimate 2018-07-31          7.0                1  \n",
       "1158 2018-01-09  ultimate 2018-07-31          7.0                1  \n",
       "1323 2018-07-23      surf 2018-11-14         11.0                7  \n",
       "1444 2018-04-26      surf 2018-10-03         10.0                4  \n",
       "1445 2018-04-26      surf 2018-10-03         10.0                4  \n",
       "1654 2018-04-26      surf 2018-10-22         10.0                4  \n",
       "1655 2018-04-26      surf 2018-10-22         10.0                4  \n",
       "1688 2018-01-05  ultimate 2018-08-16          8.0                1  \n",
       "1689 2018-01-05  ultimate 2018-08-16          8.0                1  \n",
       "1690 2018-01-05  ultimate 2018-08-16          8.0                1  \n",
       "1691 2018-01-05  ultimate 2018-08-16          8.0                1  \n",
       "1941 2018-03-03      surf 2018-09-01          9.0                3  \n",
       "1942 2018-03-03      surf 2018-09-01          9.0                3  \n",
       "1943 2018-03-03      surf 2018-09-01          9.0                3  \n",
       "1952 2018-10-03      surf 2018-11-21         11.0               10  \n",
       "2053 2018-03-08  ultimate 2018-08-19          8.0                3  \n",
       "2054 2018-03-08  ultimate 2018-08-19          8.0                3  \n",
       "2145 2018-01-26      surf 2018-09-17          9.0                1  \n",
       "2146 2018-01-26      surf 2018-09-17          9.0                1  \n",
       "2147 2018-01-26      surf 2018-09-17          9.0                1  \n",
       "2156 2018-01-31  ultimate 2018-11-18         11.0                1  \n",
       "2250 2018-04-27      surf 2018-09-18          9.0                4  \n",
       "2251 2018-04-27      surf 2018-09-18          9.0                4  \n",
       "2252 2018-04-27      surf 2018-09-18          9.0                4  "
      ]
     },
     "metadata": {},
     "output_type": "display_data"
    }
   ],
   "source": [
    "# Create new column\n",
    "agg_monthly_user_info['churn_month'] = agg_monthly_user_info['churn_date'].dt.month\n",
    "agg_monthly_user_info['activated_month'] = agg_monthly_user_info['reg_date'].dt.month\n",
    "\n",
    "# Print instances where the month entry is outside the active subscription, which should never be the case\n",
    "display(agg_monthly_user_info.query('month > churn_month or month < activated_month'))"
   ]
  },
  {
   "cell_type": "code",
   "execution_count": 30,
   "metadata": {},
   "outputs": [],
   "source": [
    "#We can fix this by REMOVING instances where churn_month < month and activated_month > month\n",
    "agg_monthly_user_info = agg_monthly_user_info[\n",
    "    ((agg_monthly_user_info['churn_month'].isna()) |\n",
    "    (agg_monthly_user_info['churn_month'] >= agg_monthly_user_info['month']))]\n",
    "agg_monthly_user_info = agg_monthly_user_info[agg_monthly_user_info['activated_month'] <= agg_monthly_user_info['month']]"
   ]
  },
  {
   "cell_type": "markdown",
   "metadata": {},
   "source": [
    "We should take this information and get a monthly charge for each user's monthly usage data, which turns into the company's revenue. I'll save the monthly charge to the `agg_monthly_user_info` dataframe."
   ]
  },
  {
   "cell_type": "code",
   "execution_count": 31,
   "metadata": {},
   "outputs": [
    {
     "data": {
      "text/html": [
       "<div>\n",
       "<style scoped>\n",
       "    .dataframe tbody tr th:only-of-type {\n",
       "        vertical-align: middle;\n",
       "    }\n",
       "\n",
       "    .dataframe tbody tr th {\n",
       "        vertical-align: top;\n",
       "    }\n",
       "\n",
       "    .dataframe thead th {\n",
       "        text-align: right;\n",
       "    }\n",
       "</style>\n",
       "<table border=\"1\" class=\"dataframe\">\n",
       "  <thead>\n",
       "    <tr style=\"text-align: right;\">\n",
       "      <th></th>\n",
       "      <th>user_id</th>\n",
       "      <th>month</th>\n",
       "      <th>calls</th>\n",
       "      <th>minutes</th>\n",
       "      <th>messages</th>\n",
       "      <th>gb_used</th>\n",
       "      <th>first_name</th>\n",
       "      <th>last_name</th>\n",
       "      <th>age</th>\n",
       "      <th>city</th>\n",
       "      <th>reg_date</th>\n",
       "      <th>plan</th>\n",
       "      <th>churn_date</th>\n",
       "      <th>churn_month</th>\n",
       "      <th>activated_month</th>\n",
       "      <th>monthly_charge</th>\n",
       "    </tr>\n",
       "  </thead>\n",
       "  <tbody>\n",
       "    <tr>\n",
       "      <th>2174</th>\n",
       "      <td>1472</td>\n",
       "      <td>5</td>\n",
       "      <td>95</td>\n",
       "      <td>610</td>\n",
       "      <td>41</td>\n",
       "      <td>15</td>\n",
       "      <td>Maximo</td>\n",
       "      <td>Mendoza</td>\n",
       "      <td>51</td>\n",
       "      <td>San Francisco-Oakland-Berkeley, CA MSA</td>\n",
       "      <td>2018-04-10</td>\n",
       "      <td>surf</td>\n",
       "      <td>NaT</td>\n",
       "      <td>NaN</td>\n",
       "      <td>4</td>\n",
       "      <td>23.30</td>\n",
       "    </tr>\n",
       "    <tr>\n",
       "      <th>1450</th>\n",
       "      <td>1316</td>\n",
       "      <td>9</td>\n",
       "      <td>32</td>\n",
       "      <td>180</td>\n",
       "      <td>61</td>\n",
       "      <td>24</td>\n",
       "      <td>Lucilla</td>\n",
       "      <td>Weeks</td>\n",
       "      <td>59</td>\n",
       "      <td>Tulsa, OK MSA</td>\n",
       "      <td>2018-05-21</td>\n",
       "      <td>surf</td>\n",
       "      <td>NaT</td>\n",
       "      <td>NaN</td>\n",
       "      <td>5</td>\n",
       "      <td>110.33</td>\n",
       "    </tr>\n",
       "    <tr>\n",
       "      <th>394</th>\n",
       "      <td>1081</td>\n",
       "      <td>12</td>\n",
       "      <td>28</td>\n",
       "      <td>216</td>\n",
       "      <td>26</td>\n",
       "      <td>18</td>\n",
       "      <td>Grayce</td>\n",
       "      <td>Sears</td>\n",
       "      <td>44</td>\n",
       "      <td>Dallas-Fort Worth-Arlington, TX MSA</td>\n",
       "      <td>2018-04-27</td>\n",
       "      <td>surf</td>\n",
       "      <td>NaT</td>\n",
       "      <td>NaN</td>\n",
       "      <td>4</td>\n",
       "      <td>50.00</td>\n",
       "    </tr>\n",
       "    <tr>\n",
       "      <th>2179</th>\n",
       "      <td>1472</td>\n",
       "      <td>10</td>\n",
       "      <td>43</td>\n",
       "      <td>297</td>\n",
       "      <td>16</td>\n",
       "      <td>10</td>\n",
       "      <td>Maximo</td>\n",
       "      <td>Mendoza</td>\n",
       "      <td>51</td>\n",
       "      <td>San Francisco-Oakland-Berkeley, CA MSA</td>\n",
       "      <td>2018-04-10</td>\n",
       "      <td>surf</td>\n",
       "      <td>NaT</td>\n",
       "      <td>NaN</td>\n",
       "      <td>4</td>\n",
       "      <td>20.00</td>\n",
       "    </tr>\n",
       "    <tr>\n",
       "      <th>1927</th>\n",
       "      <td>1411</td>\n",
       "      <td>9</td>\n",
       "      <td>65</td>\n",
       "      <td>415</td>\n",
       "      <td>0</td>\n",
       "      <td>15</td>\n",
       "      <td>Man</td>\n",
       "      <td>Fleming</td>\n",
       "      <td>64</td>\n",
       "      <td>Rochester, NY MSA</td>\n",
       "      <td>2018-08-10</td>\n",
       "      <td>surf</td>\n",
       "      <td>NaT</td>\n",
       "      <td>NaN</td>\n",
       "      <td>8</td>\n",
       "      <td>20.00</td>\n",
       "    </tr>\n",
       "  </tbody>\n",
       "</table>\n",
       "</div>"
      ],
      "text/plain": [
       "      user_id  month  calls  minutes  messages  gb_used first_name last_name  \\\n",
       "2174     1472      5     95      610        41       15     Maximo   Mendoza   \n",
       "1450     1316      9     32      180        61       24    Lucilla     Weeks   \n",
       "394      1081     12     28      216        26       18     Grayce     Sears   \n",
       "2179     1472     10     43      297        16       10     Maximo   Mendoza   \n",
       "1927     1411      9     65      415         0       15        Man   Fleming   \n",
       "\n",
       "      age                                    city   reg_date  plan churn_date  \\\n",
       "2174   51  San Francisco-Oakland-Berkeley, CA MSA 2018-04-10  surf        NaT   \n",
       "1450   59                           Tulsa, OK MSA 2018-05-21  surf        NaT   \n",
       "394    44     Dallas-Fort Worth-Arlington, TX MSA 2018-04-27  surf        NaT   \n",
       "2179   51  San Francisco-Oakland-Berkeley, CA MSA 2018-04-10  surf        NaT   \n",
       "1927   64                       Rochester, NY MSA 2018-08-10  surf        NaT   \n",
       "\n",
       "      churn_month  activated_month  monthly_charge  \n",
       "2174          NaN                4           23.30  \n",
       "1450          NaN                5          110.33  \n",
       "394           NaN                4           50.00  \n",
       "2179          NaN                4           20.00  \n",
       "1927          NaN                8           20.00  "
      ]
     },
     "metadata": {},
     "output_type": "display_data"
    }
   ],
   "source": [
    "# Calculate the monthly revenue for each user. We will be using the function we created in section 1.5 to calculate charge.\n",
    "agg_monthly_user_info['monthly_charge'] = agg_monthly_user_info.apply(calculate_charge, axis=1)\n",
    "\n",
    "# Print\n",
    "display(agg_monthly_user_info.sample(5))"
   ]
  },
  {
   "cell_type": "code",
   "execution_count": 32,
   "metadata": {},
   "outputs": [
    {
     "data": {
      "text/plain": [
       "array([ 70.  ,  20.  ,  90.09,  60.  , 158.12,  80.  , 110.  , 150.  ,\n",
       "        90.  ,  40.  ,  84.  , 110.03, 244.62, 110.72, 163.51,  71.02,\n",
       "        69.69, 181.4 , 116.93,  88.28, 107.2 , 126.42, 117.68,  74.68,\n",
       "        30.96,  41.59,  25.94,  74.11,  43.03,  46.33,  38.84,  50.54,\n",
       "       144.47, 160.11,  24.08, 152.34, 100.  ,  83.93,  20.3 ,  21.92,\n",
       "        30.  , 112.  , 119.  ,  91.  , 126.  , 140.  , 182.  , 154.  ,\n",
       "        27.89,  55.76,  24.14,  83.96,  34.29, 168.  ,  77.  , 122.01,\n",
       "        43.69,  90.3 , 120.21, 120.66, 132.28, 120.  ,  24.32,  20.06,\n",
       "       167.48,  70.33,  50.  ,  20.54,  30.87,  21.32,  20.72,  70.66,\n",
       "        21.35,  30.84, 105.  ,  21.98,  24.38, 135.22, 116.27,  62.85,\n",
       "       129.81,  93.96,  41.89,  54.32,  20.84,  46.69,  73.78,  80.42,\n",
       "        50.3 ,  72.46,  20.63,  21.26, 143.9 , 143.42, 200.  , 210.  ,\n",
       "        20.93,  20.42,  20.03, 123.18, 102.85,  83.27,  82.67,  32.46,\n",
       "        90.86,  55.49,  47.59,  26.09,  31.19, 120.42, 170.27, 110.33,\n",
       "        26.15,  54.95,  21.47,  75.4 ,  23.51,  53.15,  64.11,  97.23,\n",
       "        50.81,  93.11,  93.42, 163.86, 117.17,  26.33,  45.85,  83.72,\n",
       "        69.36,  50.03, 162.97, 185.49, 181.17, 161.44,  86.84,  80.36,\n",
       "        70.45,  26.57,  31.32,  40.42,  90.69,  40.93,  20.6 ,  20.48,\n",
       "        21.68,  20.45,  21.05,  31.46,  32.75,  60.18,  63.09, 112.79,\n",
       "       150.12, 121.86,  22.16,  70.69,  23.06,  71.44, 120.27, 110.69,\n",
       "        31.71,  50.87,  87.98,  25.34,  37.92, 145.73,  59.51,  73.56,\n",
       "        42.27,  21.65,  22.34,  22.49, 150.09,  60.15, 531.41,  50.09,\n",
       "       160.03, 201.83,  61.56,  93.6 , 126.48, 100.63,  98.  , 130.  ,\n",
       "        82.01,  23.75,  51.62,  80.21,  90.27,  20.18,  60.9 ,  61.47,\n",
       "        40.18, 119.12,  82.31,  26.75,  51.07,  28.58,  45.37,  30.2 ,\n",
       "        47.07,  49.18,  61.07,  40.84,  40.75,  40.72, 110.63,  70.42,\n",
       "        60.33,  71.08,  51.77, 167.77, 224.23, 238.61, 214.4 , 231.92,\n",
       "       245.07, 129.24, 143.59,  54.08,  20.15,  22.94,  20.21,  80.33,\n",
       "        45.04,  26.6 ,  44.17,  37.23,  25.46,  62.46,  29.06,  44.77,\n",
       "        23.9 , 110.06,  92.88, 100.96,  54.35,  20.9 ,  20.24,  41.77,\n",
       "        33.03, 104.26,  25.4 , 125.46, 100.81, 103.06,  22.91,  22.43,\n",
       "        34.26,  24.02,  23.42,  61.85, 121.85, 156.36, 121.28, 196.42,\n",
       "       222.55, 124.71,  20.12,  94.56,  75.82, 102.19, 122.91,  46.36,\n",
       "        94.23,  50.99,  25.28, 106.09,  46.54,  43.27, 151.77, 130.78,\n",
       "        42.82,  24.23,  46.3 ,  32.73,  64.2 ,  43.45,  50.36,  57.02,\n",
       "        84.29,  22.04,  83.78, 133.78,  41.95,  90.63,  34.68,  46.39,\n",
       "        82.76,  90.06,  22.37,  23.36,  30.24,  70.15,  60.21, 240.78,\n",
       "       181.14, 290.36, 180.18,  27.71,  55.46,  28.82,  58.64,  33.15,\n",
       "       140.45, 223.81, 160.  , 250.  ,  52.13,  23.  ,  51.92,  45.13,\n",
       "        60.45,  30.15, 186.9 ,  58.91,  26.99, 105.46,  21.8 ,  21.44,\n",
       "        60.12, 193.35, 227.23, 231.45,  80.84, 104.5 ,  52.31,  23.45,\n",
       "       146.36,  55.73,  74.17, 112.1 ,  82.07,  74.02, 115.97,  50.78,\n",
       "        75.16,  53.54,  24.11, 114.05,  77.29,  74.47,  85.7 , 111.77,\n",
       "       121.38,  32.37,  34.05,  30.66,  55.34,  54.41, 100.42,  44.53,\n",
       "       230.28, 377.85, 201.36, 310.82, 215.57, 298.57,  27.08,  23.27,\n",
       "        22.46,  20.36,  55.54, 102.7 , 213.42,  81.11, 164.56,  51.5 ,\n",
       "        82.91,  51.86,  82.85,  83.15,  41.8 ,  83.12,  37.35,  23.18,\n",
       "        22.7 ,  23.33,  77.41,  34.23,  50.15,  71.02,  50.12,  80.99,\n",
       "       120.39,  43.81,  53.24,  31.86,  42.37,  30.21,  24.29,  36.99,\n",
       "        43.12,  81.65,  62.73,  82.1 , 272.55, 133.51, 231.95, 240.  ,\n",
       "       260.63, 164.77, 190.  ,  51.92, 284.14, 108.73,  95.34, 107.14,\n",
       "       134.86,  49.72,  77.08, 127.2 ,  86.21,  42.7 ,  53.45,  25.76,\n",
       "        23.24,  27.2 ,  91.83, 186.81, 137.74,  93.95,  20.27,  21.23,\n",
       "        42.13,  21.74,  35.13,  84.26,  23.42,  85.43,  20.51,  23.78,\n",
       "       380.  , 330.  , 192.25, 273.51, 173.12, 164.89, 174.77,  43.54,\n",
       "        70.36,  53.57,  54.29,  41.23,  23.54, 151.2 , 100.54,  31.08,\n",
       "        33.93, 121.02,  36.39,  52.22,  91.92,  75.76,  24.2 ,  40.33,\n",
       "        70.3 ,  70.27,  70.48, 120.6 ,  91.28,  31.1 , 101.4 , 101.82,\n",
       "        31.85, 139.99,  84.4 ,  47.52,  51.89, 112.43,  20.57,  38.39,\n",
       "        67.61,  88.21,  86.59,  38.63, 107.67,  99.14,  76.1 ,  49.26,\n",
       "        36.5 ,  30.92,  31.67,  36.2 ,  37.64, 121.95,  62.58, 182.87,\n",
       "       123.26, 245.51,  85.67,  97.83, 162.78, 171.91, 114.73,  41.14,\n",
       "        41.47,  31.05,  71.11,  38.85,  36.65,  51.83,  64.4 ,  70.92,\n",
       "        30.08, 109.24,  75.63,  36.98,  61.2 ,  82.46,  31.5 ,  43.75,\n",
       "        41.17,  31.47,  43.75, 114.25,  42.57,  82.4 ,  67.68,  58.49,\n",
       "        46.42,  52.97,  34.35,  20.78,  21.2 ,  21.08,  21.11,  24.65,\n",
       "       106.45, 115.82,  31.62, 122.61,  42.52,  81.95,  22.82,  28.55,\n",
       "        40.66,  20.33, 116.09,  24.86,  73.69,  24.8 ,  71.68,  61.17,\n",
       "        50.84, 170.  , 130.15, 120.96, 119.42,  40.15,  29.57,  48.91,\n",
       "        33.8 ,  25.43,  23.69,  26.78,  24.95,  37.52,  38.15,  38.93,\n",
       "        41.81,  37.97,  45.71,  74.53,  64.68,  75.55, 231.86, 170.51,\n",
       "       220.48, 200.39, 240.63,  90.33, 170.9 , 120.9 , 170.99,  62.37,\n",
       "       590.37,  20.39, 125.28, 113.9 ,  83.63,  23.6 ,  21.41,  21.38,\n",
       "       100.39,  80.3 ,  64.62,  90.36, 120.09,  60.3 ,  40.36,  30.8 ,\n",
       "        31.64,  49.06, 123.35,  89.  ,  89.9 ,  53.69,  20.87,  23.03,\n",
       "        52.28,  90.84,  53.78, 115.04,  81.59,  40.78,  20.66,  42.73,\n",
       "        21.62,  52.61,  51.47, 100.99, 230.  , 280.  ,  72.87,  40.51,\n",
       "        61.11,  43.6 ,  74.5 ,  92.28, 115.1 ,  50.33,  77.32,  80.15,\n",
       "        50.57,  66.42,  45.28,  95.94, 105.97,  71.86,  28.61, 148.16,\n",
       "        40.09, 120.12,  60.09, 270.54, 243.39,  21.53,  63.87, 180.  ,\n",
       "        24.44,  23.63,  25.13,  22.4 ,  22.85,  27.14,  25.85,  23.3 ,\n",
       "        64.83,  22.22,  37.88,  25.37,  20.99,  76.3 , 143.78, 105.64,\n",
       "        64.17,  68.85,  76.63,  21.56,  51.23, 133.  ,  23.48,  50.27,\n",
       "       143.3 ])"
      ]
     },
     "execution_count": 32,
     "metadata": {},
     "output_type": "execute_result"
    }
   ],
   "source": [
    "agg_monthly_user_info['monthly_charge'].unique()"
   ]
  },
  {
   "cell_type": "markdown",
   "metadata": {},
   "source": [
    "<div class=\"alert alert-block alert-danger\">✍\n",
    "    \n",
    "\n",
    "__Reviewer's comment №1__\n",
    "\n",
    "You can't get a fractional part in the calculations. Fix it, please"
   ]
  },
  {
   "cell_type": "markdown",
   "metadata": {},
   "source": [
    "<div class=\"alert alert-info\"> <b>Student сomments:</b>Unsure whether you want the 'monthly_charge' values to be non-fractional, since my understanding is that they should be fractional given they represent the final dollars and cents charge sent to the customer. I'll make sure they only have cents below, but could you clarify what you would like if that is not the case?</div>"
   ]
  },
  {
   "cell_type": "markdown",
   "metadata": {},
   "source": [
    "<div class=\"alert alert-block alert-danger\">✍\n",
    "    \n",
    "\n",
    "__Reviewer's comment №2__\n",
    "\n",
    "Hello! You have collected data on mobile operator users' revenues, but you have encountered the problem of working with fractional values. Considering that each call is rounded up, and monthly data usage is converted to gigabytes and also rounded up, it is impossible that when working with integer prices in the final calculations there will be decimal part. \n",
    "\n"
   ]
  },
  {
   "cell_type": "markdown",
   "metadata": {},
   "source": [
    "<div class=\"alert alert-info\"> <b>Student сomments:</b>Ah, yes it makes sense that when working with integer prices there will never be a decimal part -- that would be impossible. However, my understanding of the documentation is that we are not working with integer prices. The overcharge fees for minutes and messages are based on cents, which are float prices. For example, an extra Gigabyte of data in the Surf plan incurs \\$10 USD, which is an integer price, but an extra minute in the Surf plan incurs \\$0.03 USD, which is a float price because cents are always represented as a fraction of a dollar. Even when you round calls up to the nearest minute, multiplying by a float per-minute price will yield a float charge. For example, my understanding is that if a Surf user uses 505 minutes in a month and nothing else, they should be charged 20 + (505-500)*0.03. That total should equal \\$20.15.\n",
    "    \n",
    "If cents should be rounded up, or if I should represent cents in some way other than float, please let me know how! Thank you!\n",
    "\n",
    "Here is the documentation from the module instructions: <pre>\n",
    "\n",
    "Surf\n",
    "    Monthly charge: $20\n",
    "    500 monthly minutes, 50 texts, and 15 GB of data\n",
    "    After exceeding the package limits:\n",
    "        1 minute: 3 cents\n",
    "        1 text message: 3 cents\n",
    "        1 GB of data: $10\n",
    "Ultimate\n",
    "    Monthly charge: $70\n",
    "    3000 monthly minutes, 1000 text messages, and 30 GB of data\n",
    "    After exceeding the package limits:\n",
    "        1 minute: 1 cent\n",
    "        1 text message: 1 cent\n",
    "        1 GB of data: $7\n",
    "</pre>\n",
    "</div>"
   ]
  },
  {
   "cell_type": "markdown",
   "metadata": {},
   "source": [
    "<div class=\"alert alert-block alert-success\">✔️\n",
    "    \n",
    "\n",
    "__Reviewer's comment №3__\n",
    "\n",
    "Yes, you are correct in your reasoning. Well done"
   ]
  },
  {
   "cell_type": "code",
   "execution_count": 33,
   "metadata": {},
   "outputs": [
    {
     "data": {
      "text/plain": [
       "array([ 70.  ,  20.  ,  90.09,  60.  , 158.12,  80.  , 110.  , 150.  ,\n",
       "        90.  ,  40.  ,  84.  , 110.03, 244.62, 110.72, 163.51,  71.02,\n",
       "        69.69, 181.4 , 116.93,  88.28, 107.2 , 126.42, 117.68,  74.69,\n",
       "        30.96,  41.59,  25.94,  74.11,  43.03,  46.33,  38.85,  50.54,\n",
       "       144.47, 160.12,  24.08, 152.34, 100.  ,  83.93,  20.3 ,  21.92,\n",
       "        30.  , 112.  , 119.  ,  91.  , 126.  , 140.  , 182.  , 154.  ,\n",
       "        27.89,  55.76,  24.14,  83.96,  34.29, 168.  ,  77.  , 122.01,\n",
       "        43.69,  90.3 , 120.21, 120.66, 132.28, 120.  ,  24.32,  20.06,\n",
       "       167.48,  70.33,  50.  ,  20.54,  30.87,  21.32,  20.72,  70.66,\n",
       "        21.35,  30.84, 105.  ,  21.98,  24.38, 135.22, 116.27,  62.85,\n",
       "       129.81,  93.96,  41.89,  54.32,  20.84,  46.69,  73.78,  80.42,\n",
       "        50.3 ,  72.46,  20.63,  21.26, 143.9 , 143.42, 200.  , 210.  ,\n",
       "        20.93,  20.43,  20.03, 123.18, 102.85,  83.27,  82.67,  32.46,\n",
       "        90.86,  55.49,  47.59,  26.09,  31.19, 120.42, 170.27, 110.33,\n",
       "        26.15,  54.95,  21.47,  75.41,  23.51,  53.15,  64.11,  97.23,\n",
       "        50.81,  93.11,  93.42, 163.86, 117.17,  26.33,  45.85,  83.72,\n",
       "        69.36,  50.03, 162.97, 185.49, 181.17, 161.44,  86.84,  80.36,\n",
       "        70.45,  26.57,  31.32,  40.42,  90.69,  40.93,  20.6 ,  20.48,\n",
       "        21.68,  20.45,  21.05,  31.46,  32.75,  60.18,  63.09, 112.79,\n",
       "       150.12, 121.86,  22.16,  70.69,  23.06,  71.44, 120.27, 110.69,\n",
       "        31.71,  50.87,  87.98,  25.34,  37.92, 145.73,  59.52,  73.56,\n",
       "        42.27,  21.65,  22.34,  22.49, 150.09,  60.15, 531.41,  50.09,\n",
       "       160.03, 201.83,  61.56,  93.6 , 126.48, 100.64,  98.  , 130.  ,\n",
       "        82.01,  23.75,  51.62,  80.21,  90.27,  20.18,  60.9 ,  61.47,\n",
       "        40.18, 119.12,  82.31,  26.75,  51.07,  28.58,  45.37,  30.2 ,\n",
       "        47.07,  49.18,  61.07,  40.85,  40.75,  40.72, 110.63,  70.42,\n",
       "        60.33,  71.08,  51.77, 167.77, 224.23, 238.61, 214.4 , 231.92,\n",
       "       245.07, 129.24, 143.59,  54.08,  20.15,  22.94,  20.21,  80.33,\n",
       "        45.04,  26.6 ,  44.17,  37.23,  25.46,  62.46,  29.06,  44.77,\n",
       "        23.9 , 110.06,  92.88, 100.96,  54.35,  20.9 ,  20.24,  41.77,\n",
       "        33.03, 104.26,  25.4 , 125.46, 100.81, 103.06,  22.91,  22.43,\n",
       "        34.26,  24.02,  23.42,  61.85, 121.85, 156.37, 121.28, 196.42,\n",
       "       222.55, 124.71,  20.12,  94.56,  75.83, 102.19, 122.91,  46.37,\n",
       "        94.23,  50.99,  25.28, 106.09,  46.54,  43.27, 151.78, 130.78,\n",
       "        42.82,  24.23,  46.3 ,  32.73,  64.2 ,  43.45,  50.36,  57.02,\n",
       "        84.29,  22.04,  83.78, 133.78,  41.95,  90.63,  34.68,  46.39,\n",
       "        82.76,  90.06,  22.37,  23.36,  30.24,  70.16,  60.21, 240.78,\n",
       "       181.14, 290.36, 180.18,  27.71,  55.46,  28.82,  58.64,  33.15,\n",
       "       140.45, 223.81, 160.  , 250.  ,  52.13,  23.  ,  51.92,  45.13,\n",
       "        60.45,  30.15, 186.9 ,  58.91,  26.99, 105.46,  21.8 ,  21.44,\n",
       "        60.12, 193.35, 227.23, 231.45,  80.84, 104.5 ,  52.31,  23.45,\n",
       "       146.37,  55.73,  74.17, 112.1 ,  82.07,  74.02, 115.97,  50.78,\n",
       "        75.16,  53.54,  24.11, 114.05,  77.3 ,  74.47,  85.7 , 111.77,\n",
       "       121.38,  32.37,  34.05,  30.66,  55.34,  54.41, 100.42,  44.53,\n",
       "       230.28, 377.85, 201.36, 310.82, 215.57, 298.57,  27.08,  23.27,\n",
       "        22.46,  20.36,  55.54, 102.7 , 213.42,  81.11, 164.56,  51.5 ,\n",
       "        82.92,  51.86,  82.85,  83.15,  41.8 ,  83.12,  37.35,  23.18,\n",
       "        22.7 ,  23.33,  77.41,  34.23,  50.15,  71.03,  50.12,  80.99,\n",
       "       120.39,  43.81,  53.24,  31.86,  42.37,  30.21,  24.29,  36.99,\n",
       "        43.12,  81.66,  62.73,  82.1 , 272.55, 133.51, 231.95, 240.  ,\n",
       "       260.63, 164.77, 190.  , 284.14, 108.73,  95.34, 107.14, 134.87,\n",
       "        49.72,  77.08, 127.2 ,  86.21,  42.7 ,  53.45,  25.76,  23.24,\n",
       "        27.2 ,  91.83, 186.81, 137.74,  93.95,  20.27,  21.23,  42.13,\n",
       "        21.74,  35.14,  84.26,  85.43,  20.51,  23.78, 380.  , 330.  ,\n",
       "       192.25, 273.51, 173.12, 164.89, 174.77,  43.54,  70.36,  53.57,\n",
       "        54.3 ,  41.23,  23.54, 151.2 , 100.54,  31.08,  33.93, 121.02,\n",
       "        36.39,  52.22,  91.92,  75.77,  24.2 ,  40.33,  70.3 ,  70.27,\n",
       "        70.48, 120.6 ,  91.28,  31.1 , 101.4 , 101.82,  31.85, 139.99,\n",
       "        84.4 ,  47.52,  51.89, 112.43,  20.57,  38.39,  67.61,  88.21,\n",
       "        86.59,  38.63, 107.67,  99.14,  76.1 ,  49.27,  36.5 ,  30.92,\n",
       "        31.67,  36.21,  37.64, 121.95,  62.58, 182.87, 123.26, 245.52,\n",
       "        85.67,  97.83, 162.78, 171.91, 114.73,  41.14,  41.47,  31.05,\n",
       "        71.11,  36.65,  51.83,  64.41,  70.92,  30.08, 109.24,  75.63,\n",
       "        61.2 ,  82.46,  31.5 ,  43.76,  41.17,  31.48,  43.75, 114.25,\n",
       "        42.57,  82.4 ,  67.69,  58.49,  46.42,  52.97,  34.35,  20.78,\n",
       "        21.2 ,  21.08,  21.11,  24.65, 106.45, 115.82,  31.62, 122.61,\n",
       "        42.52,  81.95,  22.82,  28.55,  40.66,  20.33, 116.09,  24.86,\n",
       "        73.69,  24.8 ,  71.69,  61.17,  50.84, 170.  , 130.15, 120.96,\n",
       "       119.42,  40.15,  29.57,  48.91,  33.8 ,  25.43,  23.69,  26.78,\n",
       "        24.95,  37.52,  38.15,  38.93,  41.81,  37.97,  45.71,  74.53,\n",
       "        64.69,  75.55, 231.86, 170.51, 220.48, 200.39, 240.63,  90.33,\n",
       "       170.9 , 120.9 , 170.99,  62.37, 590.37,  20.39, 125.28, 113.9 ,\n",
       "        83.64,  23.6 ,  21.41,  21.38, 100.39,  80.3 ,  64.62,  90.36,\n",
       "       120.09,  60.3 ,  40.36,  30.8 ,  31.64,  49.06, 123.35,  89.  ,\n",
       "        89.9 ,  53.69,  20.87,  23.03,  52.28,  90.84,  53.78, 115.04,\n",
       "        81.59,  40.78,  20.66,  42.73,  21.62,  52.61,  51.47, 100.99,\n",
       "       230.  , 280.  ,  72.87,  40.52,  61.11,  43.6 ,  74.5 ,  92.28,\n",
       "       115.1 ,  50.33,  77.32,  80.16,  50.57,  66.42,  45.28,  95.94,\n",
       "       105.97,  71.86,  28.61, 148.16,  40.1 , 120.12,  60.09, 270.55,\n",
       "       243.39,  21.53,  63.87, 180.  ,  24.44,  23.63,  25.13,  22.4 ,\n",
       "        22.85,  27.14,  25.85,  23.3 ,  64.83,  22.22,  37.88,  25.37,\n",
       "        20.99,  76.3 , 143.78, 105.64,  64.17,  68.85,  76.63,  21.56,\n",
       "        51.23, 133.  ,  23.48,  50.27, 143.31])"
      ]
     },
     "execution_count": 33,
     "metadata": {},
     "output_type": "execute_result"
    }
   ],
   "source": [
    "# Ensure only cents data exists in 'monthly_charge'\n",
    "agg_monthly_user_info['monthly_charge'] = np.ceil(agg_monthly_user_info['monthly_charge']*100)/100\n",
    "agg_monthly_user_info['monthly_charge'].unique()"
   ]
  },
  {
   "cell_type": "markdown",
   "metadata": {},
   "source": [
    "## Study user behaviour"
   ]
  },
  {
   "cell_type": "markdown",
   "metadata": {},
   "source": [
    "### Prep plan data"
   ]
  },
  {
   "cell_type": "markdown",
   "metadata": {},
   "source": [
    "Before diving deeper, we'll create a few divisions of the data and save them to separate variables for more efficient and clean code later. All later analysis will be based on the dataframes created here."
   ]
  },
  {
   "cell_type": "code",
   "execution_count": 34,
   "metadata": {},
   "outputs": [],
   "source": [
    "# Separate data by plan\n",
    "surf_monthly_user_data = agg_monthly_user_info.query('plan==\"surf\"')\n",
    "ultimate_monthly_user_data = agg_monthly_user_info.query('plan==\"ultimate\"')\n",
    "\n",
    "# Separate call data while keeping user_id and month info\n",
    "surf_monthly_call_data = surf_monthly_user_data.loc[:, ['user_id', 'month', 'calls', 'minutes']]\n",
    "ultimate_monthly_call_data = ultimate_monthly_user_data.loc[:, ['user_id', 'month', 'calls', 'minutes']]\n",
    "\n",
    "# Separate gb_used data while keeping user_id and month info\n",
    "surf_monthly_gb_used_data = surf_monthly_user_data.loc[:, ['user_id', 'month', 'gb_used']]\n",
    "ultimate_monthly_gb_used_data = ultimate_monthly_user_data.loc[:, ['user_id', 'month', 'gb_used']]\n",
    "\n",
    "# Separate message data while keeping user_id and month info\n",
    "surf_monthly_message_data = surf_monthly_user_data.loc[:, ['user_id', 'month', 'messages']]\n",
    "ultimate_monthly_message_data = ultimate_monthly_user_data.loc[:, ['user_id', 'month', 'messages']]\n",
    "\n",
    "# An array of month names for labeling\n",
    "month_indices = range(12)\n",
    "month_labels = ['Jan', 'Feb', 'Mar', 'Apr', 'May', 'Jun', 'Jul', 'Aug', 'Sep', 'Oct', 'Nov', 'Dec']"
   ]
  },
  {
   "cell_type": "markdown",
   "metadata": {},
   "source": [
    "An important visualization after studying the entries are the distribution of the number of active users across the months. I will quickly show a bar graph of the difference:"
   ]
  },
  {
   "cell_type": "code",
   "execution_count": 35,
   "metadata": {},
   "outputs": [
    {
     "data": {
      "image/png": "[encoded data removed]",
      "text/plain": [
       "<Figure size 432x288 with 1 Axes>"
      ]
     },
     "metadata": {
      "needs_background": "light"
     },
     "output_type": "display_data"
    }
   ],
   "source": [
    "# Compare number of users per each plan per each distinct month.\n",
    "monthly_users_surf = surf_monthly_user_data.groupby('month')['user_id'].count().rename('surf')\n",
    "monthly_users_ultimate = ultimate_monthly_user_data.groupby('month')['user_id'].count().rename('ultimate')\n",
    "\n",
    "monthly_users_per_plan = pd.concat([\n",
    "    monthly_users_surf, monthly_users_ultimate\n",
    "    ], axis='columns').reset_index()\n",
    "\n",
    "monthly_users_per_plan.plot(x='month', kind='bar')\n",
    "plt.title('Seasonal Distribution of Users By Plan')\n",
    "plt.ylabel('Number of Users in Each Month')\n",
    "plt.xlabel('Month')\n",
    "plt.xticks(month_indices, month_labels)\n",
    "plt.xticks(rotation=45)\n",
    "plt.show()"
   ]
  },
  {
   "cell_type": "markdown",
   "metadata": {},
   "source": [
    "### Calls"
   ]
  },
  {
   "cell_type": "code",
   "execution_count": 36,
   "metadata": {
    "scrolled": true
   },
   "outputs": [
    {
     "data": {
      "image/png": "[encoded data removed]",
      "text/plain": [
       "<Figure size 432x288 with 1 Axes>"
      ]
     },
     "metadata": {
      "needs_background": "light"
     },
     "output_type": "display_data"
    }
   ],
   "source": [
    "# Compare average duration of calls per each plan per each distinct month.\n",
    "av_duration_per_month_surf = surf_monthly_call_data.groupby('month')['minutes'].mean().rename('surf')\n",
    "av_duration_per_month_ultimate = ultimate_monthly_call_data.groupby('month')['minutes'].mean().rename('ultimate')\n",
    "\n",
    "duration_per_plan_per_month = pd.concat([\n",
    "    av_duration_per_month_surf, av_duration_per_month_ultimate\n",
    "    ], axis='columns').reset_index()\n",
    "\n",
    "duration_per_plan_per_month.plot(x='month', kind='bar')\n",
    "plt.title('Seasonal Call Usage By Plan')\n",
    "plt.ylabel('Average Minutes Used (min)')\n",
    "plt.xlabel('Month')\n",
    "plt.xticks(month_indices, month_labels)\n",
    "plt.xticks(rotation=45)\n",
    "plt.show()"
   ]
  },
  {
   "cell_type": "markdown",
   "metadata": {},
   "source": [
    "Based on the above graph, there does not seem to be a significant difference between average call durations between plans, which we will confirm later."
   ]
  },
  {
   "cell_type": "code",
   "execution_count": 37,
   "metadata": {
    "scrolled": true
   },
   "outputs": [
    {
     "data": {
      "image/png": "[encoded data removed]",
      "text/plain": [
       "<Figure size 432x288 with 1 Axes>"
      ]
     },
     "metadata": {
      "needs_background": "light"
     },
     "output_type": "display_data"
    }
   ],
   "source": [
    "# Compare the number of minutes users of each plan require each month. Plot a histogram.\n",
    "surf_monthly_call_data['minutes'].plot(\n",
    "    kind='hist',\n",
    "    bins=30,\n",
    "    title='Monthly Phone Usage Distribution'\n",
    ")\n",
    "ultimate_monthly_call_data['minutes'].plot(\n",
    "    kind='hist',\n",
    "    bins=30,\n",
    "    alpha=0.6)\n",
    "plt.legend(['surf', 'ultimate'])\n",
    "plt.xlabel('Monthly Usage (min)')\n",
    "plt.show()"
   ]
  },
  {
   "cell_type": "markdown",
   "metadata": {},
   "source": [
    "The distributions are somewhat similar, indicating that having higher minute limits of the ultimate plan does not influence user behavior, and the average user will have comparable phone use regardless of plan."
   ]
  },
  {
   "cell_type": "markdown",
   "metadata": {},
   "source": [
    "<div class=\"alert alert-block alert-success\">✔️\n",
    "    \n",
    "\n",
    "__Reviewer's comment №1__\n",
    "\n",
    "I agree"
   ]
  },
  {
   "cell_type": "code",
   "execution_count": 38,
   "metadata": {},
   "outputs": [
    {
     "name": "stdout",
     "output_type": "stream",
     "text": [
      "Mean and variance of monthly call minutes used\n"
     ]
    },
    {
     "data": {
      "text/html": [
       "<div>\n",
       "<style scoped>\n",
       "    .dataframe tbody tr th:only-of-type {\n",
       "        vertical-align: middle;\n",
       "    }\n",
       "\n",
       "    .dataframe tbody tr th {\n",
       "        vertical-align: top;\n",
       "    }\n",
       "\n",
       "    .dataframe thead th {\n",
       "        text-align: right;\n",
       "    }\n",
       "</style>\n",
       "<table border=\"1\" class=\"dataframe\">\n",
       "  <thead>\n",
       "    <tr style=\"text-align: right;\">\n",
       "      <th></th>\n",
       "      <th>mean</th>\n",
       "      <th>variance</th>\n",
       "    </tr>\n",
       "  </thead>\n",
       "  <tbody>\n",
       "    <tr>\n",
       "      <th>surf</th>\n",
       "      <td>428.804264</td>\n",
       "      <td>55298.997217</td>\n",
       "    </tr>\n",
       "    <tr>\n",
       "      <th>ultimate</th>\n",
       "      <td>430.151130</td>\n",
       "      <td>57986.388177</td>\n",
       "    </tr>\n",
       "  </tbody>\n",
       "</table>\n",
       "</div>"
      ],
      "text/plain": [
       "                mean      variance\n",
       "surf      428.804264  55298.997217\n",
       "ultimate  430.151130  57986.388177"
      ]
     },
     "metadata": {},
     "output_type": "display_data"
    }
   ],
   "source": [
    "# Calculate the mean and the variance of the monthly call duration\n",
    "surf_mean_monthly_minutes = surf_monthly_call_data['minutes'].mean()\n",
    "surf_var_monthly_minutes = np.var(surf_monthly_call_data['minutes'])\n",
    "\n",
    "ultimate_mean_monthly_minutes = ultimate_monthly_call_data['minutes'].mean()\n",
    "ultimate_var_monthly_minutes = np.var(ultimate_monthly_call_data['minutes'])\n",
    "\n",
    "# Print\n",
    "print('Mean and variance of monthly call minutes used')\n",
    "display(pd.DataFrame([[\n",
    "    surf_mean_monthly_minutes, surf_var_monthly_minutes\n",
    "], [\n",
    "    ultimate_mean_monthly_minutes, ultimate_var_monthly_minutes\n",
    "]], columns=[\n",
    "    'mean', 'variance',\n",
    "], index=[\n",
    "    'surf', 'ultimate'\n",
    "]))"
   ]
  },
  {
   "cell_type": "code",
   "execution_count": 39,
   "metadata": {},
   "outputs": [
    {
     "data": {
      "image/png": "[encoded data removed]",
      "text/plain": [
       "<Figure size 432x288 with 1 Axes>"
      ]
     },
     "metadata": {
      "needs_background": "light"
     },
     "output_type": "display_data"
    }
   ],
   "source": [
    "# Plot a boxplot to visualize the distribution of the monthly call duration\n",
    "plt.boxplot([surf_monthly_call_data['minutes'], ultimate_monthly_call_data['minutes']])\n",
    "plt.xticks([1, 2], ['surf', 'ultimate'])\n",
    "plt.ylabel('Monthly Usage (min)')\n",
    "plt.title('Monthly Call Duration Distribution is Similar Betwen Plans')\n",
    "plt.show()\n"
   ]
  },
  {
   "cell_type": "markdown",
   "metadata": {},
   "source": [
    "Given the above visualizations and near-identical means and variances, there is no statistical difference in the user populations. If we theorize on the null hypothesis that there is no difference between the two population means, we cannot reject the hypothesis even with a generous alpha value of 0.1."
   ]
  },
  {
   "cell_type": "code",
   "execution_count": 40,
   "metadata": {},
   "outputs": [
    {
     "name": "stdout",
     "output_type": "stream",
     "text": [
      "P value equals 0.901243968806006 and we cannot reject the null hypothesis.\n"
     ]
    }
   ],
   "source": [
    "#Testing null hypothesis for two independent population means being equal\n",
    "minutes_results = st.ttest_ind(surf_monthly_call_data['minutes'], ultimate_monthly_call_data['minutes'], equal_var=False)\n",
    "print(f\"P value equals {minutes_results.pvalue} and we cannot reject the null hypothesis.\")"
   ]
  },
  {
   "cell_type": "markdown",
   "metadata": {},
   "source": [
    " "
   ]
  },
  {
   "cell_type": "markdown",
   "metadata": {},
   "source": [
    "### Messages"
   ]
  },
  {
   "cell_type": "code",
   "execution_count": 41,
   "metadata": {},
   "outputs": [
    {
     "data": {
      "image/png": "[encoded data removed]",
      "text/plain": [
       "<Figure size 432x288 with 1 Axes>"
      ]
     },
     "metadata": {
      "needs_background": "light"
     },
     "output_type": "display_data"
    }
   ],
   "source": [
    "# Compare the number of messages users of each plan tend to send each month\n",
    "av_messages_per_month_surf = surf_monthly_message_data.groupby('month')['messages'].mean().rename('surf')\n",
    "av_messages_per_month_ultimate = ultimate_monthly_message_data.groupby('month')['messages'].mean().rename('ultimate')\n",
    "\n",
    "av_messages_per_month_per_plan = pd.concat([\n",
    "    av_messages_per_month_surf, av_messages_per_month_ultimate\n",
    "    ], axis='columns').reset_index()\n",
    "\n",
    "av_messages_per_month_per_plan.plot(x='month', kind='bar')\n",
    "plt.title('Seasonal Messages By Plan')\n",
    "plt.ylabel('Average Number of User messages')\n",
    "plt.xlabel('Month')\n",
    "plt.xticks(month_indices, month_labels)\n",
    "plt.xticks(rotation=45)\n",
    "plt.show()"
   ]
  },
  {
   "cell_type": "markdown",
   "metadata": {},
   "source": [
    "The ultimate users tend to have higher message usage -- by an average of about 5 or 6 messages more per month. The average number of messages does go up for both plans as the months go on. This might be due to database tracking or some industry forces we don't understand. It seems odd that the jump from December back to January would be so drastic and not follow a cyclic distribution."
   ]
  },
  {
   "cell_type": "code",
   "execution_count": 42,
   "metadata": {},
   "outputs": [
    {
     "data": {
      "image/png": "[encoded data removed]",
      "text/plain": [
       "<Figure size 432x288 with 1 Axes>"
      ]
     },
     "metadata": {
      "needs_background": "light"
     },
     "output_type": "display_data"
    }
   ],
   "source": [
    "# Plot a boxplot to visualize the distribution of the monthly message usage\n",
    "plt.boxplot([surf_monthly_message_data['messages'], ultimate_monthly_message_data['messages']])\n",
    "plt.xticks([1, 2], ['surf', 'ultimate'])\n",
    "plt.ylabel('Monthly User Messages')\n",
    "plt.title('Monthly Messages Between Plans')\n",
    "plt.show()"
   ]
  },
  {
   "cell_type": "markdown",
   "metadata": {},
   "source": [
    "The boxplot is a great visualization of the average difference in plans. The Surf plan has more extreme outliers, but is more negatively skewed overall. Let's look at the null hypothesis that the populations are equal:"
   ]
  },
  {
   "cell_type": "code",
   "execution_count": 43,
   "metadata": {},
   "outputs": [
    {
     "name": "stdout",
     "output_type": "stream",
     "text": [
      "Surf mean: 31.11 messages\n",
      "Ultimate mean: 37.80 messages\n",
      "P value equals 2.08670769063168e-05 and we can reject the null hypothesis under strict alpha of 0.01.\n"
     ]
    }
   ],
   "source": [
    "# Means of the message usage of each plan\n",
    "av_surf_messages = surf_monthly_message_data['messages'].mean()\n",
    "av_ultimate_messages = ultimate_monthly_message_data['messages'].mean()\n",
    "\n",
    "# Print\n",
    "print('Surf mean: {:.2f} messages'.format(av_surf_messages))\n",
    "print('Ultimate mean: {:.2f} messages'.format(av_ultimate_messages))\n",
    "\n",
    "# Test null hypothesis of equal population means\n",
    "messages_results = st.ttest_ind(surf_monthly_message_data['messages'], ultimate_monthly_message_data['messages'], equal_var=False)\n",
    "print(f\"P value equals {messages_results.pvalue} and we can reject the null hypothesis under strict alpha of 0.01.\")"
   ]
  },
  {
   "cell_type": "markdown",
   "metadata": {},
   "source": [
    "The Ultimate plan users have higher message use across the board, and yet still never go over the 1000 text message monthly limit. That would be nearly 33 messages a day; no Ultimate user appears to get even a quarter of the way to that limit."
   ]
  },
  {
   "cell_type": "markdown",
   "metadata": {},
   "source": [
    "### Internet"
   ]
  },
  {
   "cell_type": "code",
   "execution_count": 44,
   "metadata": {},
   "outputs": [
    {
     "data": {
      "image/png": "[encoded data removed]",
      "text/plain": [
       "<Figure size 432x288 with 1 Axes>"
      ]
     },
     "metadata": {
      "needs_background": "light"
     },
     "output_type": "display_data"
    }
   ],
   "source": [
    "# Compare the number of gb users of each plan tend to use each month\n",
    "av_gb_per_month_surf = surf_monthly_gb_used_data.groupby('month')['gb_used'].mean().rename('surf')\n",
    "av_gb_per_month_ultimate = ultimate_monthly_gb_used_data.groupby('month')['gb_used'].mean().rename('ultimate')\n",
    "\n",
    "av_gb_per_month_per_plan = pd.concat([\n",
    "    av_gb_per_month_surf, av_gb_per_month_ultimate\n",
    "    ], axis='columns').reset_index()\n",
    "\n",
    "av_gb_per_month_per_plan.plot(x='month', kind='bar')\n",
    "plt.title('Seasonal Data Usage By Plan')\n",
    "plt.ylabel('Average Internet Data Used (GB)')\n",
    "plt.xlabel('Month')\n",
    "plt.xticks(month_indices, month_labels)\n",
    "plt.xticks(rotation=45)\n",
    "plt.show()"
   ]
  },
  {
   "cell_type": "markdown",
   "metadata": {},
   "source": [
    "Ultimate users tend to have higher data usage -- but primarily in the early months in the year. There are a couple months where Surf users outpace Ultimate users' data usage. As we will see below, this difference in the early months does not ultimately correspond"
   ]
  },
  {
   "cell_type": "code",
   "execution_count": 45,
   "metadata": {},
   "outputs": [
    {
     "data": {
      "image/png": "[encoded data removed]",
      "text/plain": [
       "<Figure size 432x288 with 1 Axes>"
      ]
     },
     "metadata": {
      "needs_background": "light"
     },
     "output_type": "display_data"
    }
   ],
   "source": [
    "# Plot a boxplot to visualize the distribution of the monthly gb usage\n",
    "plt.boxplot([surf_monthly_gb_used_data['gb_used'], ultimate_monthly_gb_used_data['gb_used']])\n",
    "plt.xticks([1, 2], ['surf', 'ultimate'])\n",
    "plt.ylabel('Monthly User Data (GB)')\n",
    "plt.title('Data Usage Between Plans')\n",
    "plt.show()"
   ]
  },
  {
   "cell_type": "markdown",
   "metadata": {},
   "source": [
    "The boxplot is a great visualization of the average difference in plans. The distributions of data usage appear to be very similar. Let's look at the null hypothesis that the populations are equal:"
   ]
  },
  {
   "cell_type": "code",
   "execution_count": 46,
   "metadata": {},
   "outputs": [
    {
     "name": "stdout",
     "output_type": "stream",
     "text": [
      "Surf mean: 16.67 GB\n",
      "Ultimate mean: 17.33 GB\n",
      "P value equals 0.05942637578176711 and we cannot reject the null hypothesis under alpha of 0.05.\n"
     ]
    }
   ],
   "source": [
    "# Means of the gb usage of each plan\n",
    "av_surf_gb_used = surf_monthly_gb_used_data['gb_used'].mean()\n",
    "av_ultimate_gb_used = ultimate_monthly_gb_used_data['gb_used'].mean()\n",
    "\n",
    "# Print\n",
    "print('Surf mean: {:.2f} GB'.format(av_surf_gb_used))\n",
    "print('Ultimate mean: {:.2f} GB'.format(av_ultimate_gb_used))\n",
    "\n",
    "# Test null hypothesis of equal population means\n",
    "gb_results = st.ttest_ind(surf_monthly_gb_used_data['gb_used'], ultimate_monthly_gb_used_data['gb_used'], equal_var=False)\n",
    "print(f\"P value equals {gb_results.pvalue} and we cannot reject the null hypothesis under alpha of 0.05.\")"
   ]
  },
  {
   "cell_type": "markdown",
   "metadata": {},
   "source": [
    "While there is no significant difference between data usage between plans, we can see that over half of Surf users go over their monthly data allotment of 15 GB of data. This is where most of the profitability of the Surf plan will come from, compared to message and call use. Only a small proportion of Ultimate users go over their monthly data allotment of 30 GB."
   ]
  },
  {
   "cell_type": "markdown",
   "metadata": {},
   "source": [
    "## Revenue"
   ]
  },
  {
   "cell_type": "markdown",
   "metadata": {},
   "source": [
    "[Likewise you have studied the user behaviour, statistically describe the revenue between the plans.]"
   ]
  },
  {
   "cell_type": "code",
   "execution_count": 47,
   "metadata": {},
   "outputs": [
    {
     "data": {
      "image/png": "[encoded data removed]",
      "text/plain": [
       "<Figure size 432x288 with 1 Axes>"
      ]
     },
     "metadata": {
      "needs_background": "light"
     },
     "output_type": "display_data"
    }
   ],
   "source": [
    "# Compare the average user revenue from each plan over the months (NOT GROSS REVENUE)\n",
    "av_rev_per_user_per_month_surf = surf_monthly_user_data.groupby('month')['monthly_charge'].mean().rename('surf')\n",
    "av_rev_per_user_per_ultimate = ultimate_monthly_user_data.groupby('month')['monthly_charge'].mean().rename('ultimate')\n",
    "\n",
    "av_rev_per_user_per_plan = pd.concat([\n",
    "    av_rev_per_user_per_month_surf, av_rev_per_user_per_ultimate\n",
    "    ], axis='columns').reset_index()\n",
    "\n",
    "av_rev_per_user_per_plan.plot(x='month', kind='bar')\n",
    "plt.title('Seasonal Average Monthly Bill By Plan')\n",
    "plt.ylabel('Average User\\'s Bill (USD)')\n",
    "plt.xlabel('Month')\n",
    "plt.xticks(month_indices, month_labels)\n",
    "plt.xticks(rotation=45)\n",
    "plt.show()"
   ]
  },
  {
   "cell_type": "markdown",
   "metadata": {},
   "source": [
    "The average bill sent to each Ultimate customer does not fluctuate over the months, while the average Surf user increases as the year goes on, primarily driven by increased data usage.\n",
    "\n",
    "More importantly, users on the Ultimate plan are always charged more on average, even when Surf users dramatically go past their monthly data usage and incur hefty costs. In terms of per-user profitability, the Ultimate plan wins out. "
   ]
  },
  {
   "cell_type": "code",
   "execution_count": 48,
   "metadata": {},
   "outputs": [
    {
     "data": {
      "image/png": "[encoded data removed]",
      "text/plain": [
       "<Figure size 432x288 with 1 Axes>"
      ]
     },
     "metadata": {
      "needs_background": "light"
     },
     "output_type": "display_data"
    },
    {
     "name": "stdout",
     "output_type": "stream",
     "text": [
      "Surf Annual Gross Revenue: 93888.11 USD\n",
      "Ultimate Annual Gross Revenue: 51226.00 USD\n",
      "Total Annual Gross Revenue: 145114.11 USD\n"
     ]
    }
   ],
   "source": [
    "# Compare the gross revenue from each plan over the months (NOT GROSS REVENUE)\n",
    "rev_per_month_surf = surf_monthly_user_data.groupby('month')['monthly_charge'].sum().rename('surf')\n",
    "rev_per_month_ultimate = ultimate_monthly_user_data.groupby('month')['monthly_charge'].sum().rename('ultimate')\n",
    "\n",
    "rev_per_month_per_plan = pd.concat([\n",
    "    rev_per_month_surf, rev_per_month_ultimate\n",
    "    ], axis='columns').reset_index()\n",
    "\n",
    "rev_per_month_per_plan.plot(x='month', kind='bar')\n",
    "plt.title('Gross Monthly Revenue By Plan')\n",
    "plt.ylabel('Total Monthly Revenue (USD)')\n",
    "plt.xlabel('Month')\n",
    "plt.xticks(month_indices, month_labels)\n",
    "plt.xticks(rotation=45)\n",
    "plt.show()\n",
    "\n",
    "# Print Annual Gross Revenue\n",
    "print('Surf Annual Gross Revenue: {:.2f} USD'.format(rev_per_month_surf.sum()))\n",
    "print('Ultimate Annual Gross Revenue: {:.2f} USD'.format(rev_per_month_ultimate.sum()))\n",
    "print('Total Annual Gross Revenue: {:.2f} USD'.format(rev_per_month_surf.sum() + rev_per_month_ultimate.sum()))"
   ]
  },
  {
   "cell_type": "markdown",
   "metadata": {},
   "source": [
    "The total revenue distribution from each plan roughly matches the user distribution demonstrated in Section 1.7.1. While we determined that the per-user profitability of the Ultimate plan was superior, because there are more than twice as many annual Surf users, the gross revenue generated from Surf users is greater."
   ]
  },
  {
   "cell_type": "markdown",
   "metadata": {},
   "source": [
    "<div class=\"alert alert-block alert-success\">✔️\n",
    "    \n",
    "\n",
    "__Reviewer's comment №1__\n",
    "\n",
    "All right"
   ]
  },
  {
   "cell_type": "markdown",
   "metadata": {},
   "source": [
    "## Test statistical hypotheses"
   ]
  },
  {
   "cell_type": "markdown",
   "metadata": {},
   "source": [
    "We will first look at the first revenue set from the last section: comparing average monthly charges between plans. We believe the Ultimate plan mean is greater than the Surf plan mean, and so we will do a 1-sided t-test with the alternative hypothesis \"The Ultimate plan monthly charge mean is greater than the Surf plan monthly charge mean.\" The null hypothesis is that \"the Ultimate plan monthly charges are not significantly different than the Surf plan monthly charges. We'll use a strict critical significance level of 0.01."
   ]
  },
  {
   "cell_type": "markdown",
   "metadata": {},
   "source": [
    "<div class=\"alert alert-block alert-danger\">✍\n",
    "    \n",
    "\n",
    "__Reviewer's comment №1__\n",
    "\n",
    "Before administering the test, you need to formulate the No and H1. Please add"
   ]
  },
  {
   "cell_type": "markdown",
   "metadata": {},
   "source": [
    "<div class=\"alert alert-info\"> <b>Student сomments:</b>Made sure a null and alternative hypothesis exist</div>"
   ]
  },
  {
   "cell_type": "markdown",
   "metadata": {},
   "source": [
    "<div class=\"alert alert-block alert-success\">✔️\n",
    "    \n",
    "\n",
    "__Reviewer's comment №2__\n",
    "\n",
    "Correct"
   ]
  },
  {
   "cell_type": "code",
   "execution_count": 49,
   "metadata": {},
   "outputs": [
    {
     "name": "stdout",
     "output_type": "stream",
     "text": [
      "P value equals 8.527589199174948e-112.\n",
      "We can reject the null hypothesis.\n"
     ]
    }
   ],
   "source": [
    "# Test the hypotheses under strict critical significance\n",
    "alpha = 0.01\n",
    "av_revenue_results = st.ttest_1samp(ultimate_monthly_user_data['monthly_charge'], surf_monthly_user_data['monthly_charge'].mean())\n",
    "surf_mean = surf_monthly_user_data['monthly_charge'].mean()\n",
    "ultimate_mean = ultimate_monthly_user_data['monthly_charge'].mean()\n",
    "\n",
    "# Print\n",
    "print(f\"P value equals {av_revenue_results.pvalue / 2}.\")\n",
    "if (av_revenue_results.pvalue / 2 < alpha) and (ultimate_mean > surf_mean):\n",
    "    print('We can reject the null hypothesis.')\n",
    "else:\n",
    "    print('We cannot reject the null hypothesis.')"
   ]
  },
  {
   "cell_type": "markdown",
   "metadata": {},
   "source": [
    "The data would support the alternative hypothesis that the Ultimate plan monthly charge tends to be more than the Surf plan monthly charge.\n",
    "\n",
    "Next, we have a suspicion that users in the NY-NJ area pay a different amount than the other regions. This alternative hypothesis is different from our past hypotheses as it does not care about what plan users are on. We'll split the data based only on user region, and compare the sample means with a 2-sided t-test since we don't care about whether it is greater or less than the other regions' monthly charges."
   ]
  },
  {
   "cell_type": "code",
   "execution_count": 50,
   "metadata": {
    "scrolled": true
   },
   "outputs": [
    {
     "name": "stdout",
     "output_type": "stream",
     "text": [
      "P value equals 1.7055178398349897e-111.\n",
      "We can reject the null hypothesis.\n"
     ]
    }
   ],
   "source": [
    "# Test the hypotheses\n",
    "# New York-Newark-Jersey City, NY-NJ-PA MSA\n",
    "\n",
    "# Test the hypotheses under moderate critical significance\n",
    "alpha = 0.01\n",
    "NY_revenues = agg_monthly_user_info.query('city == \"New York-Newark-Jersey City, NY-NJ-PA MSA\"')['monthly_charge']\n",
    "other_revenues = agg_monthly_user_info.query('city != \"New York-Newark-Jersey City, NY-NJ-PA MSA\"')['monthly_charge']\n",
    "\n",
    "NY_revenue_results = st.ttest_1samp(NY_revenues, other_revenues.mean())\n",
    "\n",
    "# Print\n",
    "print(f\"P value equals {av_revenue_results.pvalue}.\")\n",
    "if av_revenue_results.pvalue < alpha:\n",
    "    print('We can reject the null hypothesis.')\n",
    "else:\n",
    "    print('We cannot reject the null hypothesis.')"
   ]
  },
  {
   "cell_type": "markdown",
   "metadata": {},
   "source": [
    "The data would support the alternative hypothesis that those from the NY-NJ area pay a different amount than the other regions."
   ]
  },
  {
   "cell_type": "markdown",
   "metadata": {},
   "source": [
    "## General conclusion\n",
    "\n",
    "Our top conclusions, given that the Megaline commercial department wants to know which plan brings in more revenue, are firstly that Ultimate plan users on average pay more than Surf users. However, it is not so drastic a difference that they are necessarily the priority for marketing, as Surf users account for nearly twice the annual revenue (93,887.67 USD for Surf users compared to Ultimate users' 51,226.00 USD) and twice the number of clients (339 users in 2018 on Surf plan compared to 161 Ultimate users). Still, microeconomics cares about marginal revenue and cost per unit bought and sold, so from that perspective acquiring one more Ultimate user is statistically superior to acquiring one more Surf user.\n",
    "\n",
    "One other important conclusion is that the Surf plan primarily generates income from users going over their data limit. We can see from the graphs in Section 1.7 that over half of Surf users went over their data limit, while virtually none of them went over their call or message limits. Section 1.8 showed us that the Ultimate average charge to users hovered just above 70 USD every month, which is the base cost of the plan ignoring additional overcharges. The Surf average charge to users, however, varied drastically, directly correlated to their data usage from Section 1.7.4.\n",
    "\n",
    "Finally, our last conclusion is that some regions differ in their behavior and their profitability than others. The NY-NJ area has different behavior, for example, than the rest of the regions. It is worth looking at regional differences and regional profitability to determine the best markets to advertise."
   ]
  },
  {
   "cell_type": "markdown",
   "metadata": {},
   "source": [
    "<div class=\"alert alert-block alert-success\">✔️\n",
    "    \n",
    "\n",
    "__Reviewer's comment №1__\n",
    "\n",
    "You've done a great job. There are a few things that need to be fixed"
   ]
  },
  {
   "cell_type": "markdown",
   "metadata": {},
   "source": []
  },
  {
   "cell_type": "markdown",
   "metadata": {},
   "source": [
    "<div class=\"alert alert-block alert-success\">✔️\n",
    "    \n",
    "\n",
    "__Reviewer's comment №2__\n",
    "\n",
    "\n",
    "Otherwise it's great😊. Your project is begging for github =)   \n",
    "    \n",
    "Congratulations on the successful completion of the project 😊👍\n",
    "And I wish you success in new works 😊"
   ]
  },
  {
   "cell_type": "markdown",
   "metadata": {},
   "source": [
    " "
   ]
  }
 ],
 "metadata": {
  "ExecuteTimeLog": [
   {
    "duration": 828,
    "start_time": "2021-11-16T09:21:11.304Z"
   },
   {
    "duration": 893,
    "start_time": "2021-11-16T09:21:17.728Z"
   },
   {
    "duration": 1150,
    "start_time": "2021-11-16T09:21:29.568Z"
   },
   {
    "duration": 3,
    "start_time": "2021-11-16T09:24:14.495Z"
   },
   {
    "duration": 120,
    "start_time": "2021-11-16T09:24:46.630Z"
   },
   {
    "duration": 3,
    "start_time": "2021-11-16T09:28:27.882Z"
   },
   {
    "duration": 4,
    "start_time": "2021-11-16T09:29:54.281Z"
   },
   {
    "duration": 3,
    "start_time": "2021-11-16T09:30:45.936Z"
   },
   {
    "duration": 4,
    "start_time": "2021-11-16T09:31:06.300Z"
   },
   {
    "duration": 113,
    "start_time": "2021-11-16T09:31:37.208Z"
   },
   {
    "duration": 143,
    "start_time": "2021-11-16T09:31:48.656Z"
   },
   {
    "duration": 98,
    "start_time": "2021-11-16T09:31:55.678Z"
   },
   {
    "duration": 3,
    "start_time": "2021-11-16T09:32:08.535Z"
   },
   {
    "duration": 111,
    "start_time": "2021-11-16T09:32:10.120Z"
   },
   {
    "duration": 3,
    "start_time": "2021-11-16T09:32:15.732Z"
   },
   {
    "duration": 4,
    "start_time": "2021-11-16T09:32:29.423Z"
   },
   {
    "duration": 3,
    "start_time": "2021-11-16T10:03:03.074Z"
   },
   {
    "duration": 3,
    "start_time": "2021-11-16T10:10:01.288Z"
   },
   {
    "duration": 3,
    "start_time": "2021-11-16T10:10:46.923Z"
   },
   {
    "duration": 121,
    "start_time": "2021-11-16T10:37:46.494Z"
   },
   {
    "duration": 125,
    "start_time": "2021-11-16T10:38:20.632Z"
   },
   {
    "duration": 112,
    "start_time": "2021-11-16T10:46:53.001Z"
   },
   {
    "duration": 110,
    "start_time": "2021-11-16T10:48:25.775Z"
   },
   {
    "duration": 3,
    "start_time": "2021-11-16T10:50:18.720Z"
   },
   {
    "duration": 4,
    "start_time": "2021-11-16T10:50:37.649Z"
   },
   {
    "duration": 2,
    "start_time": "2021-11-16T10:50:51.884Z"
   },
   {
    "duration": 3,
    "start_time": "2021-11-16T10:51:56.237Z"
   },
   {
    "duration": 101,
    "start_time": "2021-11-16T10:53:13.791Z"
   },
   {
    "duration": 3,
    "start_time": "2021-11-16T10:55:59.186Z"
   },
   {
    "duration": 3,
    "start_time": "2021-11-16T10:56:10.751Z"
   },
   {
    "duration": 3,
    "start_time": "2021-11-16T10:56:49.038Z"
   },
   {
    "duration": 3,
    "start_time": "2021-11-16T10:56:49.174Z"
   },
   {
    "duration": 4,
    "start_time": "2021-11-16T10:56:49.414Z"
   },
   {
    "duration": 3,
    "start_time": "2021-11-16T10:56:49.680Z"
   },
   {
    "duration": 3,
    "start_time": "2021-11-16T10:56:50.370Z"
   },
   {
    "duration": 114,
    "start_time": "2021-11-16T10:59:34.518Z"
   },
   {
    "duration": 3,
    "start_time": "2021-11-16T11:01:41.201Z"
   },
   {
    "duration": 116,
    "start_time": "2021-11-16T11:01:48.754Z"
   },
   {
    "duration": 3,
    "start_time": "2021-11-16T11:02:16.685Z"
   },
   {
    "duration": 3,
    "start_time": "2021-11-16T11:02:19.479Z"
   },
   {
    "duration": 3,
    "start_time": "2021-11-16T11:02:47.067Z"
   },
   {
    "duration": 3,
    "start_time": "2021-11-16T11:02:49.353Z"
   },
   {
    "duration": 3,
    "start_time": "2021-11-16T11:03:07.835Z"
   },
   {
    "duration": 3,
    "start_time": "2021-11-16T11:03:07.953Z"
   },
   {
    "duration": 112,
    "start_time": "2021-11-16T11:07:52.072Z"
   },
   {
    "duration": 187,
    "start_time": "2021-11-16T11:09:23.468Z"
   },
   {
    "duration": 4,
    "start_time": "2021-11-16T11:10:01.455Z"
   },
   {
    "duration": 3,
    "start_time": "2021-11-16T11:10:05.069Z"
   },
   {
    "duration": 4,
    "start_time": "2021-11-16T11:10:13.376Z"
   },
   {
    "duration": 3,
    "start_time": "2021-11-16T11:10:14.434Z"
   },
   {
    "duration": 3,
    "start_time": "2021-11-16T11:10:22.853Z"
   },
   {
    "duration": 4,
    "start_time": "2021-11-16T11:27:29.279Z"
   },
   {
    "duration": 4,
    "start_time": "2021-11-16T11:29:08.919Z"
   },
   {
    "duration": 118,
    "start_time": "2021-11-16T11:29:46.703Z"
   },
   {
    "duration": 437,
    "start_time": "2021-11-16T11:36:02.181Z"
   },
   {
    "duration": 157,
    "start_time": "2021-11-16T11:36:14.388Z"
   },
   {
    "duration": 207,
    "start_time": "2021-11-16T11:47:15.898Z"
   },
   {
    "duration": 3,
    "start_time": "2021-11-16T11:53:52.092Z"
   },
   {
    "duration": 3,
    "start_time": "2021-11-16T11:53:52.236Z"
   },
   {
    "duration": 3,
    "start_time": "2021-11-16T11:59:12.005Z"
   },
   {
    "duration": 112,
    "start_time": "2021-11-16T12:00:33.446Z"
   },
   {
    "duration": 3,
    "start_time": "2021-11-16T12:02:14.453Z"
   },
   {
    "duration": 3,
    "start_time": "2021-11-16T12:02:39.512Z"
   },
   {
    "duration": 106,
    "start_time": "2021-11-16T12:03:03.460Z"
   },
   {
    "duration": 3,
    "start_time": "2021-11-17T20:37:21.139Z"
   },
   {
    "duration": 3,
    "start_time": "2021-11-17T20:37:22.229Z"
   },
   {
    "duration": 3,
    "start_time": "2021-11-17T20:38:38.806Z"
   },
   {
    "duration": 3,
    "start_time": "2021-11-17T20:38:41.958Z"
   },
   {
    "duration": 3,
    "start_time": "2021-11-17T20:43:46.551Z"
   },
   {
    "duration": 4,
    "start_time": "2021-11-17T20:58:21.835Z"
   },
   {
    "duration": 3,
    "start_time": "2021-11-17T20:59:21.872Z"
   },
   {
    "duration": 4,
    "start_time": "2021-11-17T20:59:45.352Z"
   },
   {
    "duration": 4,
    "start_time": "2021-11-17T20:59:49.646Z"
   },
   {
    "duration": 159,
    "start_time": "2021-11-17T21:02:26.949Z"
   },
   {
    "duration": 3,
    "start_time": "2021-11-17T21:03:53.461Z"
   },
   {
    "duration": 3,
    "start_time": "2021-11-17T21:03:53.694Z"
   },
   {
    "duration": 3,
    "start_time": "2021-11-17T21:05:28.145Z"
   },
   {
    "duration": 116,
    "start_time": "2021-11-17T21:05:57.787Z"
   },
   {
    "duration": 3,
    "start_time": "2021-11-17T21:06:37.993Z"
   },
   {
    "duration": 3,
    "start_time": "2021-11-17T21:06:38.261Z"
   },
   {
    "duration": 3,
    "start_time": "2021-11-17T21:11:54.358Z"
   },
   {
    "duration": 3,
    "start_time": "2021-11-17T21:12:43.846Z"
   },
   {
    "duration": 4,
    "start_time": "2021-11-17T21:13:08.773Z"
   },
   {
    "duration": 3,
    "start_time": "2021-11-17T21:14:44.441Z"
   },
   {
    "duration": 3,
    "start_time": "2021-11-17T21:15:42.059Z"
   },
   {
    "duration": 4,
    "start_time": "2021-11-17T21:15:51.995Z"
   },
   {
    "duration": 3,
    "start_time": "2021-11-17T21:15:53.923Z"
   },
   {
    "duration": 3,
    "start_time": "2021-11-17T21:15:55.282Z"
   },
   {
    "duration": 3,
    "start_time": "2021-11-17T21:16:28.492Z"
   },
   {
    "duration": 3,
    "start_time": "2021-11-17T21:16:32.603Z"
   },
   {
    "duration": 3,
    "start_time": "2021-11-17T21:17:06.941Z"
   },
   {
    "duration": 98,
    "start_time": "2021-11-17T21:18:05.733Z"
   },
   {
    "duration": 4,
    "start_time": "2021-11-17T21:21:35.255Z"
   },
   {
    "duration": 3,
    "start_time": "2021-11-17T21:21:37.804Z"
   },
   {
    "duration": 4,
    "start_time": "2021-11-17T21:23:06.071Z"
   },
   {
    "duration": 3,
    "start_time": "2021-11-17T21:23:24.799Z"
   },
   {
    "duration": 3,
    "start_time": "2021-11-17T21:23:32.591Z"
   },
   {
    "duration": 98,
    "start_time": "2021-11-17T21:28:31.559Z"
   },
   {
    "duration": 3,
    "start_time": "2021-11-17T21:28:45.448Z"
   },
   {
    "duration": 3,
    "start_time": "2021-11-17T21:29:17.303Z"
   },
   {
    "duration": 3,
    "start_time": "2021-11-17T21:29:29.617Z"
   },
   {
    "duration": 3,
    "start_time": "2021-11-17T21:29:32.681Z"
   },
   {
    "duration": 3,
    "start_time": "2021-11-17T21:36:11.474Z"
   },
   {
    "duration": 3,
    "start_time": "2021-11-17T21:36:14.791Z"
   },
   {
    "duration": 3,
    "start_time": "2021-11-17T21:36:53.943Z"
   },
   {
    "duration": 3,
    "start_time": "2021-11-17T21:36:56.165Z"
   },
   {
    "duration": 4,
    "start_time": "2021-11-17T21:37:16.590Z"
   },
   {
    "duration": 3,
    "start_time": "2021-11-17T21:37:22.702Z"
   },
   {
    "duration": 4,
    "start_time": "2021-11-17T21:38:03.479Z"
   },
   {
    "duration": 3,
    "start_time": "2021-11-17T21:38:08.601Z"
   },
   {
    "duration": 3,
    "start_time": "2021-11-17T21:38:12.928Z"
   },
   {
    "duration": 3,
    "start_time": "2021-11-17T21:38:48.896Z"
   },
   {
    "duration": 2,
    "start_time": "2021-11-17T21:38:49.171Z"
   },
   {
    "duration": 4,
    "start_time": "2021-11-17T21:39:57.889Z"
   },
   {
    "duration": 3,
    "start_time": "2021-11-17T21:39:58.057Z"
   },
   {
    "duration": 3,
    "start_time": "2021-11-17T21:41:20.108Z"
   },
   {
    "duration": 3,
    "start_time": "2021-11-17T21:41:20.629Z"
   },
   {
    "duration": 3,
    "start_time": "2021-11-17T21:42:49.136Z"
   },
   {
    "duration": 3,
    "start_time": "2021-11-17T21:43:15.137Z"
   },
   {
    "duration": 4,
    "start_time": "2021-11-17T21:43:16.766Z"
   },
   {
    "duration": 4,
    "start_time": "2021-11-17T21:43:31.711Z"
   },
   {
    "duration": 3,
    "start_time": "2021-11-17T21:43:36.312Z"
   },
   {
    "duration": 4,
    "start_time": "2021-11-17T21:45:08.825Z"
   },
   {
    "duration": 4,
    "start_time": "2021-11-17T21:45:10.119Z"
   },
   {
    "duration": 4,
    "start_time": "2021-11-17T21:45:13.748Z"
   },
   {
    "duration": 3,
    "start_time": "2021-11-17T21:45:22.219Z"
   },
   {
    "duration": 3,
    "start_time": "2021-11-17T21:45:33.412Z"
   },
   {
    "duration": 2,
    "start_time": "2021-11-17T21:46:01.885Z"
   },
   {
    "duration": 3,
    "start_time": "2021-11-17T21:46:03.628Z"
   },
   {
    "duration": 107,
    "start_time": "2021-11-17T21:47:32.512Z"
   },
   {
    "duration": 103,
    "start_time": "2021-11-17T21:50:36.243Z"
   },
   {
    "duration": 3,
    "start_time": "2021-11-18T06:28:31.440Z"
   },
   {
    "duration": 3,
    "start_time": "2021-11-18T06:29:00.168Z"
   },
   {
    "duration": 3,
    "start_time": "2021-11-18T06:31:27.008Z"
   },
   {
    "duration": 2,
    "start_time": "2021-11-18T06:35:34.288Z"
   },
   {
    "duration": 2,
    "start_time": "2021-11-18T06:38:04.527Z"
   }
  ],
  "kernelspec": {
   "display_name": "Python 3 (ipykernel)",
   "language": "python",
   "name": "python3"
  },
  "language_info": {
   "codemirror_mode": {
    "name": "ipython",
    "version": 3
   },
   "file_extension": ".py",
   "mimetype": "text/x-python",
   "name": "python",
   "nbconvert_exporter": "python",
   "pygments_lexer": "ipython3",
   "version": "3.9.19"
  },
  "toc": {
   "base_numbering": 1,
   "nav_menu": {},
   "number_sections": true,
   "sideBar": true,
   "skip_h1_title": false,
   "title_cell": "Table of Contents",
   "title_sidebar": "Contents",
   "toc_cell": false,
   "toc_position": {
    "height": "calc(100% - 180px)",
    "left": "10px",
    "top": "150px",
    "width": "410.66px"
   },
   "toc_section_display": true,
   "toc_window_display": true
  }
 },
 "nbformat": 4,
 "nbformat_minor": 2
}
